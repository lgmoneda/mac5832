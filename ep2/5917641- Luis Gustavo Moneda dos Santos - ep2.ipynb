{
 "cells": [
  {
   "cell_type": "code",
   "execution_count": 2,
   "metadata": {
    "collapsed": true
   },
   "outputs": [],
   "source": [
    "%matplotlib inline\n",
    "import matplotlib.pyplot as plt\n",
    "import numpy as np\n",
    "import PIL\n",
    "import cv2\n",
    "\n",
    "from mac0460_5832.utils import *"
   ]
  },
  {
   "cell_type": "code",
   "execution_count": 3,
   "metadata": {
    "collapsed": true
   },
   "outputs": [],
   "source": [
    "import pandas as pd\n",
    "import pdb\n",
    "import itertools\n",
    "from sklearn.metrics import precision_score, recall_score, f1_score\n",
    "from time import time\n",
    "from toolz import curry\n",
    "from joblib import Parallel, delayed\n",
    "from multiprocessing import cpu_count, Pool\n",
    "from tqdm import tnrange, tqdm_notebook\n",
    "import matplotlib.pyplot as plt"
   ]
  },
  {
   "cell_type": "code",
   "execution_count": 130,
   "metadata": {
    "collapsed": true
   },
   "outputs": [],
   "source": [
    "def find_center(a):\n",
    "    \"\"\"\n",
    "    a: array\n",
    "    \"\"\"\n",
    "    r = int(a.shape[0] / 2)\n",
    "    c = int(a.shape[1] / 2)\n",
    "    \n",
    "    return (r, c)\n",
    "\n",
    "def extract_window(image, W, stride=0):\n",
    "    ### Zero Padding\n",
    "    W_center = find_center(W)\n",
    "    vertical_shift = (W.shape[0] - 1) - W_center[0]\n",
    "    horizontal_shift = (W.shape[1] - 1) - W_center[1]\n",
    "    pad_width = max([vertical_shift, horizontal_shift])\n",
    "    im = np.pad(image, pad_width, mode=\"constant\", constant_values=0)\n",
    "    im = im * 1\n",
    "        \n",
    "    extracted = []\n",
    "    for i in range(int(image.shape[0] / (stride + 1))):\n",
    "        i += pad_width \n",
    "        i += i*stride\n",
    "        for j in range(int(image.shape[1] / (stride + 1))):\n",
    "            j += pad_width\n",
    "            j += j*stride\n",
    "            #pdb.set_trace()\n",
    "            extracted.append((W * im[i-vertical_shift:i+vertical_shift+1, j-horizontal_shift:j+horizontal_shift+1]).astype(int))\n",
    "                \n",
    "    return extracted\n",
    "\n",
    "def accuracy_score(y_true, y_pred):\n",
    "    pairs = list(zip(y_true, y_pred))\n",
    "    accuracies = [np.sum(pair[0] == pair[1]) / len(pair[0].flatten()) for pair in pairs]\n",
    "    return np.mean(np.array(accuracies))\n",
    "\n",
    "def mse_score(y_true, y_pred):\n",
    "    pairs = list(zip(y_true, y_pred))\n",
    "    mses = [np.mean(np.power(pair[0] - pair[1], 2)) for pair in pairs]\n",
    "    return np.mean(np.array(mses))\n",
    "\n",
    "    return 0\n",
    "\n",
    "def first_array(x):\n",
    "    return list(x[0])\n",
    "    \n",
    "def train_w(I, O, W_shape, operator=[], stride=0, verbose=True, multiproc=False):\n",
    "    \"\"\"\n",
    "    I: list of input images\n",
    "    O: list of output images\n",
    "    W_shape: window shape\n",
    "    \"\"\"\n",
    "    if len(operator) == 0:\n",
    "        W = np.ones(W_shape)\n",
    "    else:\n",
    "        W = operator\n",
    "        \n",
    "    ###\n",
    "    if multiproc:\n",
    "        pass\n",
    "    else:\n",
    "        list_of_patterns = [extract_window(i.astype(int), W, stride) for i in I]\n",
    "        X_train = [pattern for patterns in list_of_patterns for pattern in patterns]\n",
    "        \n",
    "        list_of_labels = [extract_window(o.astype(int), np.ones((1,1))) for o in O]\n",
    "        y_train = [label for labels in list_of_labels for label in labels]\n",
    "        \n",
    "    ### Multiply X_train by W considering the 1s and 0s\n",
    "#     if len(operator) == 0:\n",
    "#         X_train = [pattern * operator for pattern in X_train]\n",
    "        \n",
    "    start = time()\n",
    "    ### Fit\n",
    "    df = pd.DataFrame()\n",
    "    df[\"pattern\"] = X_train\n",
    "    df[\"array\"] = X_train\n",
    "    df[\"y\"] = y_train\n",
    "    df[\"y\"] = df[\"y\"].apply(lambda x : x[0][0])\n",
    "    df[\"pattern\"] = df[\"pattern\"].apply(lambda x : str(x.astype(int)))    \n",
    "    threshold = np.mean(y_train)\n",
    "    f = df.groupby(\"pattern\", as_index=False).agg({\"y\": \"mean\", \"array\": lambda x : list(x)})\n",
    "    f[\"array\"] = f[\"array\"].apply(lambda x : x[0])\n",
    "    \n",
    "    \n",
    "    f[\"y\"] = (f[\"y\"] > threshold) * 1 \n",
    "    \n",
    "    \n",
    "    if verbose:\n",
    "        print('Fitting: {0}m{1}s'.format(int((time()-start)/60), int((time()-start)%60 )))        \n",
    "    \n",
    "    start = time()\n",
    "    ### Predict\n",
    "    y_pred = [predict(f, im, W) for im in I]   \n",
    "    if verbose:\n",
    "        print('Predict: {0}m{1}s'.format(int((time()-start)/60), int((time()-start)%60 )))        \n",
    "    \n",
    "    ### Friendly format to calc the metrics\n",
    "    y_true = [y[0][0] for y in y_train]\n",
    "    y_hat = [x for p in [y for y_p in y_pred for y in y_p] for x in p]\n",
    "\n",
    "    start = time()\n",
    "    ### metrics to log\n",
    "    accuracy = accuracy_score(O, y_pred)    \n",
    "    precision = precision_score(y_true, y_hat)\n",
    "    recall = recall_score(y_true, y_hat)\n",
    "    mse = mse_score(O, y_pred)    \n",
    "    f1 = f1_score(y_true, y_hat)\n",
    "    if verbose:\n",
    "        print('Metrics: {0}m{1}s'.format(int((time()-start)/60), int((time()-start)%60 )))        \n",
    "    \n",
    "    logs = {}\n",
    "    logs[\"accuracy\"] = accuracy\n",
    "    logs[\"mse\"] = mse    \n",
    "    logs[\"precision\"] = precision\n",
    "    logs[\"recall\"] = recall\n",
    "    logs[\"f1\"] = f1\n",
    "    \n",
    "    if verbose:\n",
    "        print(\"Training metrics: \")\n",
    "        print(\"Threshold: {:.2f}\".format(threshold))\n",
    "        print(\"Accuracy: {:0.2f}\".format(accuracy))    \n",
    "        print(\"Precision: {:0.2f}\".format(precision))\n",
    "        print(\"Recall: {:0.2f}\".format(recall))\n",
    "        print(\"MSE: {:0.2f}\".format(mse))\n",
    "        print(\"F1: {:0.2f}\".format(f1))\n",
    "    \n",
    "    return X_train, y_train, f, logs\n",
    "\n",
    "def learning_curve(I, O, W_shape, T, operator=[], stride=0, verbose=False, multiproc=False):\n",
    "    \n",
    "    train_errors = []\n",
    "    test_errors = []\n",
    "    for i in tqdm_notebook(range(1, len(I))):\n",
    "        train_images = I[:i]\n",
    "        train_output = O[:i]\n",
    "        X_train, y_train, f, logs = train_w(train_images, train_output, w.shape, operator, verbose=verbose)\n",
    "        \n",
    "        train_errors.append(1 - logs[\"accuracy\"])\n",
    "\n",
    "        ### Test error\n",
    "        y_pred = [predict(f, im, operator) for im in T]   \n",
    "        y_hat = [x for p in [y for y_p in y_pred for y in y_p] for x in p]\n",
    "        \n",
    "        accuracy = accuracy_score(O, y_pred)\n",
    "        test_errors.append(1 - accuracy)\n",
    "        \n",
    "    plt.plot(train_errors, label=\"Ein\")\n",
    "    plt.plot(test_errors, label=\"Eout\")\n",
    "    plt.title(\"Learning Curve\")\n",
    "    plt.xlabel(\"Number of training images\")\n",
    "    plt.ylabel(\"Percentage of incorrect predicted pixels\")\n",
    "    plt.legend()\n",
    "    plt.show()\n",
    "    \n",
    "def learning_curve_multiresolution(I, O, windows, T, operator=[], stride=0, verbose=False, multiproc=False):\n",
    "    train_errors = []\n",
    "    test_errors = []\n",
    "    for i in tqdm_notebook(range(1, len(I))):\n",
    "        train_images = I[:i]\n",
    "        train_output = O[:i]\n",
    "        \n",
    "        functions = []\n",
    "        for window in windows:\n",
    "            X_train, y_train, f, logs = train_w(train_images, train_output, window.shape, window, verbose=verbose)\n",
    "            functions.append(f)\n",
    "    \n",
    "        y_pred = [multiresolution_predict(functions, im, windows) for im in train_images]   \n",
    "        #y_hat = [x for p in [y for y_p in y_pred for y in y_p] for x in p]\n",
    "        \n",
    "        train_accuracy = accuracy_score(train_output, y_pred)\n",
    "#         if train_accuracy == np.nan:\n",
    "#             train_accuracy = 1\n",
    "            \n",
    "        train_errors.append(1 - train_accuracy)\n",
    "\n",
    "        ### Test error\n",
    "        y_pred = [multiresolution_predict(functions, im, windows) for im in T]   \n",
    "        #y_hat = [x for p in [y for y_p in y_pred for y in y_p] for x in p]\n",
    "        \n",
    "        test_accuracy = accuracy_score(O[:len(T)], y_pred)\n",
    "        test_errors.append(1 - test_accuracy)\n",
    "        \n",
    "    plt.plot([i for i in range(1, len(train_errors) + 1)], train_errors, label=\"Ein\")\n",
    "    plt.plot([i for i in range(1, len(test_errors) + 1)], test_errors, label=\"Eout\")\n",
    "    plt.title(\"Learning Curve\")\n",
    "    plt.xlabel(\"Number of training images\")\n",
    "    plt.ylabel(\"Percentage of incorrect predicted pixels\")\n",
    "    plt.legend()\n",
    "    plt.show()\n",
    "    \n",
    "    return train_errors, test_errors\n",
    "    \n",
    "def retrieve_prediction(f, pattern):\n",
    "    try:\n",
    "        prediction = f[f[\"pattern\"] == str(pattern)][\"y\"].values[0]\n",
    "    except:\n",
    "        prediction = 0\n",
    "        \n",
    "    return prediction\n",
    "                        \n",
    "def predict(f, image, W):\n",
    "    \"\"\"\n",
    "    \n",
    "    \"\"\"\n",
    "    extracted_feats = extract_window(image, W)    \n",
    "\n",
    "    ### Multiproc\n",
    "    partitions = cpu_count()\n",
    "    result = Parallel(n_jobs= partitions, max_nbytes=None)(delayed(retrieve_prediction)(f, pattern) for pattern in extracted_feats)\n",
    "\n",
    "    ### Single thread\n",
    "    #result = [retrieve_prediction(f, feat) for feat in extracted_feats]    \n",
    "    \n",
    "    output = np.array(result).reshape(image.shape)\n",
    "    \n",
    "    return output\n",
    "\n",
    "def retrieve_multiresolution_prediction(functions, extracted_feats, i):\n",
    "    prediction = None\n",
    "    for i, function in enumerate(functions):\n",
    "        try:\n",
    "            prediction = function[function[\"pattern\"] == str(extracted_feats[i][pixel])][\"y\"].values[0]                \n",
    "            break\n",
    "        except:\n",
    "            pass\n",
    "    if prediction == None:\n",
    "        prediction = 0\n",
    "        \n",
    "    return prediction\n",
    "\n",
    "\n",
    "def multiresolution_predict(functions, image, windows):\n",
    "    output = np.zeros(image.shape)\n",
    "    result = []\n",
    "    extracted_feats = [extract_window(image, W) for W in windows]\n",
    "    \n",
    "    ### Multiproc\n",
    "    partitions = cpu_count()\n",
    "    result = Parallel(n_jobs= partitions, max_nbytes=None)(delayed(retrieve_multiresolution_prediction)(functions, extracted_feats, pixel) for pixel in range(np.size(image)))\n",
    "  \n",
    "    return np.array(result).reshape(image.shape)\n",
    "\n",
    "def multiresolution_predict_single(functions, image, windows):\n",
    "    output = np.zeros(image.shape)\n",
    "    result = []\n",
    "    extracted_feats = [extract_window(image, W) for W in windows]\n",
    "        \n",
    "    for pixel in range(np.size(image)):\n",
    "        prediction = None\n",
    "        for i, function in enumerate(functions):\n",
    "            try:\n",
    "                prediction = function[function[\"pattern\"] == str(extracted_feats[i][pixel])][\"y\"].values[0]                \n",
    "                break\n",
    "            except:\n",
    "                pass\n",
    "        if prediction == None:\n",
    "            prediction = 0\n",
    "        result.append(prediction)\n",
    "                                      \n",
    "    return np.array(result).reshape(image.shape)\n",
    "\n",
    "def print_patterns(patterns):    \n",
    "    for pattern in patterns:\n",
    "        draw_img(pattern)\n",
    "        \n",
    "        \n",
    "def custom_apply(I, O, kernel_1, kernel_2, f_1, f_2):\n",
    "    train_errors = []\n",
    "    test_errors = []\n",
    "\n",
    "    I_2 = [f_1(img, kernel_1, iterations= 1) for img in I]\n",
    "    final = [f_2(img, kernel_2, iterations= 1) for img in I_2]\n",
    "\n",
    "    train_error = [1 - accuracy_score(O[0], img) for img in final]\n",
    "    train_error = sum(train_error) / float(len(train_error))\n",
    "    \n",
    "    return train_error, final\n",
    "\n",
    "def opening_closing(I, O, w1, w2, opening=True, closing=False):    \n",
    "    if opening and not closing:\n",
    "        f_1 = cv2.erode\n",
    "        f_2 = cv2.dilate\n",
    "        error, final = custom_apply(train_images, train_output, w1, w2, f_1, f_2)\n",
    "    \n",
    "    if closing and not opening:\n",
    "        f_1 = cv2.dilate\n",
    "        f_2 = cv2.erode\n",
    "        error, final = custom_apply(train_images, train_output, w1, w2, f_1, f_2)\n",
    "\n",
    "    if opening and closing:\n",
    "        f_1 = cv2.erode\n",
    "        f_2 = cv2.dilate\n",
    "        \n",
    "        error, final = custom_apply(train_images, train_output, w1, w2, f_1, f_2)\n",
    "        error, final = custom_apply(final, train_output, w1, w2, f_2, f_1)\n",
    "        \n",
    "    return error, final"
   ]
  },
  {
   "cell_type": "markdown",
   "metadata": {},
   "source": [
    "# MAC0460/5832 - Lista 2: Escolha de modelo\n",
    "\n",
    "### Data de Entrega: 23h55m do dia 22/10/2018\n",
    "\n",
    "(Ainda sem monitoria definida)"
   ]
  },
  {
   "cell_type": "markdown",
   "metadata": {},
   "source": [
    "Q1. Projete, a partir dos dados, o operador capaz de filtrar ruído usando a técnica de multiresolução. Como conjuntos de hipóteses, utilize diferentes subamostragens da janela original, como ilustrado abaixo:\n",
    "\n",
    "1. Subamostragem 1: ![alt text](imgs/q1_h1.png \"1\")\n",
    "2. Subamostragem 2: ![alt text](imgs/q1_h2.png \"2\")\n",
    "3. Subamostragem 3: ![alt text](imgs/q1_h3.png \"2\")\n",
    "\n",
    "Para cada conjunto, plote os erros  $E_{in}$ e $E_{val}$ ao longo do treinamento. Após escolher o modelo mais apropriado, retreine seu operador com todos os dados e imprima o erro $E_{in}$.\n",
    "\n",
    "Utilize as imagens da pasta imgs/q1/ para realizar o treinamento e validação (nota: são as mesmas imagens do EP anterior)."
   ]
  },
  {
   "cell_type": "code",
   "execution_count": 133,
   "metadata": {
    "collapsed": true
   },
   "outputs": [],
   "source": [
    "n_train = 10\n",
    "train_images = [read_img(\"imgs/q1/q1_src\" + str(i) + \".png\") for i in range(1, n_train+1)]\n",
    "train_output = [read_img(\"imgs/q1/q1_dest.png\") for i in range(1, n_train+1)]"
   ]
  },
  {
   "cell_type": "code",
   "execution_count": 134,
   "metadata": {},
   "outputs": [
    {
     "data": {
      "text/plain": [
       "[array([[False, False, False, ..., False, False, False],\n",
       "        [False, False, False, ..., False, False, False],\n",
       "        [False, False, False, ..., False, False, False],\n",
       "        ...,\n",
       "        [False, False, False, ..., False, False, False],\n",
       "        [False, False, False, ..., False, False, False],\n",
       "        [False, False, False, ..., False, False, False]])]"
      ]
     },
     "execution_count": 134,
     "metadata": {},
     "output_type": "execute_result"
    }
   ],
   "source": [
    "train_images[:1]"
   ]
  },
  {
   "cell_type": "code",
   "execution_count": 135,
   "metadata": {},
   "outputs": [
    {
     "data": {
      "image/png": "[encoded data removed]",
      "text/plain": [
       "<matplotlib.figure.Figure at 0x11d57c550>"
      ]
     },
     "metadata": {},
     "output_type": "display_data"
    }
   ],
   "source": [
    "w1 = np.ones((5, 5), dtype=int)\n",
    "#w1 = np.array([[1, 1, 1, 1, 1], [1, 1, 1, 1, 1], [1, 1, 1, 1, 1], [1, 1, 1, 1, 1] , [1, 1, 1, 1, 1]])\n",
    "draw_img(w1)\n",
    "\n",
    "### Deveria aparecer todo escuro, mas quando é tudo 1 ele fica branco.\n",
    "### Se eu tiro um 1 e substituo por 0 ele fica com todos em preto, \n",
    "### menos um."
   ]
  },
  {
   "cell_type": "code",
   "execution_count": 136,
   "metadata": {},
   "outputs": [
    {
     "data": {
      "image/png": "[encoded data removed]",
      "text/plain": [
       "<matplotlib.figure.Figure at 0x1202954e0>"
      ]
     },
     "metadata": {},
     "output_type": "display_data"
    }
   ],
   "source": [
    "w2 = np.array([[1, 0, 1, 0, 1], [0, 0, 0, 0, 0], [1, 0, 1, 0, 1], [0, 0, 0, 0, 0] , [1, 0, 1, 0, 1]])\n",
    "draw_img(w2)"
   ]
  },
  {
   "cell_type": "code",
   "execution_count": 137,
   "metadata": {},
   "outputs": [
    {
     "data": {
      "image/png": "[encoded data removed]",
      "text/plain": [
       "<matplotlib.figure.Figure at 0x11b6a8908>"
      ]
     },
     "metadata": {},
     "output_type": "display_data"
    }
   ],
   "source": [
    "w3 = np.array([[0, 0, 0, 0, 0], [0, 0, 0, 0, 0], [0, 0, 1, 0, 0], [0, 0, 0, 0, 0] , [0, 0, 0, 0, 0]])\n",
    "draw_img(w3)"
   ]
  },
  {
   "cell_type": "markdown",
   "metadata": {},
   "source": [
    "### Subamostragem 1"
   ]
  },
  {
   "cell_type": "code",
   "execution_count": 8,
   "metadata": {},
   "outputs": [
    {
     "data": {
      "application/vnd.jupyter.widget-view+json": {
       "model_id": "3ae18563a02f4f2f927475ae7f3b2b63"
      }
     },
     "metadata": {},
     "output_type": "display_data"
    },
    {
     "name": "stdout",
     "output_type": "stream",
     "text": [
      "\n"
     ]
    },
    {
     "data": {
      "image/png": "[encoded data removed]",
      "text/plain": [
       "<matplotlib.figure.Figure at 0x11373f198>"
      ]
     },
     "metadata": {},
     "output_type": "display_data"
    },
    {
     "data": {
      "text/plain": [
       "([0.025640624999999972, 0.027240234375000005],\n",
       " [0.028597656249999992, 0.028972656250000006])"
      ]
     },
     "execution_count": 8,
     "metadata": {},
     "output_type": "execute_result"
    }
   ],
   "source": [
    "windows = [w1, w2, w3]\n",
    "\n",
    "ein_1, eout_1 = learning_curve_multiresolution(train_images[:4], train_output[:4], windows, train_images[9:], operator=[], stride=0, verbose=False, multiproc=False)"
   ]
  },
  {
   "cell_type": "code",
   "execution_count": 138,
   "metadata": {
    "collapsed": true
   },
   "outputs": [],
   "source": [
    "train_images = [read_img(\"imgs/q1/q1_src\" + str(i) + \".png\") for i in range(1, n_train+1)]\n",
    "train_output = [read_img(\"imgs/q1/q1_dest.png\") for i in range(1, n_train+1)]"
   ]
  },
  {
   "cell_type": "code",
   "execution_count": 139,
   "metadata": {},
   "outputs": [
    {
     "data": {
      "text/plain": [
       "(400, 640)"
      ]
     },
     "execution_count": 139,
     "metadata": {},
     "output_type": "execute_result"
    }
   ],
   "source": [
    "train_images[0].shape"
   ]
  },
  {
   "cell_type": "code",
   "execution_count": 140,
   "metadata": {},
   "outputs": [
    {
     "data": {
      "image/png": "[encoded data removed]",
      "text/plain": [
       "<matplotlib.figure.Figure at 0x11e6ca198>"
      ]
     },
     "metadata": {},
     "output_type": "display_data"
    }
   ],
   "source": [
    "draw_img(train_images[0][150:200, 150:200])"
   ]
  },
  {
   "cell_type": "code",
   "execution_count": 141,
   "metadata": {},
   "outputs": [
    {
     "data": {
      "image/png": "[encoded data removed]",
      "text/plain": [
       "<matplotlib.figure.Figure at 0x11dfb4be0>"
      ]
     },
     "metadata": {},
     "output_type": "display_data"
    }
   ],
   "source": [
    "draw_img(train_output[0][150:200, 150:200])"
   ]
  },
  {
   "cell_type": "code",
   "execution_count": 73,
   "metadata": {
    "collapsed": true
   },
   "outputs": [],
   "source": [
    "train_images = [im[150:300, 150:300] for im in train_images]\n",
    "train_output = [im[150:300, 150:300] for im in train_output]"
   ]
  },
  {
   "cell_type": "code",
   "execution_count": 74,
   "metadata": {},
   "outputs": [
    {
     "data": {
      "application/vnd.jupyter.widget-view+json": {
       "model_id": "7c32761bec05440daec59fc854e944c2"
      }
     },
     "metadata": {},
     "output_type": "display_data"
    },
    {
     "name": "stdout",
     "output_type": "stream",
     "text": [
      "\n",
      "\n"
     ]
    },
    {
     "ename": "ValueError",
     "evalue": "x and y must have same first dimension, but have shapes (8,) and (7,)",
     "output_type": "error",
     "traceback": [
      "\u001b[0;31m---------------------------------------------------------------------------\u001b[0m",
      "\u001b[0;31mValueError\u001b[0m                                Traceback (most recent call last)",
      "\u001b[0;32m<ipython-input-74-96d11960769c>\u001b[0m in \u001b[0;36m<module>\u001b[0;34m()\u001b[0m\n\u001b[1;32m      1\u001b[0m \u001b[0mwindows\u001b[0m \u001b[0;34m=\u001b[0m \u001b[0;34m[\u001b[0m\u001b[0mw1\u001b[0m\u001b[0;34m,\u001b[0m \u001b[0mw2\u001b[0m\u001b[0;34m,\u001b[0m \u001b[0mw3\u001b[0m\u001b[0;34m]\u001b[0m\u001b[0;34m\u001b[0m\u001b[0m\n\u001b[1;32m      2\u001b[0m \u001b[0;34m\u001b[0m\u001b[0m\n\u001b[0;32m----> 3\u001b[0;31m \u001b[0mein_1\u001b[0m\u001b[0;34m,\u001b[0m \u001b[0meout_1\u001b[0m \u001b[0;34m=\u001b[0m \u001b[0mlearning_curve_multiresolution\u001b[0m\u001b[0;34m(\u001b[0m\u001b[0mtrain_images\u001b[0m\u001b[0;34m[\u001b[0m\u001b[0;34m:\u001b[0m\u001b[0;36m8\u001b[0m\u001b[0;34m]\u001b[0m\u001b[0;34m,\u001b[0m \u001b[0mtrain_output\u001b[0m\u001b[0;34m[\u001b[0m\u001b[0;34m:\u001b[0m\u001b[0;36m8\u001b[0m\u001b[0;34m]\u001b[0m\u001b[0;34m,\u001b[0m \u001b[0mwindows\u001b[0m\u001b[0;34m,\u001b[0m \u001b[0mtrain_images\u001b[0m\u001b[0;34m[\u001b[0m\u001b[0;36m8\u001b[0m\u001b[0;34m:\u001b[0m\u001b[0;34m]\u001b[0m\u001b[0;34m,\u001b[0m \u001b[0moperator\u001b[0m\u001b[0;34m=\u001b[0m\u001b[0;34m[\u001b[0m\u001b[0;34m]\u001b[0m\u001b[0;34m,\u001b[0m \u001b[0mstride\u001b[0m\u001b[0;34m=\u001b[0m\u001b[0;36m0\u001b[0m\u001b[0;34m,\u001b[0m \u001b[0mverbose\u001b[0m\u001b[0;34m=\u001b[0m\u001b[0;32mFalse\u001b[0m\u001b[0;34m,\u001b[0m \u001b[0mmultiproc\u001b[0m\u001b[0;34m=\u001b[0m\u001b[0;32mFalse\u001b[0m\u001b[0;34m)\u001b[0m\u001b[0;34m\u001b[0m\u001b[0m\n\u001b[0m",
      "\u001b[0;32m<ipython-input-68-5d1af543b72e>\u001b[0m in \u001b[0;36mlearning_curve_multiresolution\u001b[0;34m(I, O, windows, T, operator, stride, verbose, multiproc)\u001b[0m\n\u001b[1;32m    180\u001b[0m         \u001b[0mtest_errors\u001b[0m\u001b[0;34m.\u001b[0m\u001b[0mappend\u001b[0m\u001b[0;34m(\u001b[0m\u001b[0;36m1\u001b[0m \u001b[0;34m-\u001b[0m \u001b[0mtest_accuracy\u001b[0m\u001b[0;34m)\u001b[0m\u001b[0;34m\u001b[0m\u001b[0m\n\u001b[1;32m    181\u001b[0m \u001b[0;34m\u001b[0m\u001b[0m\n\u001b[0;32m--> 182\u001b[0;31m     \u001b[0mplt\u001b[0m\u001b[0;34m.\u001b[0m\u001b[0mplot\u001b[0m\u001b[0;34m(\u001b[0m\u001b[0;34m[\u001b[0m\u001b[0mi\u001b[0m \u001b[0;32mfor\u001b[0m \u001b[0mi\u001b[0m \u001b[0;32min\u001b[0m \u001b[0mrange\u001b[0m\u001b[0;34m(\u001b[0m\u001b[0;36m1\u001b[0m\u001b[0;34m,\u001b[0m \u001b[0mlen\u001b[0m\u001b[0;34m(\u001b[0m\u001b[0mI\u001b[0m\u001b[0;34m)\u001b[0m\u001b[0;34m+\u001b[0m\u001b[0;36m1\u001b[0m\u001b[0;34m)\u001b[0m\u001b[0;34m]\u001b[0m\u001b[0;34m,\u001b[0m \u001b[0mtrain_errors\u001b[0m\u001b[0;34m,\u001b[0m \u001b[0mlabel\u001b[0m\u001b[0;34m=\u001b[0m\u001b[0;34m\"Ein\"\u001b[0m\u001b[0;34m)\u001b[0m\u001b[0;34m\u001b[0m\u001b[0m\n\u001b[0m\u001b[1;32m    183\u001b[0m     \u001b[0mplt\u001b[0m\u001b[0;34m.\u001b[0m\u001b[0mplot\u001b[0m\u001b[0;34m(\u001b[0m\u001b[0;34m[\u001b[0m\u001b[0mi\u001b[0m \u001b[0;32mfor\u001b[0m \u001b[0mi\u001b[0m \u001b[0;32min\u001b[0m \u001b[0mrange\u001b[0m\u001b[0;34m(\u001b[0m\u001b[0;36m1\u001b[0m\u001b[0;34m,\u001b[0m \u001b[0mlen\u001b[0m\u001b[0;34m(\u001b[0m\u001b[0mI\u001b[0m\u001b[0;34m)\u001b[0m\u001b[0;34m+\u001b[0m\u001b[0;36m1\u001b[0m\u001b[0;34m)\u001b[0m\u001b[0;34m]\u001b[0m\u001b[0;34m,\u001b[0m \u001b[0mtest_errors\u001b[0m\u001b[0;34m,\u001b[0m \u001b[0mlabel\u001b[0m\u001b[0;34m=\u001b[0m\u001b[0;34m\"Eout\"\u001b[0m\u001b[0;34m)\u001b[0m\u001b[0;34m\u001b[0m\u001b[0m\n\u001b[1;32m    184\u001b[0m     \u001b[0mplt\u001b[0m\u001b[0;34m.\u001b[0m\u001b[0mtitle\u001b[0m\u001b[0;34m(\u001b[0m\u001b[0;34m\"Learning Curve\"\u001b[0m\u001b[0;34m)\u001b[0m\u001b[0;34m\u001b[0m\u001b[0m\n",
      "\u001b[0;32m~/miniconda2/envs/ml3/lib/python3.6/site-packages/matplotlib/pyplot.py\u001b[0m in \u001b[0;36mplot\u001b[0;34m(*args, **kwargs)\u001b[0m\n\u001b[1;32m   3259\u001b[0m                       mplDeprecation)\n\u001b[1;32m   3260\u001b[0m     \u001b[0;32mtry\u001b[0m\u001b[0;34m:\u001b[0m\u001b[0;34m\u001b[0m\u001b[0m\n\u001b[0;32m-> 3261\u001b[0;31m         \u001b[0mret\u001b[0m \u001b[0;34m=\u001b[0m \u001b[0max\u001b[0m\u001b[0;34m.\u001b[0m\u001b[0mplot\u001b[0m\u001b[0;34m(\u001b[0m\u001b[0;34m*\u001b[0m\u001b[0margs\u001b[0m\u001b[0;34m,\u001b[0m \u001b[0;34m**\u001b[0m\u001b[0mkwargs\u001b[0m\u001b[0;34m)\u001b[0m\u001b[0;34m\u001b[0m\u001b[0m\n\u001b[0m\u001b[1;32m   3262\u001b[0m     \u001b[0;32mfinally\u001b[0m\u001b[0;34m:\u001b[0m\u001b[0;34m\u001b[0m\u001b[0m\n\u001b[1;32m   3263\u001b[0m         \u001b[0max\u001b[0m\u001b[0;34m.\u001b[0m\u001b[0m_hold\u001b[0m \u001b[0;34m=\u001b[0m \u001b[0mwashold\u001b[0m\u001b[0;34m\u001b[0m\u001b[0m\n",
      "\u001b[0;32m~/miniconda2/envs/ml3/lib/python3.6/site-packages/matplotlib/__init__.py\u001b[0m in \u001b[0;36minner\u001b[0;34m(ax, *args, **kwargs)\u001b[0m\n\u001b[1;32m   1715\u001b[0m                     warnings.warn(msg % (label_namer, func.__name__),\n\u001b[1;32m   1716\u001b[0m                                   RuntimeWarning, stacklevel=2)\n\u001b[0;32m-> 1717\u001b[0;31m             \u001b[0;32mreturn\u001b[0m \u001b[0mfunc\u001b[0m\u001b[0;34m(\u001b[0m\u001b[0max\u001b[0m\u001b[0;34m,\u001b[0m \u001b[0;34m*\u001b[0m\u001b[0margs\u001b[0m\u001b[0;34m,\u001b[0m \u001b[0;34m**\u001b[0m\u001b[0mkwargs\u001b[0m\u001b[0;34m)\u001b[0m\u001b[0;34m\u001b[0m\u001b[0m\n\u001b[0m\u001b[1;32m   1718\u001b[0m         \u001b[0mpre_doc\u001b[0m \u001b[0;34m=\u001b[0m \u001b[0minner\u001b[0m\u001b[0;34m.\u001b[0m\u001b[0m__doc__\u001b[0m\u001b[0;34m\u001b[0m\u001b[0m\n\u001b[1;32m   1719\u001b[0m         \u001b[0;32mif\u001b[0m \u001b[0mpre_doc\u001b[0m \u001b[0;32mis\u001b[0m \u001b[0;32mNone\u001b[0m\u001b[0;34m:\u001b[0m\u001b[0;34m\u001b[0m\u001b[0m\n",
      "\u001b[0;32m~/miniconda2/envs/ml3/lib/python3.6/site-packages/matplotlib/axes/_axes.py\u001b[0m in \u001b[0;36mplot\u001b[0;34m(self, *args, **kwargs)\u001b[0m\n\u001b[1;32m   1370\u001b[0m         \u001b[0mkwargs\u001b[0m \u001b[0;34m=\u001b[0m \u001b[0mcbook\u001b[0m\u001b[0;34m.\u001b[0m\u001b[0mnormalize_kwargs\u001b[0m\u001b[0;34m(\u001b[0m\u001b[0mkwargs\u001b[0m\u001b[0;34m,\u001b[0m \u001b[0m_alias_map\u001b[0m\u001b[0;34m)\u001b[0m\u001b[0;34m\u001b[0m\u001b[0m\n\u001b[1;32m   1371\u001b[0m \u001b[0;34m\u001b[0m\u001b[0m\n\u001b[0;32m-> 1372\u001b[0;31m         \u001b[0;32mfor\u001b[0m \u001b[0mline\u001b[0m \u001b[0;32min\u001b[0m \u001b[0mself\u001b[0m\u001b[0;34m.\u001b[0m\u001b[0m_get_lines\u001b[0m\u001b[0;34m(\u001b[0m\u001b[0;34m*\u001b[0m\u001b[0margs\u001b[0m\u001b[0;34m,\u001b[0m \u001b[0;34m**\u001b[0m\u001b[0mkwargs\u001b[0m\u001b[0;34m)\u001b[0m\u001b[0;34m:\u001b[0m\u001b[0;34m\u001b[0m\u001b[0m\n\u001b[0m\u001b[1;32m   1373\u001b[0m             \u001b[0mself\u001b[0m\u001b[0;34m.\u001b[0m\u001b[0madd_line\u001b[0m\u001b[0;34m(\u001b[0m\u001b[0mline\u001b[0m\u001b[0;34m)\u001b[0m\u001b[0;34m\u001b[0m\u001b[0m\n\u001b[1;32m   1374\u001b[0m             \u001b[0mlines\u001b[0m\u001b[0;34m.\u001b[0m\u001b[0mappend\u001b[0m\u001b[0;34m(\u001b[0m\u001b[0mline\u001b[0m\u001b[0;34m)\u001b[0m\u001b[0;34m\u001b[0m\u001b[0m\n",
      "\u001b[0;32m~/miniconda2/envs/ml3/lib/python3.6/site-packages/matplotlib/axes/_base.py\u001b[0m in \u001b[0;36m_grab_next_args\u001b[0;34m(self, *args, **kwargs)\u001b[0m\n\u001b[1;32m    402\u001b[0m                 \u001b[0mthis\u001b[0m \u001b[0;34m+=\u001b[0m \u001b[0margs\u001b[0m\u001b[0;34m[\u001b[0m\u001b[0;36m0\u001b[0m\u001b[0;34m]\u001b[0m\u001b[0;34m,\u001b[0m\u001b[0;34m\u001b[0m\u001b[0m\n\u001b[1;32m    403\u001b[0m                 \u001b[0margs\u001b[0m \u001b[0;34m=\u001b[0m \u001b[0margs\u001b[0m\u001b[0;34m[\u001b[0m\u001b[0;36m1\u001b[0m\u001b[0;34m:\u001b[0m\u001b[0;34m]\u001b[0m\u001b[0;34m\u001b[0m\u001b[0m\n\u001b[0;32m--> 404\u001b[0;31m             \u001b[0;32mfor\u001b[0m \u001b[0mseg\u001b[0m \u001b[0;32min\u001b[0m \u001b[0mself\u001b[0m\u001b[0;34m.\u001b[0m\u001b[0m_plot_args\u001b[0m\u001b[0;34m(\u001b[0m\u001b[0mthis\u001b[0m\u001b[0;34m,\u001b[0m \u001b[0mkwargs\u001b[0m\u001b[0;34m)\u001b[0m\u001b[0;34m:\u001b[0m\u001b[0;34m\u001b[0m\u001b[0m\n\u001b[0m\u001b[1;32m    405\u001b[0m                 \u001b[0;32myield\u001b[0m \u001b[0mseg\u001b[0m\u001b[0;34m\u001b[0m\u001b[0m\n\u001b[1;32m    406\u001b[0m \u001b[0;34m\u001b[0m\u001b[0m\n",
      "\u001b[0;32m~/miniconda2/envs/ml3/lib/python3.6/site-packages/matplotlib/axes/_base.py\u001b[0m in \u001b[0;36m_plot_args\u001b[0;34m(self, tup, kwargs)\u001b[0m\n\u001b[1;32m    382\u001b[0m             \u001b[0mx\u001b[0m\u001b[0;34m,\u001b[0m \u001b[0my\u001b[0m \u001b[0;34m=\u001b[0m \u001b[0mindex_of\u001b[0m\u001b[0;34m(\u001b[0m\u001b[0mtup\u001b[0m\u001b[0;34m[\u001b[0m\u001b[0;34m-\u001b[0m\u001b[0;36m1\u001b[0m\u001b[0;34m]\u001b[0m\u001b[0;34m)\u001b[0m\u001b[0;34m\u001b[0m\u001b[0m\n\u001b[1;32m    383\u001b[0m \u001b[0;34m\u001b[0m\u001b[0m\n\u001b[0;32m--> 384\u001b[0;31m         \u001b[0mx\u001b[0m\u001b[0;34m,\u001b[0m \u001b[0my\u001b[0m \u001b[0;34m=\u001b[0m \u001b[0mself\u001b[0m\u001b[0;34m.\u001b[0m\u001b[0m_xy_from_xy\u001b[0m\u001b[0;34m(\u001b[0m\u001b[0mx\u001b[0m\u001b[0;34m,\u001b[0m \u001b[0my\u001b[0m\u001b[0;34m)\u001b[0m\u001b[0;34m\u001b[0m\u001b[0m\n\u001b[0m\u001b[1;32m    385\u001b[0m \u001b[0;34m\u001b[0m\u001b[0m\n\u001b[1;32m    386\u001b[0m         \u001b[0;32mif\u001b[0m \u001b[0mself\u001b[0m\u001b[0;34m.\u001b[0m\u001b[0mcommand\u001b[0m \u001b[0;34m==\u001b[0m \u001b[0;34m'plot'\u001b[0m\u001b[0;34m:\u001b[0m\u001b[0;34m\u001b[0m\u001b[0m\n",
      "\u001b[0;32m~/miniconda2/envs/ml3/lib/python3.6/site-packages/matplotlib/axes/_base.py\u001b[0m in \u001b[0;36m_xy_from_xy\u001b[0;34m(self, x, y)\u001b[0m\n\u001b[1;32m    241\u001b[0m         \u001b[0;32mif\u001b[0m \u001b[0mx\u001b[0m\u001b[0;34m.\u001b[0m\u001b[0mshape\u001b[0m\u001b[0;34m[\u001b[0m\u001b[0;36m0\u001b[0m\u001b[0;34m]\u001b[0m \u001b[0;34m!=\u001b[0m \u001b[0my\u001b[0m\u001b[0;34m.\u001b[0m\u001b[0mshape\u001b[0m\u001b[0;34m[\u001b[0m\u001b[0;36m0\u001b[0m\u001b[0;34m]\u001b[0m\u001b[0;34m:\u001b[0m\u001b[0;34m\u001b[0m\u001b[0m\n\u001b[1;32m    242\u001b[0m             raise ValueError(\"x and y must have same first dimension, but \"\n\u001b[0;32m--> 243\u001b[0;31m                              \"have shapes {} and {}\".format(x.shape, y.shape))\n\u001b[0m\u001b[1;32m    244\u001b[0m         \u001b[0;32mif\u001b[0m \u001b[0mx\u001b[0m\u001b[0;34m.\u001b[0m\u001b[0mndim\u001b[0m \u001b[0;34m>\u001b[0m \u001b[0;36m2\u001b[0m \u001b[0;32mor\u001b[0m \u001b[0my\u001b[0m\u001b[0;34m.\u001b[0m\u001b[0mndim\u001b[0m \u001b[0;34m>\u001b[0m \u001b[0;36m2\u001b[0m\u001b[0;34m:\u001b[0m\u001b[0;34m\u001b[0m\u001b[0m\n\u001b[1;32m    245\u001b[0m             raise ValueError(\"x and y can be no greater than 2-D, but have \"\n",
      "\u001b[0;31mValueError\u001b[0m: x and y must have same first dimension, but have shapes (8,) and (7,)"
     ]
    },
    {
     "data": {
      "image/png": "[encoded data removed]",
      "text/plain": [
       "<matplotlib.figure.Figure at 0x11d3ec588>"
      ]
     },
     "metadata": {},
     "output_type": "display_data"
    }
   ],
   "source": [
    "windows = [w1, w2, w3]\n",
    "\n",
    "ein_1, eout_1 = learning_curve_multiresolution(train_images[:8], train_output[:8], windows, train_images[8:], operator=[], stride=0, verbose=False, multiproc=False)"
   ]
  },
  {
   "cell_type": "code",
   "execution_count": 87,
   "metadata": {},
   "outputs": [
    {
     "data": {
      "application/vnd.jupyter.widget-view+json": {
       "model_id": "a457fa03781040fd82681f0827ac29b7"
      }
     },
     "metadata": {},
     "output_type": "display_data"
    },
    {
     "name": "stdout",
     "output_type": "stream",
     "text": [
      "\n"
     ]
    },
    {
     "data": {
      "image/png": "[encoded data removed]",
      "text/plain": [
       "<matplotlib.figure.Figure at 0x11b456a90>"
      ]
     },
     "metadata": {},
     "output_type": "display_data"
    }
   ],
   "source": [
    "ein_1, eout_1 = learning_curve_multiresolution(train_images[:4], train_output[:4], windows, train_images[4:], operator=[], stride=0, verbose=False, multiproc=False)"
   ]
  },
  {
   "cell_type": "code",
   "execution_count": 90,
   "metadata": {},
   "outputs": [
    {
     "data": {
      "text/plain": [
       "[0.04266666666666663, 0.03222222222222215, 0.03198518518518512]"
      ]
     },
     "execution_count": 90,
     "metadata": {},
     "output_type": "execute_result"
    }
   ],
   "source": [
    "ein_1"
   ]
  },
  {
   "cell_type": "code",
   "execution_count": 80,
   "metadata": {},
   "outputs": [
    {
     "data": {
      "text/plain": [
       "[<matplotlib.lines.Line2D at 0x11d649c88>]"
      ]
     },
     "execution_count": 80,
     "metadata": {},
     "output_type": "execute_result"
    },
    {
     "data": {
      "image/png": "[encoded data removed]",
      "text/plain": [
       "<matplotlib.figure.Figure at 0x11b36e4e0>"
      ]
     },
     "metadata": {},
     "output_type": "display_data"
    }
   ],
   "source": [
    "plt.plot(eout_1)\n",
    "plt.plot(ein_1)"
   ]
  },
  {
   "cell_type": "markdown",
   "metadata": {},
   "source": [
    "### Subamostragem 2"
   ]
  },
  {
   "cell_type": "code",
   "execution_count": 142,
   "metadata": {},
   "outputs": [
    {
     "data": {
      "image/png": "[encoded data removed]",
      "text/plain": [
       "<matplotlib.figure.Figure at 0x11dfaf128>"
      ]
     },
     "metadata": {},
     "output_type": "display_data"
    }
   ],
   "source": [
    "w2 = np.array([[0, 0, 0, 0, 0], [0, 1, 1, 1, 0], [0, 1, 1, 1, 0], [0, 1, 1, 1, 0] , [0, 0, 0, 0, 0]])\n",
    "draw_img(w2)"
   ]
  },
  {
   "cell_type": "code",
   "execution_count": 143,
   "metadata": {},
   "outputs": [
    {
     "data": {
      "application/vnd.jupyter.widget-view+json": {
       "model_id": "c88589da84224a9f865ed1b095e0d022"
      }
     },
     "metadata": {},
     "output_type": "display_data"
    },
    {
     "name": "stdout",
     "output_type": "stream",
     "text": [
      "> <ipython-input-130-53b6433fd9f7>(159)learning_curve_multiresolution()\n",
      "-> train_images = I[:i]\n",
      "(Pdb) n\n",
      "> <ipython-input-130-53b6433fd9f7>(160)learning_curve_multiresolution()\n",
      "-> train_output = O[:i]\n",
      "(Pdb) n\n",
      "> <ipython-input-130-53b6433fd9f7>(162)learning_curve_multiresolution()\n",
      "-> functions = []\n",
      "(Pdb) n\n",
      "> <ipython-input-130-53b6433fd9f7>(163)learning_curve_multiresolution()\n",
      "-> for window in windows:\n",
      "(Pdb) n\n",
      "> <ipython-input-130-53b6433fd9f7>(164)learning_curve_multiresolution()\n",
      "-> X_train, y_train, f, logs = train_w(train_images, train_output, window.shape, window, verbose=verbose)\n",
      "(Pdb) n\n",
      "\n",
      "> <ipython-input-130-53b6433fd9f7>(165)learning_curve_multiresolution()\n",
      "-> functions.append(f)\n",
      "(Pdb) X_train.shape\n",
      "*** AttributeError: 'list' object has no attribute 'shape'\n",
      "(Pdb) len(X_train)\n",
      "256000\n",
      "(Pdb) len(f)\n",
      "843\n",
      "(Pdb) f.shape\n",
      "(843, 3)\n",
      "(Pdb) c\n",
      "> <ipython-input-130-53b6433fd9f7>(158)learning_curve_multiresolution()\n",
      "-> import pdb;pdb.set_trace()\n",
      "(Pdb) l\n",
      "153  \t\n",
      "154  \tdef learning_curve_multiresolution(I, O, windows, T, operator=[], stride=0, verbose=False, multiproc=False):\n",
      "155  \t    train_errors = []\n",
      "156  \t    test_errors = []\n",
      "157  \t    for i in tqdm_notebook(range(1, len(I))):\n",
      "158  ->\t        import pdb;pdb.set_trace()\n",
      "159  \t        train_images = I[:i]\n",
      "160  \t        train_output = O[:i]\n",
      "161  \t\n",
      "162  \t        functions = []\n",
      "163  \t        for window in windows:\n",
      "(Pdb) i\n",
      "2\n",
      "(Pdb) n\n",
      "> <ipython-input-130-53b6433fd9f7>(159)learning_curve_multiresolution()\n",
      "-> train_images = I[:i]\n",
      "(Pdb) n\n",
      "> <ipython-input-130-53b6433fd9f7>(160)learning_curve_multiresolution()\n",
      "-> train_output = O[:i]\n",
      "(Pdb) len(train_images)\n",
      "2\n",
      "(Pdb) train_errors\n",
      "[0.02621484375000005]\n",
      "(Pdb) test_errors\n",
      "[0.027480468750000098]\n",
      "(Pdb) c\n",
      "\n"
     ]
    },
    {
     "data": {
      "image/png": "[encoded data removed]",
      "text/plain": [
       "<matplotlib.figure.Figure at 0x1237bc908>"
      ]
     },
     "metadata": {},
     "output_type": "display_data"
    }
   ],
   "source": [
    "windows = [w1, w2, w3]\n",
    "ein_2, eout_2 = learning_curve_multiresolution(train_images[2:5], train_output[2:5], windows, train_images[:2], operator=[], stride=0, verbose=False, multiproc=False)"
   ]
  },
  {
   "cell_type": "markdown",
   "metadata": {},
   "source": [
    "### Subamostragem 3"
   ]
  },
  {
   "cell_type": "code",
   "execution_count": 88,
   "metadata": {
    "collapsed": true
   },
   "outputs": [],
   "source": [
    "w2 = np.array([[0, 0, 1, 0, 0], [0, 1, 1, 1, 0], [1, 1, 1, 1, 1], [0, 1, 1, 1, 0] , [0, 0, 1, 0, 0]])\n",
    "w3 = np.array([[0, 0, 0, 0, 0], [0, 0, 1, 0, 0], [0, 1, 1, 1, 0], [0, 0, 1, 0, 0] , [0, 0, 0, 0, 0]])\n",
    "w4 = np.array([[0, 0, 0, 0, 0], [0, 0, 0, 0, 0], [0, 0, 1, 0, 0], [0, 0, 0, 0, 0] , [0, 0, 0, 0, 0]])"
   ]
  },
  {
   "cell_type": "code",
   "execution_count": 89,
   "metadata": {},
   "outputs": [
    {
     "data": {
      "application/vnd.jupyter.widget-view+json": {
       "model_id": "f811ac3a697743ee8934117178cfd1c8"
      }
     },
     "metadata": {},
     "output_type": "display_data"
    },
    {
     "name": "stdout",
     "output_type": "stream",
     "text": [
      "\n"
     ]
    },
    {
     "data": {
      "image/png": "[encoded data removed]",
      "text/plain": [
       "<matplotlib.figure.Figure at 0x11dd45978>"
      ]
     },
     "metadata": {},
     "output_type": "display_data"
    }
   ],
   "source": [
    "windows = [w1, w2, w3, w4]\n",
    "ein_3, eout_3 = learning_curve_multiresolution(train_images[:4], train_output[:4], windows, train_images[4:], operator=[], stride=0, verbose=False, multiproc=False)"
   ]
  },
  {
   "cell_type": "markdown",
   "metadata": {},
   "source": [
    "Q2. Considere novamente o problema de filtrar ruído. Utilizando as imagens da pasta imgs/q2/, explore diferentes funções booleanas para filtrar ruído. A operação **abertura** é definida como uma **erosão** seguida por uma **dilatação**, isto é $\\delta_{B2}\\epsilon_{B1}$, onde $B1$ e $B2$ são os elementos estruturantes. De modo semelhante, a função **fechamento** é definida por uma **dilatação** seguida por uma **erosão** ($\\epsilon_{B2}\\delta_{B1}$). Baseado nas funções *erosion* e *dilation* definidas em mac0460_5832/utils.py, teste os seguintes espaços de hipóteses:\n",
    "\n",
    "1. Abertura;\n",
    "2. Fechamento;\n",
    "3. Abertura seguida de fechamento;\n",
    "\n",
    "Para cada espaço de hipóteses, defina diferentes funções variando $B1$ e $B2$ (ou seja, crie as funções de maneira análoga à seguinte definição para um conjunto de aberturas: $\\mathcal{F} = \\{\\psi_{B1B2}: \\psi =  \\delta_{B2}\\epsilon_{B1}, B1, B2 \\subseteq W_{3x3} \\}$, onde $W_{3x3}$ é a janela 3x3). Mostre a função que tem menor erro e verifique o seu desempenho nos dados de teste.\n",
    "\n",
    "Obs: existe no utils.py funções para abertura e fechamento. No entanto, essas funções utilizam o mesmo elemento estruturante para a erosão e dilatação, não permitindo o uso de diferentes elementos estruturantes. "
   ]
  },
  {
   "cell_type": "markdown",
   "metadata": {},
   "source": [
    "### Resolução\n",
    "\n",
    "1. Definir os elementos estruturantes (kernel) possíveis a serem usados como B1 e B2 (foram usadas metade das janelas possíveis);\n",
    "2. Testar os 3 espaços de hipótese com todas as combinações de B1 e B2;\n",
    "3. Selecionar o que apresentar o menor erro e aplicar em uma imagem não usada no cálculo deste (uma de teste)."
   ]
  },
  {
   "cell_type": "code",
   "execution_count": 112,
   "metadata": {
    "collapsed": true
   },
   "outputs": [],
   "source": [
    "n_train = 4\n",
    "train_images = [cv2.imread(\"imgs/q2/src\" + str(i) + \".png\") for i in range(0, n_train+1)]\n",
    "train_output = [cv2.imread(\"imgs/q2/dest.png\") for i in range(1, n_train+1)]"
   ]
  },
  {
   "cell_type": "code",
   "execution_count": 113,
   "metadata": {
    "collapsed": true
   },
   "outputs": [],
   "source": [
    "bs = [np.array(element) for element in list(itertools.product(list(itertools.product([0, 1], repeat=3)), repeat=3))]"
   ]
  },
  {
   "cell_type": "code",
   "execution_count": 114,
   "metadata": {
    "collapsed": true
   },
   "outputs": [],
   "source": [
    "### Exclude structuring elements with zero-center\n",
    "# bs = [b for b in bs if b[2, 2] != 0]\n",
    "\n",
    "bs = [b for i, b in enumerate(bs) if i % 2 == 0]\n",
    "bs = [b for b in bs if np.sum(b) != 0]"
   ]
  },
  {
   "cell_type": "code",
   "execution_count": 115,
   "metadata": {},
   "outputs": [
    {
     "data": {
      "text/plain": [
       "65025"
      ]
     },
     "execution_count": 115,
     "metadata": {},
     "output_type": "execute_result"
    }
   ],
   "source": [
    "import itertools\n",
    "combinations = list(itertools.product(bs, repeat=2))\n",
    "#combinations = combinations[:5000]\n",
    "len(combinations)"
   ]
  },
  {
   "cell_type": "markdown",
   "metadata": {},
   "source": [
    "### Test images"
   ]
  },
  {
   "cell_type": "code",
   "execution_count": 116,
   "metadata": {},
   "outputs": [
    {
     "data": {
      "image/png": "[encoded data removed]",
      "text/plain": [
       "<matplotlib.figure.Figure at 0x11d3f8d30>"
      ]
     },
     "metadata": {},
     "output_type": "display_data"
    }
   ],
   "source": [
    "draw_img_pair(read_img('imgs/q2/test0.png'), read_img('imgs/q2/test1.png'), figsz=(11, 3.5))"
   ]
  },
  {
   "cell_type": "markdown",
   "metadata": {},
   "source": [
    "#### 1. Opening"
   ]
  },
  {
   "cell_type": "code",
   "execution_count": 117,
   "metadata": {
    "collapsed": true
   },
   "outputs": [],
   "source": [
    "from time import time\n",
    "start = time()\n",
    "errors = []\n",
    "for comb in combinations:\n",
    "    error, result = opening_closing(train_images, train_output, opening=True, closing=False, w1=comb[0], w2=comb[0])\n",
    "    errors.append(error)\n",
    "    \n",
    "argmin = np.argmin(np.array(errors)) \n",
    "opening_error = errors[argmin]\n",
    "opening_ws = combinations[argmin]"
   ]
  },
  {
   "cell_type": "code",
   "execution_count": 118,
   "metadata": {},
   "outputs": [
    {
     "name": "stdout",
     "output_type": "stream",
     "text": [
      "Min error with opening: 0.02009999999999996\n",
      "Finish in : 4.48 minutes\n"
     ]
    }
   ],
   "source": [
    "print(\"Min error with opening: {}\".format(opening_error))\n",
    "print(\"Finish in : {:.2f} minutes\".format((time() - start)/60.0))"
   ]
  },
  {
   "cell_type": "code",
   "execution_count": 119,
   "metadata": {},
   "outputs": [
    {
     "data": {
      "image/png": "[encoded data removed]",
      "text/plain": [
       "<matplotlib.figure.Figure at 0x11d3e3eb8>"
      ]
     },
     "metadata": {},
     "output_type": "display_data"
    },
    {
     "name": "stdout",
     "output_type": "stream",
     "text": [
      "0.06250000000000011\n"
     ]
    }
   ],
   "source": [
    "img = cv2.imread('imgs/q2/test0.png', 0)\n",
    "erosion = cv2.erode(img, opening_ws[0], iterations = 1)\n",
    "dilate = cv2.dilate(erosion , opening_ws[1], iterations = 1)\n",
    "draw_img(dilate)\n",
    "\n",
    "print(1 - accuracy_score(img, dilate))"
   ]
  },
  {
   "cell_type": "markdown",
   "metadata": {},
   "source": [
    "#### 2. Closing"
   ]
  },
  {
   "cell_type": "code",
   "execution_count": 120,
   "metadata": {
    "collapsed": true
   },
   "outputs": [],
   "source": [
    "errors = []\n",
    "for comb in combinations:\n",
    "    error, result = opening_closing(train_images, train_output, opening=False, closing=True, w1=comb[0], w2=comb[0])\n",
    "    errors.append(error)\n",
    "    \n",
    "argmin = np.argmin(np.array(errors)) \n",
    "closing_error = errors[argmin]\n",
    "closing_ws = combinations[argmin]"
   ]
  },
  {
   "cell_type": "code",
   "execution_count": 121,
   "metadata": {},
   "outputs": [
    {
     "name": "stdout",
     "output_type": "stream",
     "text": [
      "Min error with closing: 0.024649999999999995\n"
     ]
    }
   ],
   "source": [
    "print(\"Min error with closing: {}\".format(closing_error))"
   ]
  },
  {
   "cell_type": "code",
   "execution_count": 122,
   "metadata": {},
   "outputs": [
    {
     "data": {
      "image/png": "[encoded data removed]",
      "text/plain": [
       "<matplotlib.figure.Figure at 0x11db7d518>"
      ]
     },
     "metadata": {},
     "output_type": "display_data"
    },
    {
     "name": "stdout",
     "output_type": "stream",
     "text": [
      "0.06262500000000004\n"
     ]
    }
   ],
   "source": [
    "img = cv2.imread('imgs/q2/test0.png', 0)\n",
    "dilate = cv2.dilate(img, closing_ws[1], iterations = 1)\n",
    "erosion = cv2.erode(dilate, closing_ws[0], iterations = 1)\n",
    "draw_img(erosion)\n",
    "\n",
    "print(1 - accuracy_score(img, erosion))"
   ]
  },
  {
   "cell_type": "markdown",
   "metadata": {},
   "source": [
    "#### 3. Opening + Closing"
   ]
  },
  {
   "cell_type": "code",
   "execution_count": 123,
   "metadata": {
    "collapsed": true
   },
   "outputs": [],
   "source": [
    "errors = []\n",
    "for comb in combinations:\n",
    "    error, result = opening_closing(train_images, train_output, opening=True, closing=True, w1=comb[0], w2=comb[0])\n",
    "    errors.append(error)\n",
    "    \n",
    "argmin = np.argmin(np.array(errors)) \n",
    "opening_closing_error = errors[argmin]\n",
    "opening_closing_ws = combinations[argmin]"
   ]
  },
  {
   "cell_type": "code",
   "execution_count": 124,
   "metadata": {},
   "outputs": [
    {
     "name": "stdout",
     "output_type": "stream",
     "text": [
      "Min error with opening-closing: 0.01978750000000007\n"
     ]
    }
   ],
   "source": [
    "print(\"Min error with opening-closing: {}\".format(opening_closing_error))"
   ]
  },
  {
   "cell_type": "code",
   "execution_count": 125,
   "metadata": {},
   "outputs": [
    {
     "data": {
      "image/png": "[encoded data removed]",
      "text/plain": [
       "<matplotlib.figure.Figure at 0x11e3264a8>"
      ]
     },
     "metadata": {},
     "output_type": "display_data"
    },
    {
     "name": "stdout",
     "output_type": "stream",
     "text": [
      "0.07837500000000008\n"
     ]
    }
   ],
   "source": [
    "img = cv2.imread('imgs/q2/test0.png', 0)\n",
    "erosion = cv2.erode(img, opening_closing_ws[0], iterations = 1)\n",
    "dilate = cv2.dilate(erosion, opening_closing_ws[1], iterations = 1)\n",
    "\n",
    "dilate = cv2.dilate(dilate, opening_closing_ws[0], iterations = 1)\n",
    "erosion = cv2.erode(dilate, opening_closing_ws[1], iterations = 1)\n",
    "\n",
    "draw_img(erosion)\n",
    "print(1 - accuracy_score(cv2.imread('imgs/q2/dest.png', 0), erosion))"
   ]
  },
  {
   "cell_type": "markdown",
   "metadata": {},
   "source": [
    "### Best result\n",
    "\n",
    "Os resultados foram consistentes: o erro de treinamento foi maior que o erro de teste em todos os casos. \n",
    "\n",
    "Porém, obsevamos que o menor erro de treinamento não fi aquele que gerou o menor erro no teste. Abaixo são colocadas as imagens originais, pós aplicação do melhor filtro no treinamento e o erro gerado."
   ]
  },
  {
   "cell_type": "markdown",
   "metadata": {},
   "source": [
    "### 1. Opening: Test results"
   ]
  },
  {
   "cell_type": "code",
   "execution_count": 126,
   "metadata": {},
   "outputs": [
    {
     "data": {
      "image/png": "[encoded data removed]",
      "text/plain": [
       "<matplotlib.figure.Figure at 0x11b6a8f60>"
      ]
     },
     "metadata": {},
     "output_type": "display_data"
    },
    {
     "data": {
      "image/png": "[encoded data removed]",
      "text/plain": [
       "<matplotlib.figure.Figure at 0x11d588668>"
      ]
     },
     "metadata": {},
     "output_type": "display_data"
    },
    {
     "name": "stdout",
     "output_type": "stream",
     "text": [
      "0.06250000000000011\n"
     ]
    },
    {
     "data": {
      "image/png": "[encoded data removed]",
      "text/plain": [
       "<matplotlib.figure.Figure at 0x11ea1ab38>"
      ]
     },
     "metadata": {},
     "output_type": "display_data"
    },
    {
     "data": {
      "image/png": "[encoded data removed]",
      "text/plain": [
       "<matplotlib.figure.Figure at 0x11f3c3438>"
      ]
     },
     "metadata": {},
     "output_type": "display_data"
    },
    {
     "name": "stdout",
     "output_type": "stream",
     "text": [
      "0.06362499999999993\n"
     ]
    }
   ],
   "source": [
    "img = cv2.imread('imgs/q2/test0.png', 0)\n",
    "erosion = cv2.erode(img, opening_ws[0], iterations = 1)\n",
    "dilate = cv2.dilate(erosion , opening_ws[1], iterations = 1)\n",
    "draw_img(img)\n",
    "draw_img(dilate)\n",
    "print(1 - accuracy_score(img, dilate))\n",
    "\n",
    "img = cv2.imread('imgs/q2/test1.png', 0)\n",
    "erosion = cv2.erode(img, opening_ws[0], iterations = 1)\n",
    "dilate = cv2.dilate(erosion , opening_ws[1], iterations = 1)\n",
    "draw_img(img)\n",
    "draw_img(dilate)\n",
    "print(1 - accuracy_score(img, dilate))"
   ]
  },
  {
   "cell_type": "markdown",
   "metadata": {},
   "source": [
    "### 2. Opening + Closing: Test images"
   ]
  },
  {
   "cell_type": "code",
   "execution_count": 127,
   "metadata": {},
   "outputs": [
    {
     "data": {
      "image/png": "[encoded data removed]",
      "text/plain": [
       "<matplotlib.figure.Figure at 0x11f931ef0>"
      ]
     },
     "metadata": {},
     "output_type": "display_data"
    },
    {
     "data": {
      "image/png": "[encoded data removed]",
      "text/plain": [
       "<matplotlib.figure.Figure at 0x12073fba8>"
      ]
     },
     "metadata": {},
     "output_type": "display_data"
    },
    {
     "name": "stdout",
     "output_type": "stream",
     "text": [
      "0.07837500000000008\n"
     ]
    },
    {
     "data": {
      "image/png": "[encoded data removed]",
      "text/plain": [
       "<matplotlib.figure.Figure at 0x12073f518>"
      ]
     },
     "metadata": {},
     "output_type": "display_data"
    },
    {
     "data": {
      "image/png": "[encoded data removed]",
      "text/plain": [
       "<matplotlib.figure.Figure at 0x11e4814a8>"
      ]
     },
     "metadata": {},
     "output_type": "display_data"
    },
    {
     "name": "stdout",
     "output_type": "stream",
     "text": [
      "0.07906250000000004\n"
     ]
    }
   ],
   "source": [
    "img = cv2.imread('imgs/q2/test0.png', 0)\n",
    "erosion = cv2.erode(img, opening_closing_ws[0], iterations = 1)\n",
    "dilate = cv2.dilate(erosion, opening_closing_ws[1], iterations = 1)\n",
    "\n",
    "dilate = cv2.dilate(dilate, opening_closing_ws[0], iterations = 1)\n",
    "erosion = cv2.erode(dilate, opening_closing_ws[1], iterations = 1)\n",
    "\n",
    "draw_img(img)\n",
    "draw_img(erosion)\n",
    "print(1 - accuracy_score(cv2.imread('imgs/q2/dest.png', 0), erosion))\n",
    "\n",
    "\n",
    "img = cv2.imread('imgs/q2/test1.png', 0)\n",
    "erosion = cv2.erode(img, opening_closing_ws[0], iterations = 1)\n",
    "dilate = cv2.dilate(erosion, opening_closing_ws[1], iterations = 1)\n",
    "\n",
    "dilate = cv2.dilate(dilate, opening_closing_ws[0], iterations = 1)\n",
    "erosion = cv2.erode(dilate, opening_closing_ws[1], iterations = 1)\n",
    "\n",
    "draw_img(img)\n",
    "draw_img(erosion)\n",
    "print(1 - accuracy_score(cv2.imread('imgs/q2/dest.png', 0), erosion))"
   ]
  },
  {
   "cell_type": "code",
   "execution_count": 128,
   "metadata": {},
   "outputs": [
    {
     "data": {
      "image/png": "[encoded data removed]",
      "text/plain": [
       "<matplotlib.figure.Figure at 0x11d580cc0>"
      ]
     },
     "metadata": {},
     "output_type": "display_data"
    }
   ],
   "source": [
    "draw_img(opening_closing_ws[0])"
   ]
  },
  {
   "cell_type": "code",
   "execution_count": 129,
   "metadata": {},
   "outputs": [
    {
     "data": {
      "image/png": "[encoded data removed]",
      "text/plain": [
       "<matplotlib.figure.Figure at 0x1211600f0>"
      ]
     },
     "metadata": {},
     "output_type": "display_data"
    }
   ],
   "source": [
    "draw_img(opening_closing_ws[1])"
   ]
  },
  {
   "cell_type": "code",
   "execution_count": null,
   "metadata": {
    "collapsed": true
   },
   "outputs": [],
   "source": []
  }
 ],
 "metadata": {
  "kernelspec": {
   "display_name": "ml3",
   "language": "python",
   "name": "python3"
  },
  "language_info": {
   "codemirror_mode": {
    "name": "ipython",
    "version": 3
   },
   "file_extension": ".py",
   "mimetype": "text/x-python",
   "name": "python",
   "nbconvert_exporter": "python",
   "pygments_lexer": "ipython3",
   "version": "3.6.2"
  }
 },
 "nbformat": 4,
 "nbformat_minor": 2
}
