{
 "cells": [
  {
   "cell_type": "code",
   "execution_count": 1,
   "metadata": {},
   "outputs": [],
   "source": [
    "%matplotlib inline\n",
    "import matplotlib.pyplot as plt\n",
    "import numpy as np\n",
    "import PIL\n",
    "\n",
    "from mac0460_5832.utils import *"
   ]
  },
  {
   "cell_type": "code",
   "execution_count": 2,
   "metadata": {
    "collapsed": true
   },
   "outputs": [],
   "source": [
    "import pandas as pd\n",
    "import pdb\n",
    "from sklearn.metrics import precision_score, recall_score, f1_score\n",
    "from time import time\n",
    "from toolz import curry\n",
    "from joblib import Parallel, delayed\n",
    "from multiprocessing import cpu_count, Pool\n",
    "from tqdm import tnrange, tqdm_notebook\n",
    "import matplotlib.pyplot as plt"
   ]
  },
  {
   "cell_type": "code",
   "execution_count": 48,
   "metadata": {
    "collapsed": true
   },
   "outputs": [],
   "source": [
    "def find_center(a):\n",
    "    \"\"\"\n",
    "    a: array\n",
    "    \"\"\"\n",
    "    r = int(a.shape[0] / 2)\n",
    "    c = int(a.shape[1] / 2)\n",
    "    \n",
    "    return (r, c)\n",
    "\n",
    "def extract_window(image, W, stride=0):\n",
    "    ### Zero Padding\n",
    "    W_center = find_center(W)\n",
    "    vertical_shift = (W.shape[0] - 1) - W_center[0]\n",
    "    horizontal_shift = (W.shape[1] - 1) - W_center[1]\n",
    "    pad_width = max([vertical_shift, horizontal_shift])\n",
    "    im = np.pad(image, pad_width, mode=\"constant\", constant_values=0)\n",
    "    im = im * 1\n",
    "        \n",
    "    extracted = []\n",
    "    for i in range(int(image.shape[0] / (stride + 1))):\n",
    "        i += pad_width \n",
    "        i += i*stride\n",
    "        for j in range(int(image.shape[1] / (stride + 1))):\n",
    "            j += pad_width\n",
    "            j += j*stride\n",
    "            #pdb.set_trace()\n",
    "            extracted.append((W * im[i-vertical_shift:i+vertical_shift+1, j-horizontal_shift:j+horizontal_shift+1]).astype(int))\n",
    "                \n",
    "    return extracted\n",
    "\n",
    "def accuracy_score(y_true, y_pred):\n",
    "    pairs = list(zip(y_true, y_pred))\n",
    "    accuracies = [np.sum(pair[0] == pair[1]) / len(pair[0].flatten()) for pair in pairs]\n",
    "    return np.mean(np.array(accuracies))\n",
    "\n",
    "def mse_score(y_true, y_pred):\n",
    "    pairs = list(zip(y_true, y_pred))\n",
    "    mses = [np.mean(np.power(pair[0] - pair[1], 2)) for pair in pairs]\n",
    "    return np.mean(np.array(mses))\n",
    "\n",
    "    return 0\n",
    "\n",
    "def first_array(x):\n",
    "    return list(x[0])\n",
    "    \n",
    "def train_w(I, O, W_shape, operator=[], stride=0, verbose=True, multiproc=False):\n",
    "    \"\"\"\n",
    "    I: list of input images\n",
    "    O: list of output images\n",
    "    W_shape: window shape\n",
    "    \"\"\"\n",
    "    if len(operator) == 0:\n",
    "        W = np.ones(W_shape)\n",
    "    else:\n",
    "        W = operator\n",
    "        \n",
    "    ###\n",
    "    if multiproc:\n",
    "        pass\n",
    "    else:\n",
    "        list_of_patterns = [extract_window(i.astype(int), W, stride) for i in I]\n",
    "        X_train = [pattern for patterns in list_of_patterns for pattern in patterns]\n",
    "        \n",
    "        list_of_labels = [extract_window(o.astype(int), np.ones((1,1))) for o in O]\n",
    "        y_train = [label for labels in list_of_labels for label in labels]\n",
    "        \n",
    "    ### Multiply X_train by W considering the 1s and 0s\n",
    "#     if len(operator) == 0:\n",
    "#         X_train = [pattern * operator for pattern in X_train]\n",
    "        \n",
    "    start = time()\n",
    "    ### Fit\n",
    "    df = pd.DataFrame()\n",
    "    df[\"pattern\"] = X_train\n",
    "    df[\"array\"] = X_train\n",
    "    df[\"y\"] = y_train\n",
    "    df[\"y\"] = df[\"y\"].apply(lambda x : x[0][0])\n",
    "    df[\"pattern\"] = df[\"pattern\"].apply(lambda x : str(x.astype(int)))    \n",
    "    threshold = np.mean(y_train)\n",
    "    f = df.groupby(\"pattern\", as_index=False).agg({\"y\": \"mean\", \"array\": lambda x : list(x)})\n",
    "    f[\"array\"] = f[\"array\"].apply(lambda x : x[0])\n",
    "    \n",
    "    \n",
    "    f[\"y\"] = (f[\"y\"] > threshold) * 1 \n",
    "    \n",
    "    \n",
    "    if verbose:\n",
    "        print('Fitting: {0}m{1}s'.format(int((time()-start)/60), int((time()-start)%60 )))        \n",
    "    \n",
    "    start = time()\n",
    "    ### Predict\n",
    "    y_pred = [predict(f, im, W) for im in I]   \n",
    "    if verbose:\n",
    "        print('Predict: {0}m{1}s'.format(int((time()-start)/60), int((time()-start)%60 )))        \n",
    "    \n",
    "    ### Friendly format to calc the metrics\n",
    "    y_true = [y[0][0] for y in y_train]\n",
    "    y_hat = [x for p in [y for y_p in y_pred for y in y_p] for x in p]\n",
    "\n",
    "    start = time()\n",
    "    ### metrics to log\n",
    "    accuracy = accuracy_score(O, y_pred)    \n",
    "    precision = precision_score(y_true, y_hat)\n",
    "    recall = recall_score(y_true, y_hat)\n",
    "    mse = mse_score(O, y_pred)    \n",
    "    f1 = f1_score(y_true, y_hat)\n",
    "    if verbose:\n",
    "        print('Metrics: {0}m{1}s'.format(int((time()-start)/60), int((time()-start)%60 )))        \n",
    "    \n",
    "    logs = {}\n",
    "    logs[\"accuracy\"] = accuracy\n",
    "    logs[\"mse\"] = mse    \n",
    "    logs[\"precision\"] = precision\n",
    "    logs[\"recall\"] = recall\n",
    "    logs[\"f1\"] = f1\n",
    "    \n",
    "    if verbose:\n",
    "        print(\"Training metrics: \")\n",
    "        print(\"Threshold: {:.2f}\".format(threshold))\n",
    "        print(\"Accuracy: {:0.2f}\".format(accuracy))    \n",
    "        print(\"Precision: {:0.2f}\".format(precision))\n",
    "        print(\"Recall: {:0.2f}\".format(recall))\n",
    "        print(\"MSE: {:0.2f}\".format(mse))\n",
    "        print(\"F1: {:0.2f}\".format(f1))\n",
    "    \n",
    "    return X_train, y_train, f, logs\n",
    "\n",
    "def learning_curve(I, O, W_shape, T, operator=[], stride=0, verbose=False, multiproc=False):\n",
    "    \n",
    "    train_errors = []\n",
    "    test_errors = []\n",
    "    for i in tqdm_notebook(range(1, len(I))):\n",
    "        train_images = I[:i]\n",
    "        train_output = O[:i]\n",
    "        X_train, y_train, f, logs = train_w(train_images, train_output, w.shape, operator, verbose=verbose)\n",
    "        \n",
    "        train_errors.append(1 - logs[\"accuracy\"])\n",
    "\n",
    "        ### Test error\n",
    "        y_pred = [predict(f, im, operator) for im in T]   \n",
    "        y_hat = [x for p in [y for y_p in y_pred for y in y_p] for x in p]\n",
    "        \n",
    "        accuracy = accuracy_score(O, y_pred)\n",
    "        test_errors.append(1 - accuracy)\n",
    "        \n",
    "    plt.plot(train_errors, label=\"Ein\")\n",
    "    plt.plot(test_errors, label=\"Eout\")\n",
    "    plt.title(\"Learning Curve\")\n",
    "    plt.xlabel(\"Number of training images\")\n",
    "    plt.ylabel(\"Percentage of incorrect predicted pixels\")\n",
    "    plt.legend()\n",
    "    plt.show()\n",
    "    \n",
    "def learning_curve_multiresolution(I, O, windows, T, operator=[], stride=0, verbose=False, multiproc=False):\n",
    "    train_errors = []\n",
    "    test_errors = []\n",
    "    for i in tqdm_notebook(range(0, len(I))):\n",
    "        import pdb;pdb.set_trace()\n",
    "        train_images = I[:i]\n",
    "        train_output = O[:i]\n",
    "        \n",
    "        functions = []\n",
    "        for window in windows:\n",
    "            X_train, y_train, f, logs = train_w(train_images, train_output, window.shape, window, verbose=verbose)\n",
    "            functions.append(f)\n",
    "    \n",
    "        y_pred = [multiresolution_predict(functions, im, windows) for im in train_images]   \n",
    "        #y_hat = [x for p in [y for y_p in y_pred for y in y_p] for x in p]\n",
    "        \n",
    "        train_accuracy = accuracy_score(train_output, y_pred)\n",
    "        if train_accuracy == np.nan:\n",
    "            train_accuracy = 1\n",
    "        train_errors.append(1 - train_accuracy)\n",
    "\n",
    "        ### Test error\n",
    "        y_pred = [multiresolution_predict(functions, im, windows) for im in T]   \n",
    "        #y_hat = [x for p in [y for y_p in y_pred for y in y_p] for x in p]\n",
    "        \n",
    "        test_accuracy = accuracy_score(O[:len(T)], y_pred)\n",
    "        test_errors.append(1 - test_accuracy)\n",
    "        \n",
    "    plt.plot([i for i in range(1, len(I)+1), train_errors, label=\"Ein\")\n",
    "    plt.plot([i for i in range(1, len(I)+1), test_errors, label=\"Eout\")\n",
    "    plt.title(\"Learning Curve\")\n",
    "    plt.xlabel(\"Number of training images\")\n",
    "    plt.ylabel(\"Percentage of incorrect predicted pixels\")\n",
    "    plt.legend()\n",
    "    plt.show()\n",
    "    \n",
    "    return train_errors, test_errors\n",
    "    \n",
    "def retrieve_prediction(f, pattern):\n",
    "    try:\n",
    "        prediction = f[f[\"pattern\"] == str(pattern)][\"y\"].values[0]\n",
    "    except:\n",
    "        prediction = 0\n",
    "        \n",
    "    return prediction\n",
    "                        \n",
    "def predict(f, image, W):\n",
    "    \"\"\"\n",
    "    \n",
    "    \"\"\"\n",
    "    extracted_feats = extract_window(image, W)    \n",
    "\n",
    "    ### Multiproc\n",
    "    partitions = cpu_count()\n",
    "    result = Parallel(n_jobs= partitions, max_nbytes=None)(delayed(retrieve_prediction)(f, pattern) for pattern in extracted_feats)\n",
    "\n",
    "    ### Single thread\n",
    "    #result = [retrieve_prediction(f, feat) for feat in extracted_feats]    \n",
    "    \n",
    "    output = np.array(result).reshape(image.shape)\n",
    "    \n",
    "    return output\n",
    "\n",
    "def multiresolution_predict(functions, image, windows):\n",
    "    output = np.zeros(image.shape)\n",
    "    result = []\n",
    "    extracted_feats = [extract_window(image, W) for W in windows]\n",
    "    \n",
    "    for pixel in range(np.size(image)):\n",
    "        prediction = None\n",
    "        for i, function in enumerate(functions):\n",
    "            try:\n",
    "                prediction = function[function[\"pattern\"] == str(extracted_feats[i][pixel])][\"y\"].values[0]                \n",
    "                break\n",
    "            except:\n",
    "                pass\n",
    "        if prediction == None:\n",
    "            prediction = 0\n",
    "        result.append(prediction)\n",
    "                                      \n",
    "    return np.array(result).reshape(image.shape)\n",
    "\n",
    "def print_patterns(patterns):    \n",
    "    for pattern in patterns:\n",
    "        draw_img(pattern)\n",
    "        \n",
    "        \n",
    "def custom_erosion(element, img):\n",
    "    pass\n",
    "\n",
    "def custom_dilatation(element, img):\n",
    "    pass"
   ]
  },
  {
   "cell_type": "markdown",
   "metadata": {},
   "source": [
    "# MAC0460/5832 - Lista 2: Escolha de modelo\n",
    "\n",
    "### Data de Entrega: 23h55m do dia 22/10/2018\n",
    "\n",
    "(Ainda sem monitoria definida)"
   ]
  },
  {
   "cell_type": "markdown",
   "metadata": {},
   "source": [
    "Q1. Projete, a partir dos dados, o operador capaz de filtrar ruído usando a técnica de multiresolução. Como conjuntos de hipóteses, utilize diferentes subamostragens da janela original, como ilustrado abaixo:\n",
    "\n",
    "1. Subamostragem 1: ![alt text](imgs/q1_h1.png \"1\")\n",
    "2. Subamostragem 2: ![alt text](imgs/q1_h2.png \"2\")\n",
    "3. Subamostragem 3: ![alt text](imgs/q1_h3.png \"2\")\n",
    "\n",
    "Para cada conjunto, plote os erros  $E_{in}$ e $E_{val}$ ao longo do treinamento. Após escolher o modelo mais apropriado, retreine seu operador com todos os dados e imprima o erro $E_{in}$.\n",
    "\n",
    "Utilize as imagens da pasta imgs/q1/ para realizar o treinamento e validação (nota: são as mesmas imagens do EP anterior)."
   ]
  },
  {
   "cell_type": "code",
   "execution_count": 4,
   "metadata": {},
   "outputs": [],
   "source": [
    "n_train = 10\n",
    "train_images = [read_img(\"imgs/q1/q1_src\" + str(i) + \".png\") for i in range(1, n_train+1)]\n",
    "train_output = [read_img(\"imgs/q1/q1_dest.png\") for i in range(1, n_train+1)]"
   ]
  },
  {
   "cell_type": "code",
   "execution_count": 11,
   "metadata": {},
   "outputs": [
    {
     "data": {
      "text/plain": [
       "[array([[False, False, False, ..., False, False, False],\n",
       "        [False, False, False, ..., False, False, False],\n",
       "        [False, False, False, ..., False, False, False],\n",
       "        ...,\n",
       "        [False, False, False, ..., False, False, False],\n",
       "        [False, False, False, ..., False, False, False],\n",
       "        [False, False, False, ..., False, False, False]])]"
      ]
     },
     "execution_count": 11,
     "metadata": {},
     "output_type": "execute_result"
    }
   ],
   "source": [
    "train_images[:1]"
   ]
  },
  {
   "cell_type": "code",
   "execution_count": 5,
   "metadata": {},
   "outputs": [
    {
     "data": {
      "image/png": "[encoded data removed]",
      "text/plain": [
       "<matplotlib.figure.Figure at 0x11373f470>"
      ]
     },
     "metadata": {},
     "output_type": "display_data"
    }
   ],
   "source": [
    "w1 = np.ones((3, 3), dtype=int)\n",
    "w1 = np.array([[1, 1, 1, 1, 1], [1, 1, 1, 1, 1], [1, 1, 1, 1, 1], [1, 1, 1, 1, 1] , [1, 1, 1, 1, 1]])\n",
    "draw_img(w1)\n",
    "\n",
    "### Deveria aparecer todo escuro, mas quando é tudo 1 ele fica branco.\n",
    "### Se eu tiro um 1 e substituo por 0 ele fica com todos em preto, \n",
    "### menos um."
   ]
  },
  {
   "cell_type": "code",
   "execution_count": 6,
   "metadata": {},
   "outputs": [
    {
     "data": {
      "image/png": "[encoded data removed]",
      "text/plain": [
       "<matplotlib.figure.Figure at 0x1140aff28>"
      ]
     },
     "metadata": {},
     "output_type": "display_data"
    }
   ],
   "source": [
    "w2 = np.array([[1, 0, 1, 0, 1], [0, 0, 0, 0, 0], [1, 0, 1, 0, 1], [0, 0, 0, 0, 0] , [1, 0, 1, 0, 1]])\n",
    "draw_img(w2)"
   ]
  },
  {
   "cell_type": "code",
   "execution_count": 7,
   "metadata": {},
   "outputs": [
    {
     "data": {
      "image/png": "[encoded data removed]",
      "text/plain": [
       "<matplotlib.figure.Figure at 0x1141f4fd0>"
      ]
     },
     "metadata": {},
     "output_type": "display_data"
    }
   ],
   "source": [
    "w3 = np.array([[0, 0, 0, 0, 0], [0, 0, 0, 0, 0], [0, 0, 1, 0, 0], [0, 0, 0, 0, 0] , [0, 0, 0, 0, 0]])\n",
    "draw_img(w3)"
   ]
  },
  {
   "cell_type": "code",
   "execution_count": 8,
   "metadata": {},
   "outputs": [
    {
     "data": {
      "application/vnd.jupyter.widget-view+json": {
       "model_id": "3ae18563a02f4f2f927475ae7f3b2b63"
      }
     },
     "metadata": {},
     "output_type": "display_data"
    },
    {
     "name": "stdout",
     "output_type": "stream",
     "text": [
      "\n"
     ]
    },
    {
     "data": {
      "image/png": "[encoded data removed]",
      "text/plain": [
       "<matplotlib.figure.Figure at 0x11373f198>"
      ]
     },
     "metadata": {},
     "output_type": "display_data"
    },
    {
     "data": {
      "text/plain": [
       "([0.025640624999999972, 0.027240234375000005],\n",
       " [0.028597656249999992, 0.028972656250000006])"
      ]
     },
     "execution_count": 8,
     "metadata": {},
     "output_type": "execute_result"
    }
   ],
   "source": [
    "windows = [w1, w2, w3]\n",
    "\n",
    "ein_1, eout_1 = learning_curve_multiresolution(train_images[:4], train_output[:4], windows, train_images[9:], operator=[], stride=0, verbose=False, multiproc=False)"
   ]
  },
  {
   "cell_type": "code",
   "execution_count": 49,
   "metadata": {
    "collapsed": true
   },
   "outputs": [],
   "source": [
    "train_images = [read_img(\"imgs/q1/q1_src\" + str(i) + \".png\") for i in range(1, n_train+1)]\n",
    "train_output = [read_img(\"imgs/q1/q1_dest.png\") for i in range(1, n_train+1)]"
   ]
  },
  {
   "cell_type": "code",
   "execution_count": 50,
   "metadata": {},
   "outputs": [
    {
     "data": {
      "text/plain": [
       "(400, 640)"
      ]
     },
     "execution_count": 50,
     "metadata": {},
     "output_type": "execute_result"
    }
   ],
   "source": [
    "train_images[0].shape"
   ]
  },
  {
   "cell_type": "code",
   "execution_count": 51,
   "metadata": {},
   "outputs": [
    {
     "data": {
      "image/png": "[encoded data removed]",
      "text/plain": [
       "<matplotlib.figure.Figure at 0x114a62f98>"
      ]
     },
     "metadata": {},
     "output_type": "display_data"
    }
   ],
   "source": [
    "draw_img(train_images[0][150:200, 150:200])"
   ]
  },
  {
   "cell_type": "code",
   "execution_count": 52,
   "metadata": {},
   "outputs": [],
   "source": [
    "train_images = [im[150:300, 150:300] for im in train_images]\n",
    "train_output = [im[150:300, 150:300] for im in train_output]"
   ]
  },
  {
   "cell_type": "code",
   "execution_count": 53,
   "metadata": {},
   "outputs": [
    {
     "data": {
      "application/vnd.jupyter.widget-view+json": {
       "model_id": "ad336a99ac6d4e55aee5ff05952cc3a5"
      }
     },
     "metadata": {},
     "output_type": "display_data"
    },
    {
     "name": "stderr",
     "output_type": "stream",
     "text": [
      "/Users/lgmoneda/miniconda2/envs/ml3/lib/python3.6/site-packages/numpy/core/fromnumeric.py:2957: RuntimeWarning: Mean of empty slice.\n",
      "  out=out, **kwargs)\n",
      "/Users/lgmoneda/miniconda2/envs/ml3/lib/python3.6/site-packages/numpy/core/_methods.py:80: RuntimeWarning: invalid value encountered in double_scalars\n",
      "  ret = ret.dtype.type(ret / rcount)\n",
      "/Users/lgmoneda/miniconda2/envs/ml3/lib/python3.6/site-packages/pandas/core/ops.py:816: FutureWarning: elementwise comparison failed; returning scalar instead, but in the future will perform elementwise comparison\n",
      "  result = getattr(x, name)(y)\n"
     ]
    },
    {
     "name": "stdout",
     "output_type": "stream",
     "text": [
      "\n"
     ]
    },
    {
     "data": {
      "image/png": "[encoded data removed]",
      "text/plain": [
       "<matplotlib.figure.Figure at 0x11419c208>"
      ]
     },
     "metadata": {},
     "output_type": "display_data"
    }
   ],
   "source": [
    "windows = [w1, w2, w3]\n",
    "\n",
    "ein_1, eout_1 = learning_curve_multiresolution(train_images[:8], train_output[:8], windows, train_images[8:], operator=[], stride=0, verbose=False, multiproc=False)"
   ]
  },
  {
   "cell_type": "code",
   "execution_count": 58,
   "metadata": {},
   "outputs": [
    {
     "data": {
      "text/plain": [
       "[<matplotlib.lines.Line2D at 0x1140dd828>]"
      ]
     },
     "execution_count": 58,
     "metadata": {},
     "output_type": "execute_result"
    },
    {
     "data": {
      "image/png": "[encoded data removed]",
      "text/plain": [
       "<matplotlib.figure.Figure at 0x1140a9470>"
      ]
     },
     "metadata": {},
     "output_type": "display_data"
    }
   ],
   "source": [
    "plt.plot(eout_1[1:])\n",
    "plt.plot(ein_1[1:])"
   ]
  },
  {
   "cell_type": "code",
   "execution_count": null,
   "metadata": {
    "collapsed": true
   },
   "outputs": [],
   "source": [
    "windows = [w1, w2, w3]\n",
    "\n",
    "ein_2, eout_2 = learning_curve_multiresolution(train_images[:3], train_output[:3], windows, train_images[9:], operator=[], stride=0, verbose=False, multiproc=False)"
   ]
  },
  {
   "cell_type": "code",
   "execution_count": null,
   "metadata": {
    "collapsed": true
   },
   "outputs": [],
   "source": [
    "windows = [w1, w2, w3]\n",
    "\n",
    "ein_3, eout_3 = learning_curve_multiresolution(train_images[:3], train_output[:3], windows, train_images[9:], operator=[], stride=0, verbose=False, multiproc=False)"
   ]
  },
  {
   "cell_type": "markdown",
   "metadata": {},
   "source": [
    "Q2. Considere novamente o problema de filtrar ruído. Utilizando as imagens da pasta imgs/q2/, explore diferentes funções booleanas para filtrar ruído. A operação **abertura** é definida como uma **erosão** seguida por uma **dilatação**, isto é $\\delta_{B2}\\epsilon_{B1}$, onde $B1$ e $B2$ são os elementos estruturantes. De modo semelhante, a função **fechamento** é definida por uma **dilatação** seguida por uma **erosão** ($\\epsilon_{B2}\\delta_{B1}$). Baseado nas funções *erosion* e *dilation* definidas em mac0460_5832/utils.py, teste os seguintes espaços de hipóteses:\n",
    "\n",
    "1. Abertura;\n",
    "2. Fechamento;\n",
    "3. Abertura seguida de fechamento;\n",
    "\n",
    "Para cada espaço de hipóteses, defina diferentes funções variando $B1$ e $B2$ (ou seja, crie as funções de maneira análoga à seguinte definição para um conjunto de aberturas: $\\mathcal{F} = \\{\\psi_{B1B2}: \\psi =  \\delta_{B2}\\epsilon_{B1}, B1, B2 \\subseteq W_{3x3} \\}$, onde $W_{3x3}$ é a janela 3x3). Mostre a função que tem menor erro e verifique o seu desempenho nos dados de teste.\n",
    "\n",
    "Obs: existe no utils.py funções para abertura e fechamento. No entanto, essas funções utilizam o mesmo elemento estruturante para a erosão e dilatação, não permitindo o uso de diferentes elementos estruturantes. "
   ]
  },
  {
   "cell_type": "markdown",
   "metadata": {},
   "source": [
    "### Resolução\n",
    "\n",
    "1. Definir os elementos estruturantes (kernel) possíveis a serem usados como B1 e B2\n",
    "2. Testar os 3 espaços de hipótese com todas as combinações de B1 e B2\n",
    "3. Selecionar o que apresentar o menor erro e aplicar em uma imagem não usada no cálculo deste (uma de teste)"
   ]
  },
  {
   "cell_type": "code",
   "execution_count": 70,
   "metadata": {
    "collapsed": true
   },
   "outputs": [],
   "source": [
    "w1 = np.ones((3,3), dtype=np.uint8)\n",
    "w2 = np.array([[0, 1, 0], [1, 1, 1], [0, 1, 0]], dtype=np.uint8)\n",
    "w3 = np.array([[0, 1, 1], [1, 1, 1], [1, 1, 0]], dtype=np.uint8)\n",
    "w4 = np.array([[1, 1, 1], [0, 1, 0], [1, 1, 1]], dtype=np.uint8)\n",
    "w5 = np.array([[1, 0, 1], [1, 0, 1], [0, 0, 1]], dtype=np.uint8)\n",
    "\n",
    "bs = [w1, w2, w3, w4, w5]"
   ]
  },
  {
   "cell_type": "code",
   "execution_count": 69,
   "metadata": {},
   "outputs": [
    {
     "data": {
      "image/png": "[encoded data removed]",
      "text/plain": [
       "<matplotlib.figure.Figure at 0x116663470>"
      ]
     },
     "metadata": {},
     "output_type": "display_data"
    }
   ],
   "source": [
    "import cv2\n",
    "import numpy as np\n",
    "\n",
    "img = cv2.imread('imgs/q2/src0.png',0)\n",
    "kernel = np.ones((5,5),np.uint8)\n",
    "erosion = cv2.erode(img, w1, iterations = 3)\n",
    "draw_img(erosion)"
   ]
  },
  {
   "cell_type": "code",
   "execution_count": 2,
   "metadata": {
    "scrolled": false
   },
   "outputs": [
    {
     "data": {
      "image/png": "[encoded data removed]",
      "text/plain": [
       "<Figure size 792x252 with 2 Axes>"
      ]
     },
     "metadata": {
      "needs_background": "light"
     },
     "output_type": "display_data"
    }
   ],
   "source": [
    "# Exemplo \n",
    "draw_img_pair(read_img('imgs/q2/dest.png'), read_img('imgs/q2/src0.png'), figsz=(11, 3.5))"
   ]
  },
  {
   "cell_type": "code",
   "execution_count": null,
   "metadata": {
    "collapsed": true
   },
   "outputs": [],
   "source": []
  }
 ],
 "metadata": {
  "kernelspec": {
   "display_name": "ml3",
   "language": "python",
   "name": "python3"
  },
  "language_info": {
   "codemirror_mode": {
    "name": "ipython",
    "version": 3
   },
   "file_extension": ".py",
   "mimetype": "text/x-python",
   "name": "python",
   "nbconvert_exporter": "python",
   "pygments_lexer": "ipython3",
   "version": "3.6.2"
  }
 },
 "nbformat": 4,
 "nbformat_minor": 2
}
