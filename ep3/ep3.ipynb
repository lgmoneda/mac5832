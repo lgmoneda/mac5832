{
 "cells": [
  {
   "cell_type": "code",
   "execution_count": 1,
   "metadata": {},
   "outputs": [],
   "source": [
    "import numpy as np\n",
    "import matplotlib.pyplot as plt"
   ]
  },
  {
   "cell_type": "markdown",
   "metadata": {},
   "source": [
    "# MAC0460/5832 - Lista 3: Redes Neurais - MNIST\n",
    "\n",
    "### Data de Entrega: a definir!\n",
    "\n",
    "##### Classificação de dígitos\n",
    "Os dataset para esta tarefa foi tirado da competição do kaggle de reconhecimento de dígitos (https://www.kaggle.com/c/digit-recognizer) e está disponível em http://vision.ime.usp.br/~caiomr/mac0460_5832/train.csv.gz. O dataset está sob a licença Creative Commons Attribution-Share Alike 3.0 license (https://creativecommons.org/licenses/by-sa/3.0/). O dataset foi zipado, mas os dados estão inalterados. Cada linha (amostra) do arquivo contém 785 colunas: a primeira informa o label da amostra e as outras 784 são os valores dos pixels da imagem (28 x 28) que representa o dígito.\n",
    "\n"
   ]
  },
  {
   "cell_type": "markdown",
   "metadata": {},
   "source": [
    "# Questão 1\n",
    "\n",
    "Projete uma rede neural para resolver o problema de classificação de dígitos. Baixe o arquivo train.csv.gz (link acima) e dezipe-o para a pasta data/. Verifique que as células abaixo executam com sucesso e exibem o resultado esperado. Utilize os pacotes de python tensorflow (https://www.tensorflow.org/), theano (http://deeplearning.net/software/theano/) ou PyTorch (https://pytorch.org/) para implementar sua rede neural. Escolha o que preferir/tiver mais familiaridade - ou o quiser passar a ter mais familiaridade :) - para definir sua rede neural. Usem a arquitetura 3-layer NN 300+100 hidden units (erro 3.05%), como descrito no site http://yann.lecun.com/exdb/mnist/index.html.\n",
    "\n",
    "\n",
    "Façam os três seguintes experimentos:\n",
    "\n",
    "1. Imagem original.\n",
    "2. Imagem amostrada com passo 1, isto é, reduz a imagem para 1/4 do número total de pixels.\n",
    "3. Imagem amostrada com passo 2, isto é, reduz a imagem para 1/16 do número total de pixels.\n",
    "\n",
    "\n",
    "Em cada experimento, execute os seguintes procedimentos:\n",
    "1. Compute a curva experimental de aprendizado (N = 5000, N = 10000, N = 15000, ... N = 35000), estimar o $E_{out}$ a partir das 7000 amostras não usadas.\n",
    "2. Para N = 35000 (isto é, separe 7000 amostras para validação), calcule o valor da precisão $\\epsilon = E_{out} - E_{in}$.\n",
    "3. Adote o valor de $\\epsilon$ calculado em 2; repita dez vezes o experimento de aprendizado para $N = 35000$ e 7000 amostras de validação (em cada experimento, escolha aleatoriamente entre as 42000 amostras 7000 para formar o conjunto de validação e as restantes para treinamento); calcule o $E_{out}$ para cada um dos experimentos; a partir dos $E_{out}$ calculados, estime o valor do parâmetro $\\delta$.\n",
    "4. Comente os resultados obtidos.\n",
    "\n",
    "Adote *learning rate* $\\eta = 0.001$.\n",
    "Para o item 3, lembre da equação $P(|E_{out}(h_{opt}) - E_{in}(h_{opt})| < \\epsilon) > 1 - \\delta$."
   ]
  },
  {
   "cell_type": "code",
   "execution_count": 2,
   "metadata": {},
   "outputs": [
    {
     "name": "stdout",
     "output_type": "stream",
     "text": [
      "(42000, 785)\n"
     ]
    }
   ],
   "source": [
    "data = np.genfromtxt('data/train.csv', delimiter=',', skip_header=1).astype(np.dtype('uint8'))\n",
    "print(data.shape)"
   ]
  },
  {
   "cell_type": "code",
   "execution_count": 3,
   "metadata": {},
   "outputs": [
    {
     "name": "stdout",
     "output_type": "stream",
     "text": [
      "Label:  1\n"
     ]
    },
    {
     "data": {
      "image/png": "[encoded data removed]",
      "text/plain": [
       "<Figure size 432x288 with 1 Axes>"
      ]
     },
     "metadata": {
      "needs_background": "light"
     },
     "output_type": "display_data"
    },
    {
     "name": "stdout",
     "output_type": "stream",
     "text": [
      "Label:  0\n"
     ]
    },
    {
     "data": {
      "image/png": "[encoded data removed]",
      "text/plain": [
       "<Figure size 432x288 with 1 Axes>"
      ]
     },
     "metadata": {
      "needs_background": "light"
     },
     "output_type": "display_data"
    },
    {
     "name": "stdout",
     "output_type": "stream",
     "text": [
      "Label:  8\n"
     ]
    },
    {
     "data": {
      "image/png": "[encoded data removed]",
      "text/plain": [
       "<Figure size 432x288 with 1 Axes>"
      ]
     },
     "metadata": {
      "needs_background": "light"
     },
     "output_type": "display_data"
    }
   ],
   "source": [
    "sample = data[0]\n",
    "print(\"Label: \", sample[0])\n",
    "plt.imshow(sample[1:].reshape((28,28)), cmap='gray')\n",
    "plt.show()\n",
    "\n",
    "sample = data[1]\n",
    "print(\"Label: \", sample[0])\n",
    "plt.imshow(sample[1:].reshape((28,28)), cmap='gray')\n",
    "plt.show()\n",
    "\n",
    "sample = data[20]\n",
    "print(\"Label: \", sample[0])\n",
    "plt.imshow(sample[1:].reshape((28,28)), cmap='gray')\n",
    "plt.show()"
   ]
  },
  {
   "cell_type": "code",
   "execution_count": 4,
   "metadata": {},
   "outputs": [
    {
     "data": {
      "text/plain": [
       "(42000, 1)"
      ]
     },
     "execution_count": 4,
     "metadata": {},
     "output_type": "execute_result"
    }
   ],
   "source": [
    "data[:, :1].shape"
   ]
  },
  {
   "cell_type": "code",
   "execution_count": 150,
   "metadata": {
    "scrolled": true
   },
   "outputs": [],
   "source": [
    "import torch\n",
    "import seaborn as sns\n",
    "import torch.nn.functional as F\n",
    "from sklearn.model_selection import train_test_split\n",
    "from sklearn.preprocessing import MinMaxScaler, StandardScaler\n",
    "import warnings\n",
    "warnings.filterwarnings('ignore')\n",
    "sns.set()\n",
    "\n",
    "def to_multiclass_vector(a, n_classes):\n",
    "    return np.squeeze(np.eye(n_classes)[a.reshape(-1)])\n",
    "\n",
    "def accuracy_fn(y_pred, y_true):\n",
    "    y_pred = np.argmax(y_pred.data, axis=1)\n",
    "    y_pred = y_pred.numpy()\n",
    "    accuracy = (y_pred == np.argmax(y_true, axis=1).numpy()).sum() / float(len(y_pred))\n",
    "\n",
    "    return accuracy\n",
    "\n",
    "def train_nn(X, y, train_size=5000, test_size=7000, epochs=500, D_in=784, random_state=42, verbose=False):\n",
    "    \n",
    "    X_train, X_test, y_train, y_test = train_test_split(X, \n",
    "                                                        y, \n",
    "                                                        train_size = train_size,\n",
    "                                                        test_size = test_size,\n",
    "                                                        random_state = random_state)\n",
    "\n",
    "    y_train = to_multiclass_vector(y_train, 10)\n",
    "    y_test = to_multiclass_vector(y_test, 10)\n",
    "\n",
    "    mm = MinMaxScaler((0, 255))\n",
    "    X_train = mm.fit_transform(X_train)\n",
    "    X_test = mm.transform(X_test)\n",
    "\n",
    "    ss = StandardScaler()\n",
    "    X_train = ss.fit_transform(X_train)\n",
    "    X_test = ss.transform(X_test)\n",
    "\n",
    "    H_1, H_2, D_out = 300, 100, 10\n",
    "\n",
    "    X_train = torch.from_numpy(X_train)\n",
    "    y_train = torch.from_numpy(y_train)\n",
    "\n",
    "    X_test = torch.from_numpy(X_test)\n",
    "    y_test = torch.from_numpy(y_test)\n",
    "\n",
    "    X_train, y_train = X_train.type(torch.FloatTensor), y_train.type(torch.LongTensor)\n",
    "    X_test, y_test = X_test.type(torch.FloatTensor), y_test.type(torch.LongTensor)\n",
    "\n",
    "    model = torch.nn.Sequential(\n",
    "        torch.nn.Linear(D_in, H_1),\n",
    "        torch.nn.ReLU(),\n",
    "        torch.nn.Linear(H_1, H_2),\n",
    "        torch.nn.ReLU(),\n",
    "        torch.nn.Linear(H_2, D_out),\n",
    "        torch.nn.Softmax(),\n",
    "    )\n",
    "\n",
    "\n",
    "    #loss_fn = torch.nn.MultiLabelSoftMarginLoss()\n",
    "    loss_fn = torch.nn.CrossEntropyLoss()\n",
    "\n",
    "    learning_rate = 1e-3\n",
    "    test_errors = []\n",
    "    train_errors = []\n",
    "    optimizer = torch.optim.SGD(model.parameters(), lr=learning_rate, momentum=0.9)\n",
    "    \n",
    "    for t in range(epochs):\n",
    "        #for i in range(0, len(X_train), N):\n",
    "        X = X_train#[i:i + N]\n",
    "        y = y_train#[i:i + N]\n",
    "        y_pred = model(X)\n",
    "        loss = loss_fn(y_pred, torch.max(y, 1)[1])\n",
    "\n",
    "        # Train accuracy\n",
    "        y_pred = model(X_train)\n",
    "        train_accuracy = accuracy_fn(y_pred, y_train)\n",
    "        train_errors.append(1 - train_accuracy)\n",
    "        # Test accuracy\n",
    "        y_pred = model(X_test)\n",
    "        test_accuracy = accuracy_fn(y_pred, y_test)\n",
    "        test_loss = loss_fn(y_pred, torch.max(y_test, 1)[1])\n",
    "        error = 1 - test_accuracy    \n",
    "        test_errors.append(error)\n",
    "        if t % 2 == 0 and verbose:\n",
    "            print(\"{}: train loss: {:.5f}, test loss: {:.5f}, error: {:.5f}\".format(t, loss.item(), test_loss.item(), error))\n",
    "            #print(\"{}: train accuracy: {:.5f}, test accuracy: {:.5f}\".format(t, train_accuracy, test_accuracy))\n",
    "\n",
    "        model.zero_grad()\n",
    "        loss.backward()\n",
    "        optimizer.step()\n",
    "\n",
    "#         with torch.no_grad():\n",
    "#             for param in model.parameters():\n",
    "#                 param -= learning_rate * param.grad\n",
    "                \n",
    "    return train_errors, test_errors\n",
    "\n",
    "def train_size_experiment(X, y, train_sizes, epochs=5000, random_state=42, D_in=784, verbose=False):\n",
    "    train_errors = []\n",
    "    test_errors = []\n",
    "\n",
    "    for train_size in train_sizes:\n",
    "        print(\"Training with train_size of {} samples\".format(train_size))\n",
    "        train, test = train_nn(X, \n",
    "                               y,\n",
    "                               train_size=train_size, \n",
    "                               test_size=7000,\n",
    "                               epochs=epochs,\n",
    "                               D_in=D_in,\n",
    "                               random_state=random_state,\n",
    "                               verbose=verbose)\n",
    "\n",
    "        train_errors.append(train[-1])\n",
    "        test_errors.append(test[-1])  \n",
    "    \n",
    "    return train_errors, test_errors\n",
    "\n",
    "def plot_experimental_learning_curve(train_sizes, train_errors, test_errors):\n",
    "    plt.figure(figsize=(12, 6))\n",
    "    plt.plot([s for s in train_sizes], train_errors, label=\"Ein\")\n",
    "    plt.plot([s for s in train_sizes], test_errors, label=\"Eout\")\n",
    "    plt.legend()\n",
    "    plt.xlabel(\"Training samples\")\n",
    "    plt.ylabel(\"Error\")\n",
    "    plt.title(\"Experimental learning curve\")\n",
    "    plt.show()"
   ]
  },
  {
   "cell_type": "markdown",
   "metadata": {},
   "source": [
    "### Experimento 1 - Imagem original"
   ]
  },
  {
   "cell_type": "code",
   "execution_count": null,
   "metadata": {},
   "outputs": [
    {
     "name": "stdout",
     "output_type": "stream",
     "text": [
      "Training with train_size of 5000 samples\n"
     ]
    }
   ],
   "source": [
    "train_sizes = range(5000, 5001, 5000)\n",
    "train_errors, test_errors = train_size_experiment(data[:, 1:], data[:, :1], train_sizes, epochs=8000)"
   ]
  },
  {
   "cell_type": "markdown",
   "metadata": {},
   "source": [
    "1. Compute a curva experimental de aprendizado (N = 5000, N = 10000, N = 15000, ... N = 35000), estimar o  Eout a partir das 7000 amostras não usadas."
   ]
  },
  {
   "cell_type": "code",
   "execution_count": null,
   "metadata": {},
   "outputs": [],
   "source": [
    "plot_experimental_learning_curve(train_sizes, train_errors, test_errors)"
   ]
  },
  {
   "cell_type": "markdown",
   "metadata": {},
   "source": [
    "2. Para N = 35000 (isto é, separe 7000 amostras para validação), calcule o valor da precisão $\\epsilon = E_{out} - E_{in}$."
   ]
  },
  {
   "cell_type": "code",
   "execution_count": 158,
   "metadata": {},
   "outputs": [
    {
     "name": "stdout",
     "output_type": "stream",
     "text": [
      "Precisão: 0.0002142857142857224\n"
     ]
    }
   ],
   "source": [
    "epsilon = test_errors[-1] - train_errors[-1]\n",
    "print(\"Precisão: {}\".format(test_errors[-1] - train_errors[-1]))"
   ]
  },
  {
   "cell_type": "markdown",
   "metadata": {},
   "source": [
    "3. Adote o valor de $\\epsilon$ calculado em 2; repita dez vezes o experimento de aprendizado para $N = 35000$ e 7000 amostras de validação (em cada experimento, escolha aleatoriamente entre as 42000 amostras 7000 para formar o conjunto de validação e as restantes para treinamento); calcule o $E_{out}$ para cada um dos experimentos; a partir dos $E_{out}$ calculados, estime o valor do parâmetro $\\delta$."
   ]
  },
  {
   "cell_type": "code",
   "execution_count": 91,
   "metadata": {},
   "outputs": [
    {
     "name": "stdout",
     "output_type": "stream",
     "text": [
      "Training with train_size of 35000 samples\n"
     ]
    },
    {
     "name": "stderr",
     "output_type": "stream",
     "text": [
      "/opt/conda/envs/kaggle/lib/python3.7/site-packages/sklearn/utils/validation.py:475: DataConversionWarning: Data with input dtype uint8 was converted to float64 by MinMaxScaler.\n",
      "  warnings.warn(msg, DataConversionWarning)\n",
      "/opt/conda/envs/kaggle/lib/python3.7/site-packages/torch/nn/modules/container.py:91: UserWarning: Implicit dimension choice for softmax has been deprecated. Change the call to include dim=X as an argument.\n",
      "  input = module(input)\n"
     ]
    },
    {
     "name": "stdout",
     "output_type": "stream",
     "text": [
      "Training with train_size of 35000 samples\n",
      "Training with train_size of 35000 samples\n",
      "Training with train_size of 35000 samples\n",
      "Training with train_size of 35000 samples\n",
      "Training with train_size of 35000 samples\n",
      "Training with train_size of 35000 samples\n",
      "Training with train_size of 35000 samples\n",
      "Training with train_size of 35000 samples\n",
      "Training with train_size of 35000 samples\n"
     ]
    }
   ],
   "source": [
    "train_sizes = 10 * [35000]\n",
    "train_errors, test_errors = train_size_experiment(data[:, 1:], data[:, :1], train_sizes, epochs=30, random_state=None)"
   ]
  },
  {
   "cell_type": "markdown",
   "metadata": {},
   "source": [
    "$P(|E_{out}(h_{opt}) - E_{in}(h_{opt})| < \\epsilon) > 1 - \\delta$."
   ]
  },
  {
   "cell_type": "code",
   "execution_count": 99,
   "metadata": {},
   "outputs": [
    {
     "name": "stdout",
     "output_type": "stream",
     "text": [
      "Delta é maior que 0.6\n"
     ]
    }
   ],
   "source": [
    "delta = -1 * ((np.array(test_errors) - np.array(train_errors) < epsilon).sum() / len(test_errors) - 1)\n",
    "print(\"Delta é maior que {}\".format(delta))"
   ]
  },
  {
   "cell_type": "markdown",
   "metadata": {},
   "source": [
    "### Experimento 2 - Imagem amostrada com passo 1\n",
    "\n",
    "Isto é, reduz a imagem para 1/4 do número total de pixels."
   ]
  },
  {
   "cell_type": "code",
   "execution_count": 125,
   "metadata": {},
   "outputs": [
    {
     "data": {
      "text/plain": [
       "(42000, 196)"
      ]
     },
     "execution_count": 125,
     "metadata": {},
     "output_type": "execute_result"
    }
   ],
   "source": [
    "data_2 = np.apply_along_axis(lambda a : a[::4], axis=1, arr=data[:, 1:])\n",
    "data_2.shape"
   ]
  },
  {
   "cell_type": "code",
   "execution_count": 131,
   "metadata": {},
   "outputs": [
    {
     "name": "stdout",
     "output_type": "stream",
     "text": [
      "Training with train_size of 5000 samples\n"
     ]
    },
    {
     "name": "stderr",
     "output_type": "stream",
     "text": [
      "/opt/conda/envs/kaggle/lib/python3.7/site-packages/sklearn/utils/validation.py:475: DataConversionWarning: Data with input dtype uint8 was converted to float64 by MinMaxScaler.\n",
      "  warnings.warn(msg, DataConversionWarning)\n",
      "/opt/conda/envs/kaggle/lib/python3.7/site-packages/torch/nn/modules/container.py:91: UserWarning: Implicit dimension choice for softmax has been deprecated. Change the call to include dim=X as an argument.\n",
      "  input = module(input)\n"
     ]
    },
    {
     "name": "stdout",
     "output_type": "stream",
     "text": [
      "Training with train_size of 10000 samples\n",
      "Training with train_size of 15000 samples\n",
      "Training with train_size of 20000 samples\n",
      "Training with train_size of 25000 samples\n",
      "Training with train_size of 30000 samples\n",
      "Training with train_size of 35000 samples\n"
     ]
    }
   ],
   "source": [
    "train_sizes = range(5000, 35001, 5000)\n",
    "train_errors, test_errors = train_size_experiment(data_2, data[:, :1], train_sizes, epochs=30, D_in = 196)"
   ]
  },
  {
   "cell_type": "code",
   "execution_count": 132,
   "metadata": {},
   "outputs": [
    {
     "data": {
      "image/png": "[encoded data removed]",
      "text/plain": [
       "<Figure size 864x432 with 1 Axes>"
      ]
     },
     "metadata": {},
     "output_type": "display_data"
    }
   ],
   "source": [
    "plot_experimental_learning_curve(train_sizes, train_errors, test_errors)"
   ]
  },
  {
   "cell_type": "code",
   "execution_count": 134,
   "metadata": {},
   "outputs": [
    {
     "name": "stdout",
     "output_type": "stream",
     "text": [
      "Training with train_size of 35000 samples\n"
     ]
    },
    {
     "name": "stderr",
     "output_type": "stream",
     "text": [
      "/opt/conda/envs/kaggle/lib/python3.7/site-packages/sklearn/utils/validation.py:475: DataConversionWarning: Data with input dtype uint8 was converted to float64 by MinMaxScaler.\n",
      "  warnings.warn(msg, DataConversionWarning)\n",
      "/opt/conda/envs/kaggle/lib/python3.7/site-packages/torch/nn/modules/container.py:91: UserWarning: Implicit dimension choice for softmax has been deprecated. Change the call to include dim=X as an argument.\n",
      "  input = module(input)\n"
     ]
    },
    {
     "name": "stdout",
     "output_type": "stream",
     "text": [
      "Training with train_size of 35000 samples\n",
      "Training with train_size of 35000 samples\n",
      "Training with train_size of 35000 samples\n",
      "Training with train_size of 35000 samples\n",
      "Training with train_size of 35000 samples\n",
      "Training with train_size of 35000 samples\n",
      "Training with train_size of 35000 samples\n",
      "Training with train_size of 35000 samples\n",
      "Training with train_size of 35000 samples\n"
     ]
    }
   ],
   "source": [
    "train_sizes = 10 * [35000]\n",
    "train_errors, test_errors = train_size_experiment(data_2, data[:, :1], train_sizes, epochs=30, random_state=None, D_in = 196)"
   ]
  },
  {
   "cell_type": "code",
   "execution_count": 135,
   "metadata": {},
   "outputs": [
    {
     "name": "stdout",
     "output_type": "stream",
     "text": [
      "Delta é maior que 0.30000000000000004\n"
     ]
    }
   ],
   "source": [
    "delta = -1 * ((np.array(test_errors) - np.array(train_errors) < epsilon).sum() / len(test_errors) - 1)\n",
    "print(\"Delta é maior que {}\".format(delta))"
   ]
  },
  {
   "cell_type": "markdown",
   "metadata": {},
   "source": [
    "### Experimento 3 - Imagem amostrada com passo 2\n",
    "\n",
    "Isto é, reduz a imagem para 1/8 do número total de pixels."
   ]
  },
  {
   "cell_type": "code",
   "execution_count": 141,
   "metadata": {},
   "outputs": [
    {
     "data": {
      "text/plain": [
       "(42000, 49)"
      ]
     },
     "execution_count": 141,
     "metadata": {},
     "output_type": "execute_result"
    }
   ],
   "source": [
    "data_3 = np.apply_along_axis(lambda a : a[::16], axis=1, arr=data[:, 1:])\n",
    "data_3.shape"
   ]
  },
  {
   "cell_type": "code",
   "execution_count": 142,
   "metadata": {},
   "outputs": [
    {
     "name": "stdout",
     "output_type": "stream",
     "text": [
      "Training with train_size of 5000 samples\n"
     ]
    },
    {
     "name": "stderr",
     "output_type": "stream",
     "text": [
      "/opt/conda/envs/kaggle/lib/python3.7/site-packages/sklearn/utils/validation.py:475: DataConversionWarning: Data with input dtype uint8 was converted to float64 by MinMaxScaler.\n",
      "  warnings.warn(msg, DataConversionWarning)\n",
      "/opt/conda/envs/kaggle/lib/python3.7/site-packages/torch/nn/modules/container.py:91: UserWarning: Implicit dimension choice for softmax has been deprecated. Change the call to include dim=X as an argument.\n",
      "  input = module(input)\n"
     ]
    },
    {
     "name": "stdout",
     "output_type": "stream",
     "text": [
      "Training with train_size of 10000 samples\n",
      "Training with train_size of 15000 samples\n",
      "Training with train_size of 20000 samples\n",
      "Training with train_size of 25000 samples\n",
      "Training with train_size of 30000 samples\n",
      "Training with train_size of 35000 samples\n"
     ]
    }
   ],
   "source": [
    "train_sizes = range(5000, 35001, 5000)\n",
    "train_errors, test_errors = train_size_experiment(data_3, data[:, :1], train_sizes, epochs=30, D_in = 49)"
   ]
  },
  {
   "cell_type": "code",
   "execution_count": 143,
   "metadata": {},
   "outputs": [
    {
     "data": {
      "image/png": "[encoded data removed]",
      "text/plain": [
       "<Figure size 864x432 with 1 Axes>"
      ]
     },
     "metadata": {},
     "output_type": "display_data"
    }
   ],
   "source": [
    "plot_experimental_learning_curve(train_sizes, train_errors, test_errors)"
   ]
  },
  {
   "cell_type": "code",
   "execution_count": 144,
   "metadata": {},
   "outputs": [
    {
     "name": "stdout",
     "output_type": "stream",
     "text": [
      "Training with train_size of 35000 samples\n"
     ]
    },
    {
     "name": "stderr",
     "output_type": "stream",
     "text": [
      "/opt/conda/envs/kaggle/lib/python3.7/site-packages/sklearn/utils/validation.py:475: DataConversionWarning: Data with input dtype uint8 was converted to float64 by MinMaxScaler.\n",
      "  warnings.warn(msg, DataConversionWarning)\n",
      "/opt/conda/envs/kaggle/lib/python3.7/site-packages/torch/nn/modules/container.py:91: UserWarning: Implicit dimension choice for softmax has been deprecated. Change the call to include dim=X as an argument.\n",
      "  input = module(input)\n"
     ]
    },
    {
     "name": "stdout",
     "output_type": "stream",
     "text": [
      "Training with train_size of 35000 samples\n",
      "Training with train_size of 35000 samples\n",
      "Training with train_size of 35000 samples\n",
      "Training with train_size of 35000 samples\n",
      "Training with train_size of 35000 samples\n",
      "Training with train_size of 35000 samples\n",
      "Training with train_size of 35000 samples\n",
      "Training with train_size of 35000 samples\n",
      "Training with train_size of 35000 samples\n"
     ]
    }
   ],
   "source": [
    "train_sizes = 10 * [35000]\n",
    "train_errors, test_errors = train_size_experiment(data_3, \n",
    "                                                  data[:, :1],\n",
    "                                                  train_sizes,\n",
    "                                                  epochs=30,\n",
    "                                                  random_state=None, \n",
    "                                                  D_in = 49)"
   ]
  },
  {
   "cell_type": "code",
   "execution_count": 145,
   "metadata": {},
   "outputs": [
    {
     "name": "stdout",
     "output_type": "stream",
     "text": [
      "Delta é maior que 0.4\n"
     ]
    }
   ],
   "source": [
    "delta = -1 * ((np.array(test_errors) - np.array(train_errors) < epsilon).sum() / len(test_errors) - 1)\n",
    "print(\"Delta é maior que {}\".format(delta))"
   ]
  },
  {
   "cell_type": "markdown",
   "metadata": {},
   "source": [
    "## Comentário dos resultados:"
   ]
  },
  {
   "cell_type": "code",
   "execution_count": null,
   "metadata": {},
   "outputs": [],
   "source": []
  },
  {
   "cell_type": "markdown",
   "metadata": {
    "collapsed": true
   },
   "source": [
    "# Questão 2\n",
    "\n",
    "O método de aprendizado adotado na questão anterior inclui regularização? Caso afirmativo, como? Caso negativo, como formularia a inclusão da regularização e porque esse procedimento melhoraria o resultado?"
   ]
  },
  {
   "cell_type": "markdown",
   "metadata": {},
   "source": [
    "**Resposta**: Não, o modelo acima foi construído sem qualquer técnica de regularização. \n",
    "\n",
    "Regularização é uma forma de expressar preferência por determinado tipos de solução quando trata-se de um problema de otimização. Ou seja, não se quer apenas minimizar ou maximizar uma métrica, mas se quer que a solução apresente determinadas características. \n",
    "\n",
    "De maneira mais objetiva, a regularização é uma ferramenta para o controle da complexidade de um modelo, tornando possível o controle do overfitting. \n",
    "\n",
    "No caso da rede neural podemos citar 3 formas de regularização: L1, L2 e Dropout. "
   ]
  }
 ],
 "metadata": {
  "kernelspec": {
   "display_name": "Python [conda env:kaggle]",
   "language": "python",
   "name": "conda-env-kaggle-py"
  },
  "language_info": {
   "codemirror_mode": {
    "name": "ipython",
    "version": 3
   },
   "file_extension": ".py",
   "mimetype": "text/x-python",
   "name": "python",
   "nbconvert_exporter": "python",
   "pygments_lexer": "ipython3",
   "version": "3.7.1"
  }
 },
 "nbformat": 4,
 "nbformat_minor": 2
}
