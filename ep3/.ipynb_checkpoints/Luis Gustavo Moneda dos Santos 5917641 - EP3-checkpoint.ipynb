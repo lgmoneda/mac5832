{
 "cells": [
  {
   "cell_type": "code",
   "execution_count": 1,
   "metadata": {},
   "outputs": [],
   "source": [
    "import numpy as np\n",
    "import matplotlib.pyplot as plt"
   ]
  },
  {
   "cell_type": "markdown",
   "metadata": {},
   "source": [
    "# MAC0460/5832 - Lista 3: Redes Neurais - MNIST\n",
    "\n",
    "### Data de Entrega: a definir!\n",
    "\n",
    "##### Classificação de dígitos\n",
    "Os dataset para esta tarefa foi tirado da competição do kaggle de reconhecimento de dígitos (https://www.kaggle.com/c/digit-recognizer) e está disponível em http://vision.ime.usp.br/~caiomr/mac0460_5832/train.csv.gz. O dataset está sob a licença Creative Commons Attribution-Share Alike 3.0 license (https://creativecommons.org/licenses/by-sa/3.0/). O dataset foi zipado, mas os dados estão inalterados. Cada linha (amostra) do arquivo contém 785 colunas: a primeira informa o label da amostra e as outras 784 são os valores dos pixels da imagem (28 x 28) que representa o dígito.\n",
    "\n"
   ]
  },
  {
   "cell_type": "markdown",
   "metadata": {},
   "source": [
    "# Questão 1\n",
    "\n",
    "Projete uma rede neural para resolver o problema de classificação de dígitos. Baixe o arquivo train.csv.gz (link acima) e dezipe-o para a pasta data/. Verifique que as células abaixo executam com sucesso e exibem o resultado esperado. Utilize os pacotes de python tensorflow (https://www.tensorflow.org/), theano (http://deeplearning.net/software/theano/) ou PyTorch (https://pytorch.org/) para implementar sua rede neural. Escolha o que preferir/tiver mais familiaridade - ou o quiser passar a ter mais familiaridade :) - para definir sua rede neural. Usem a arquitetura 3-layer NN 300+100 hidden units (erro 3.05%), como descrito no site http://yann.lecun.com/exdb/mnist/index.html.\n",
    "\n",
    "\n",
    "Façam os três seguintes experimentos:\n",
    "\n",
    "1. Imagem original.\n",
    "2. Imagem amostrada com passo 1, isto é, reduz a imagem para 1/4 do número total de pixels.\n",
    "3. Imagem amostrada com passo 2, isto é, reduz a imagem para 1/16 do número total de pixels.\n",
    "\n",
    "\n",
    "Em cada experimento, execute os seguintes procedimentos:\n",
    "1. Compute a curva experimental de aprendizado (N = 5000, N = 10000, N = 15000, ... N = 35000), estimar o $E_{out}$ a partir das 7000 amostras não usadas.\n",
    "2. Para N = 35000 (isto é, separe 7000 amostras para validação), calcule o valor da precisão $\\epsilon = E_{out} - E_{in}$.\n",
    "3. Adote o valor de $\\epsilon$ calculado em 2; repita dez vezes o experimento de aprendizado para $N = 35000$ e 7000 amostras de validação (em cada experimento, escolha aleatoriamente entre as 42000 amostras 7000 para formar o conjunto de validação e as restantes para treinamento); calcule o $E_{out}$ para cada um dos experimentos; a partir dos $E_{out}$ calculados, estime o valor do parâmetro $\\delta$.\n",
    "4. Comente os resultados obtidos.\n",
    "\n",
    "Adote *learning rate* $\\eta = 0.001$.\n",
    "Para o item 3, lembre da equação $P(|E_{out}(h_{opt}) - E_{in}(h_{opt})| < \\epsilon) > 1 - \\delta$."
   ]
  },
  {
   "cell_type": "code",
   "execution_count": 2,
   "metadata": {},
   "outputs": [
    {
     "name": "stdout",
     "output_type": "stream",
     "text": [
      "(42000, 785)\n"
     ]
    }
   ],
   "source": [
    "data = np.genfromtxt('data/train.csv', delimiter=',', skip_header=1).astype(np.dtype('uint8'))\n",
    "print(data.shape)"
   ]
  },
  {
   "cell_type": "code",
   "execution_count": 3,
   "metadata": {},
   "outputs": [
    {
     "name": "stdout",
     "output_type": "stream",
     "text": [
      "Label:  1\n"
     ]
    },
    {
     "data": {
      "image/png": "[encoded data removed]",
      "text/plain": [
       "<Figure size 432x288 with 1 Axes>"
      ]
     },
     "metadata": {
      "needs_background": "light"
     },
     "output_type": "display_data"
    },
    {
     "name": "stdout",
     "output_type": "stream",
     "text": [
      "Label:  0\n"
     ]
    },
    {
     "data": {
      "image/png": "[encoded data removed]",
      "text/plain": [
       "<Figure size 432x288 with 1 Axes>"
      ]
     },
     "metadata": {
      "needs_background": "light"
     },
     "output_type": "display_data"
    },
    {
     "name": "stdout",
     "output_type": "stream",
     "text": [
      "Label:  8\n"
     ]
    },
    {
     "data": {
      "image/png": "[encoded data removed]",
      "text/plain": [
       "<Figure size 432x288 with 1 Axes>"
      ]
     },
     "metadata": {
      "needs_background": "light"
     },
     "output_type": "display_data"
    }
   ],
   "source": [
    "sample = data[0]\n",
    "print(\"Label: \", sample[0])\n",
    "plt.imshow(sample[1:].reshape((28,28)), cmap='gray')\n",
    "plt.show()\n",
    "\n",
    "sample = data[1]\n",
    "print(\"Label: \", sample[0])\n",
    "plt.imshow(sample[1:].reshape((28,28)), cmap='gray')\n",
    "plt.show()\n",
    "\n",
    "sample = data[20]\n",
    "print(\"Label: \", sample[0])\n",
    "plt.imshow(sample[1:].reshape((28,28)), cmap='gray')\n",
    "plt.show()"
   ]
  },
  {
   "cell_type": "code",
   "execution_count": 4,
   "metadata": {},
   "outputs": [
    {
     "data": {
      "text/plain": [
       "(42000, 1)"
      ]
     },
     "execution_count": 4,
     "metadata": {},
     "output_type": "execute_result"
    }
   ],
   "source": [
    "data[:, :1].shape"
   ]
  },
  {
   "cell_type": "code",
   "execution_count": 5,
   "metadata": {
    "scrolled": true
   },
   "outputs": [],
   "source": [
    "import torch\n",
    "import seaborn as sns\n",
    "import torch.nn.functional as F\n",
    "from sklearn.model_selection import train_test_split\n",
    "from sklearn.preprocessing import MinMaxScaler, StandardScaler\n",
    "import warnings\n",
    "warnings.filterwarnings('ignore')\n",
    "sns.set()\n",
    "\n",
    "def to_multiclass_vector(a, n_classes):\n",
    "    return np.squeeze(np.eye(n_classes)[a.reshape(-1)])\n",
    "\n",
    "def accuracy_fn(y_pred, y_true):\n",
    "    y_pred = np.argmax(y_pred.data, axis=1)\n",
    "    y_pred = y_pred.numpy()\n",
    "    accuracy = (y_pred == np.argmax(y_true, axis=1).numpy()).sum() / float(len(y_pred))\n",
    "\n",
    "    return accuracy\n",
    "\n",
    "def train_nn(X, y, train_size=5000, test_size=7000, epochs=10, D_in=784, batch_size=5, random_state=42, verbose=False):\n",
    "    \n",
    "    X_train, X_test, y_train, y_test = train_test_split(X, \n",
    "                                                        y, \n",
    "                                                        train_size = train_size,\n",
    "                                                        test_size = test_size,\n",
    "                                                        random_state = random_state)\n",
    "\n",
    "    y_train = to_multiclass_vector(y_train, 10)\n",
    "    y_test = to_multiclass_vector(y_test, 10)\n",
    "\n",
    "    mm = MinMaxScaler((0, 1))\n",
    "    X_train = mm.fit_transform(X_train)\n",
    "    X_test = mm.transform(X_test)\n",
    "\n",
    "    H_1, H_2, D_out = 300, 100, 10\n",
    "\n",
    "    X_train = torch.from_numpy(X_train)\n",
    "    y_train = torch.from_numpy(y_train)\n",
    "\n",
    "    X_test = torch.from_numpy(X_test)\n",
    "    y_test = torch.from_numpy(y_test)\n",
    "\n",
    "    X_train, y_train = X_train.type(torch.FloatTensor), y_train.type(torch.LongTensor)\n",
    "    X_test, y_test = X_test.type(torch.FloatTensor), y_test.type(torch.LongTensor)\n",
    "\n",
    "    model = torch.nn.Sequential(\n",
    "        torch.nn.Linear(D_in, H_1),\n",
    "        torch.nn.ReLU(),\n",
    "        torch.nn.Linear(H_1, H_2),\n",
    "        torch.nn.ReLU(),\n",
    "        torch.nn.Linear(H_2, D_out),\n",
    "        torch.nn.Softmax(),\n",
    "    )\n",
    "\n",
    "    loss_fn = torch.nn.CrossEntropyLoss()\n",
    "\n",
    "    learning_rate = 1e-1\n",
    "    test_errors = []\n",
    "    train_errors = []\n",
    "    optimizer = torch.optim.SGD(model.parameters(), lr=learning_rate)\n",
    "    \n",
    "    for t in range(epochs):\n",
    "        for i in range(0, len(X_train), batch_size):\n",
    "            X = X_train[i:i + batch_size]\n",
    "            y = y_train[i:i + batch_size]\n",
    "            y_pred = model(X)\n",
    "            optimizer.zero_grad()\n",
    "            loss = loss_fn(y_pred, torch.max(y, 1)[1])\n",
    "            \n",
    "            loss.backward()\n",
    "            optimizer.step()\n",
    "\n",
    "        # Train accuracy\n",
    "        y_pred = model(X_train)\n",
    "        train_accuracy = accuracy_fn(y_pred, y_train)\n",
    "        train_errors.append(1 - train_accuracy)\n",
    "            \n",
    "        # Test accuracy\n",
    "        y_pred = model(X_test)\n",
    "        test_accuracy = accuracy_fn(y_pred, y_test)\n",
    "        test_loss = loss_fn(y_pred, torch.max(y_test, 1)[1])\n",
    "        test_error = 1 - test_accuracy    \n",
    "        test_errors.append(test_error)\n",
    "        if t % 1 == 0 and verbose:\n",
    "            print(\"{}: train loss: {:.5f}, test loss: {:.5f}, error: {:.5f}\".format(t, loss.item(), test_loss.item(), test_error))\n",
    "                \n",
    "    return train_errors, test_errors\n",
    "\n",
    "def train_size_experiment(X, y, train_sizes, epochs=5000, random_state=42, D_in=784, verbose=False):\n",
    "    train_errors = []\n",
    "    test_errors = []\n",
    "\n",
    "    for train_size in train_sizes:\n",
    "        print(\"Training with train_size of {} samples\".format(train_size))\n",
    "        train, test = train_nn(X, \n",
    "                               y,\n",
    "                               train_size=train_size, \n",
    "                               test_size=7000,\n",
    "                               epochs=epochs,\n",
    "                               D_in=D_in,\n",
    "                               random_state=random_state,\n",
    "                               verbose=verbose)\n",
    "\n",
    "        train_errors.append(train[-1])\n",
    "        test_errors.append(test[-1])  \n",
    "    \n",
    "    return train_errors, test_errors\n",
    "\n",
    "def plot_experimental_learning_curve(train_sizes, train_errors, test_errors):\n",
    "    plt.figure(figsize=(12, 6))\n",
    "    plt.plot([s for s in train_sizes], train_errors, label=\"Ein\")\n",
    "    plt.plot([s for s in train_sizes], test_errors, label=\"Eout\")\n",
    "    plt.legend()\n",
    "    plt.xlabel(\"Training samples\")\n",
    "    plt.ylabel(\"Error\")\n",
    "    plt.title(\"Experimental learning curve\")\n",
    "    plt.show()"
   ]
  },
  {
   "cell_type": "markdown",
   "metadata": {},
   "source": [
    "### Experimento 1 - Imagem original"
   ]
  },
  {
   "cell_type": "code",
   "execution_count": 6,
   "metadata": {},
   "outputs": [],
   "source": [
    "epochs = 35"
   ]
  },
  {
   "cell_type": "code",
   "execution_count": 7,
   "metadata": {
    "scrolled": true
   },
   "outputs": [
    {
     "name": "stdout",
     "output_type": "stream",
     "text": [
      "Training with train_size of 5000 samples\n",
      "0: train loss: 1.81934, test loss: 1.73734, error: 0.24286\n",
      "1: train loss: 1.86348, test loss: 1.65555, error: 0.18929\n",
      "2: train loss: 1.86143, test loss: 1.58196, error: 0.11657\n",
      "3: train loss: 1.85548, test loss: 1.56443, error: 0.10043\n",
      "4: train loss: 1.85986, test loss: 1.56841, error: 0.10343\n",
      "5: train loss: 1.86143, test loss: 1.55213, error: 0.08800\n",
      "6: train loss: 1.86019, test loss: 1.54598, error: 0.08271\n",
      "7: train loss: 1.86096, test loss: 1.57405, error: 0.11214\n",
      "8: train loss: 1.72630, test loss: 1.56734, error: 0.10400\n",
      "9: train loss: 1.66051, test loss: 1.53471, error: 0.07200\n",
      "10: train loss: 1.66454, test loss: 1.53927, error: 0.07786\n",
      "11: train loss: 1.65906, test loss: 1.53623, error: 0.07443\n",
      "12: train loss: 1.65629, test loss: 1.53440, error: 0.07186\n",
      "13: train loss: 1.65891, test loss: 1.53657, error: 0.07429\n",
      "14: train loss: 1.65487, test loss: 1.53271, error: 0.07157\n",
      "15: train loss: 1.65601, test loss: 1.52845, error: 0.06586\n",
      "16: train loss: 1.66122, test loss: 1.53253, error: 0.07186\n",
      "17: train loss: 1.65904, test loss: 1.52878, error: 0.06714\n",
      "18: train loss: 1.66113, test loss: 1.52301, error: 0.06100\n",
      "19: train loss: 1.66114, test loss: 1.52207, error: 0.05957\n",
      "20: train loss: 1.65353, test loss: 1.53115, error: 0.06857\n",
      "21: train loss: 1.66118, test loss: 1.52322, error: 0.06129\n",
      "22: train loss: 1.66138, test loss: 1.52400, error: 0.06157\n",
      "23: train loss: 1.66152, test loss: 1.51987, error: 0.05829\n",
      "24: train loss: 1.66133, test loss: 1.52047, error: 0.05843\n",
      "25: train loss: 1.66084, test loss: 1.51907, error: 0.05686\n",
      "26: train loss: 1.66255, test loss: 1.51911, error: 0.05700\n",
      "27: train loss: 1.66452, test loss: 1.52088, error: 0.05857\n",
      "28: train loss: 1.65951, test loss: 1.51801, error: 0.05557\n",
      "29: train loss: 1.65616, test loss: 1.52080, error: 0.05857\n",
      "30: train loss: 1.65610, test loss: 1.51775, error: 0.05529\n",
      "31: train loss: 1.65401, test loss: 1.51815, error: 0.05657\n",
      "32: train loss: 1.65476, test loss: 1.51813, error: 0.05600\n",
      "33: train loss: 1.65561, test loss: 1.51782, error: 0.05586\n",
      "34: train loss: 1.65436, test loss: 1.51807, error: 0.05614\n",
      "Training with train_size of 10000 samples\n",
      "0: train loss: 1.46159, test loss: 1.63724, error: 0.16100\n",
      "1: train loss: 1.46118, test loss: 1.57672, error: 0.11300\n",
      "2: train loss: 1.46115, test loss: 1.54920, error: 0.08600\n",
      "3: train loss: 1.46115, test loss: 1.54150, error: 0.07814\n",
      "4: train loss: 1.46115, test loss: 1.54327, error: 0.08071\n",
      "5: train loss: 1.46115, test loss: 1.53042, error: 0.06786\n",
      "6: train loss: 1.46115, test loss: 1.52692, error: 0.06400\n",
      "7: train loss: 1.46115, test loss: 1.52379, error: 0.06157\n",
      "8: train loss: 1.46116, test loss: 1.52596, error: 0.06486\n",
      "9: train loss: 1.46131, test loss: 1.52574, error: 0.06471\n",
      "10: train loss: 1.46115, test loss: 1.51880, error: 0.05714\n",
      "11: train loss: 1.46115, test loss: 1.51367, error: 0.05257\n",
      "12: train loss: 1.46115, test loss: 1.51615, error: 0.05457\n",
      "13: train loss: 1.46115, test loss: 1.51097, error: 0.04971\n",
      "14: train loss: 1.46115, test loss: 1.50740, error: 0.04586\n",
      "15: train loss: 1.46115, test loss: 1.51608, error: 0.05414\n",
      "16: train loss: 1.46115, test loss: 1.50955, error: 0.04814\n",
      "17: train loss: 1.46115, test loss: 1.52081, error: 0.05914\n",
      "18: train loss: 1.46115, test loss: 1.50587, error: 0.04443\n",
      "19: train loss: 1.46115, test loss: 1.50556, error: 0.04357\n",
      "20: train loss: 1.46115, test loss: 1.51000, error: 0.04800\n",
      "21: train loss: 1.46115, test loss: 1.50567, error: 0.04443\n",
      "22: train loss: 1.46115, test loss: 1.50378, error: 0.04271\n",
      "23: train loss: 1.46115, test loss: 1.50247, error: 0.04086\n",
      "24: train loss: 1.46115, test loss: 1.50307, error: 0.04157\n",
      "25: train loss: 1.46115, test loss: 1.50377, error: 0.04243\n",
      "26: train loss: 1.46115, test loss: 1.50180, error: 0.04000\n",
      "27: train loss: 1.46115, test loss: 1.50113, error: 0.03929\n",
      "28: train loss: 1.46115, test loss: 1.49959, error: 0.03800\n",
      "29: train loss: 1.46115, test loss: 1.49933, error: 0.03814\n",
      "30: train loss: 1.46115, test loss: 1.49907, error: 0.03786\n",
      "31: train loss: 1.46115, test loss: 1.49912, error: 0.03814\n",
      "32: train loss: 1.46115, test loss: 1.49892, error: 0.03800\n",
      "33: train loss: 1.46115, test loss: 1.49891, error: 0.03829\n",
      "34: train loss: 1.46115, test loss: 1.49914, error: 0.03771\n",
      "Training with train_size of 15000 samples\n",
      "0: train loss: 1.82293, test loss: 1.66493, error: 0.20086\n",
      "1: train loss: 1.86196, test loss: 1.66182, error: 0.20000\n",
      "2: train loss: 1.85355, test loss: 1.62856, error: 0.16729\n",
      "3: train loss: 1.58339, test loss: 1.62218, error: 0.16143\n",
      "4: train loss: 1.61436, test loss: 1.64131, error: 0.18029\n",
      "5: train loss: 1.49809, test loss: 1.60675, error: 0.14614\n",
      "6: train loss: 1.49041, test loss: 1.61206, error: 0.15057\n",
      "7: train loss: 1.46117, test loss: 1.52946, error: 0.06600\n",
      "8: train loss: 1.66016, test loss: 1.52129, error: 0.05857\n",
      "9: train loss: 1.66115, test loss: 1.51235, error: 0.04943\n",
      "10: train loss: 1.46115, test loss: 1.52450, error: 0.06357\n",
      "11: train loss: 1.66080, test loss: 1.50477, error: 0.04314\n",
      "12: train loss: 1.64628, test loss: 1.50534, error: 0.04443\n",
      "13: train loss: 1.46869, test loss: 1.50692, error: 0.04571\n",
      "14: train loss: 1.57965, test loss: 1.53488, error: 0.07300\n",
      "15: train loss: 1.46115, test loss: 1.50532, error: 0.04457\n",
      "16: train loss: 1.46115, test loss: 1.50669, error: 0.04557\n",
      "17: train loss: 1.46115, test loss: 1.50345, error: 0.04229\n",
      "18: train loss: 1.46132, test loss: 1.50336, error: 0.04214\n",
      "19: train loss: 1.46138, test loss: 1.49944, error: 0.03986\n",
      "20: train loss: 1.46115, test loss: 1.50297, error: 0.04143\n",
      "21: train loss: 1.46115, test loss: 1.49716, error: 0.03571\n",
      "22: train loss: 1.46116, test loss: 1.50075, error: 0.03929\n",
      "23: train loss: 1.46115, test loss: 1.49891, error: 0.03829\n",
      "24: train loss: 1.46115, test loss: 1.50428, error: 0.04229\n",
      "25: train loss: 1.46128, test loss: 1.50070, error: 0.03971\n",
      "26: train loss: 1.66087, test loss: 1.49752, error: 0.03600\n",
      "27: train loss: 1.47074, test loss: 1.49703, error: 0.03571\n",
      "28: train loss: 1.46115, test loss: 1.50183, error: 0.04114\n",
      "29: train loss: 1.53043, test loss: 1.50038, error: 0.03929\n",
      "30: train loss: 1.46115, test loss: 1.49711, error: 0.03629\n",
      "31: train loss: 1.46115, test loss: 1.49426, error: 0.03243\n",
      "32: train loss: 1.46115, test loss: 1.49600, error: 0.03429\n",
      "33: train loss: 1.46117, test loss: 1.49918, error: 0.03857\n",
      "34: train loss: 1.56951, test loss: 1.49853, error: 0.03829\n",
      "Training with train_size of 20000 samples\n",
      "0: train loss: 1.46115, test loss: 1.57460, error: 0.11071\n",
      "1: train loss: 1.46115, test loss: 1.55681, error: 0.09357\n",
      "2: train loss: 1.46115, test loss: 1.52815, error: 0.06514\n",
      "3: train loss: 1.46115, test loss: 1.52428, error: 0.06229\n",
      "4: train loss: 1.46115, test loss: 1.51832, error: 0.05629\n",
      "5: train loss: 1.46115, test loss: 1.51470, error: 0.05429\n",
      "6: train loss: 1.46115, test loss: 1.51532, error: 0.05314\n",
      "7: train loss: 1.46115, test loss: 1.51379, error: 0.05186\n",
      "8: train loss: 1.46115, test loss: 1.50715, error: 0.04557\n",
      "9: train loss: 1.46115, test loss: 1.51006, error: 0.04929\n",
      "10: train loss: 1.46115, test loss: 1.49994, error: 0.03843\n",
      "11: train loss: 1.46115, test loss: 1.50628, error: 0.04529\n",
      "12: train loss: 1.46115, test loss: 1.50394, error: 0.04200\n",
      "13: train loss: 1.46115, test loss: 1.50125, error: 0.04014\n",
      "14: train loss: 1.46115, test loss: 1.51311, error: 0.05257\n",
      "15: train loss: 1.46115, test loss: 1.49957, error: 0.03857\n",
      "16: train loss: 1.46115, test loss: 1.49670, error: 0.03529\n",
      "17: train loss: 1.46115, test loss: 1.49644, error: 0.03614\n",
      "18: train loss: 1.46115, test loss: 1.50028, error: 0.03943\n",
      "19: train loss: 1.46115, test loss: 1.50913, error: 0.04800\n",
      "20: train loss: 1.46115, test loss: 1.50336, error: 0.04229\n",
      "21: train loss: 1.46115, test loss: 1.49389, error: 0.03271\n",
      "22: train loss: 1.46115, test loss: 1.49621, error: 0.03486\n",
      "23: train loss: 1.46115, test loss: 1.50182, error: 0.04114\n",
      "24: train loss: 1.46115, test loss: 1.49490, error: 0.03414\n",
      "25: train loss: 1.46115, test loss: 1.50162, error: 0.04114\n",
      "26: train loss: 1.46115, test loss: 1.49380, error: 0.03300\n",
      "27: train loss: 1.46115, test loss: 1.49851, error: 0.03814\n",
      "28: train loss: 1.46115, test loss: 1.49639, error: 0.03557\n",
      "29: train loss: 1.46115, test loss: 1.49647, error: 0.03571\n"
     ]
    },
    {
     "name": "stdout",
     "output_type": "stream",
     "text": [
      "30: train loss: 1.46115, test loss: 1.49550, error: 0.03486\n",
      "31: train loss: 1.46115, test loss: 1.49584, error: 0.03443\n",
      "32: train loss: 1.46115, test loss: 1.49546, error: 0.03486\n",
      "33: train loss: 1.46115, test loss: 1.49348, error: 0.03214\n",
      "34: train loss: 1.46115, test loss: 1.49334, error: 0.03271\n",
      "Training with train_size of 25000 samples\n",
      "0: train loss: 1.81356, test loss: 1.56010, error: 0.09586\n",
      "1: train loss: 1.71605, test loss: 1.53937, error: 0.07757\n",
      "2: train loss: 1.48534, test loss: 1.53107, error: 0.06829\n",
      "3: train loss: 1.47554, test loss: 1.52558, error: 0.06371\n",
      "4: train loss: 1.46115, test loss: 1.52254, error: 0.06129\n",
      "5: train loss: 1.62024, test loss: 1.50743, error: 0.04514\n",
      "6: train loss: 1.46118, test loss: 1.50332, error: 0.04229\n",
      "7: train loss: 1.46116, test loss: 1.50349, error: 0.04214\n",
      "8: train loss: 1.46115, test loss: 1.50297, error: 0.04200\n",
      "9: train loss: 1.46115, test loss: 1.50637, error: 0.04586\n",
      "10: train loss: 1.46134, test loss: 1.50285, error: 0.04200\n",
      "11: train loss: 1.51686, test loss: 1.50047, error: 0.03943\n",
      "12: train loss: 1.46116, test loss: 1.50057, error: 0.03943\n",
      "13: train loss: 1.47728, test loss: 1.50021, error: 0.03914\n",
      "14: train loss: 1.46115, test loss: 1.49900, error: 0.03800\n",
      "15: train loss: 1.46115, test loss: 1.49481, error: 0.03329\n",
      "16: train loss: 1.46115, test loss: 1.49880, error: 0.03814\n",
      "17: train loss: 1.46169, test loss: 1.49475, error: 0.03386\n",
      "18: train loss: 1.46115, test loss: 1.49862, error: 0.03800\n",
      "19: train loss: 1.46115, test loss: 1.49676, error: 0.03514\n",
      "20: train loss: 1.46115, test loss: 1.49300, error: 0.03214\n",
      "21: train loss: 1.46115, test loss: 1.49093, error: 0.02957\n",
      "22: train loss: 1.46115, test loss: 1.49976, error: 0.03900\n",
      "23: train loss: 1.46115, test loss: 1.49191, error: 0.03157\n",
      "24: train loss: 1.46115, test loss: 1.49215, error: 0.03086\n",
      "25: train loss: 1.46115, test loss: 1.49397, error: 0.03300\n",
      "26: train loss: 1.46115, test loss: 1.49303, error: 0.03186\n",
      "27: train loss: 1.46115, test loss: 1.49077, error: 0.02971\n",
      "28: train loss: 1.46115, test loss: 1.49021, error: 0.02886\n",
      "29: train loss: 1.46115, test loss: 1.49107, error: 0.03000\n",
      "30: train loss: 1.46115, test loss: 1.49247, error: 0.03114\n",
      "31: train loss: 1.46115, test loss: 1.49367, error: 0.03286\n",
      "32: train loss: 1.46390, test loss: 1.49306, error: 0.03214\n",
      "33: train loss: 1.46115, test loss: 1.48942, error: 0.02829\n",
      "34: train loss: 1.46115, test loss: 1.48885, error: 0.02800\n",
      "Training with train_size of 30000 samples\n",
      "0: train loss: 1.63478, test loss: 1.54856, error: 0.08514\n",
      "1: train loss: 1.66088, test loss: 1.52889, error: 0.06586\n",
      "2: train loss: 1.50100, test loss: 1.51775, error: 0.05614\n",
      "3: train loss: 1.66114, test loss: 1.51488, error: 0.05429\n",
      "4: train loss: 1.46115, test loss: 1.50774, error: 0.04786\n",
      "5: train loss: 1.46117, test loss: 1.50593, error: 0.04557\n",
      "6: train loss: 1.65876, test loss: 1.50807, error: 0.04614\n",
      "7: train loss: 1.46122, test loss: 1.50896, error: 0.04843\n",
      "8: train loss: 1.66050, test loss: 1.50032, error: 0.03943\n",
      "9: train loss: 1.47186, test loss: 1.50394, error: 0.04329\n",
      "10: train loss: 1.46242, test loss: 1.49738, error: 0.03614\n",
      "11: train loss: 1.46115, test loss: 1.49418, error: 0.03314\n",
      "12: train loss: 1.46115, test loss: 1.50191, error: 0.04129\n",
      "13: train loss: 1.46115, test loss: 1.49575, error: 0.03429\n",
      "14: train loss: 1.46115, test loss: 1.49899, error: 0.03886\n",
      "15: train loss: 1.60168, test loss: 1.49694, error: 0.03643\n",
      "16: train loss: 1.46115, test loss: 1.49375, error: 0.03286\n",
      "17: train loss: 1.46115, test loss: 1.49519, error: 0.03443\n",
      "18: train loss: 1.46115, test loss: 1.49892, error: 0.03829\n",
      "19: train loss: 1.46115, test loss: 1.49354, error: 0.03243\n",
      "20: train loss: 1.46131, test loss: 1.49171, error: 0.03057\n",
      "21: train loss: 1.46115, test loss: 1.49428, error: 0.03271\n",
      "22: train loss: 1.46115, test loss: 1.49974, error: 0.03900\n",
      "23: train loss: 1.46115, test loss: 1.49270, error: 0.03171\n",
      "24: train loss: 1.46115, test loss: 1.49569, error: 0.03514\n",
      "25: train loss: 1.46115, test loss: 1.50062, error: 0.03986\n",
      "26: train loss: 1.46115, test loss: 1.49476, error: 0.03414\n",
      "27: train loss: 1.46115, test loss: 1.49085, error: 0.03014\n",
      "28: train loss: 1.46115, test loss: 1.49142, error: 0.03043\n",
      "29: train loss: 1.46115, test loss: 1.49445, error: 0.03314\n",
      "30: train loss: 1.46115, test loss: 1.48963, error: 0.02857\n",
      "31: train loss: 1.46115, test loss: 1.49667, error: 0.03600\n",
      "32: train loss: 1.46115, test loss: 1.49207, error: 0.03114\n",
      "33: train loss: 1.46115, test loss: 1.49091, error: 0.03014\n",
      "34: train loss: 1.46115, test loss: 1.49152, error: 0.03043\n",
      "Training with train_size of 35000 samples\n",
      "0: train loss: 1.65663, test loss: 1.54358, error: 0.08257\n",
      "1: train loss: 1.66097, test loss: 1.52746, error: 0.06457\n",
      "2: train loss: 1.46115, test loss: 1.51268, error: 0.05086\n",
      "3: train loss: 1.52753, test loss: 1.51528, error: 0.05429\n",
      "4: train loss: 1.46115, test loss: 1.50864, error: 0.04757\n",
      "5: train loss: 1.46117, test loss: 1.49980, error: 0.03786\n",
      "6: train loss: 1.46115, test loss: 1.50171, error: 0.04071\n",
      "7: train loss: 1.46115, test loss: 1.49875, error: 0.03771\n",
      "8: train loss: 1.46115, test loss: 1.50493, error: 0.04429\n",
      "9: train loss: 1.52325, test loss: 1.49781, error: 0.03729\n",
      "10: train loss: 1.46115, test loss: 1.49831, error: 0.03757\n",
      "11: train loss: 1.46118, test loss: 1.49467, error: 0.03357\n",
      "12: train loss: 1.46197, test loss: 1.49652, error: 0.03557\n",
      "13: train loss: 1.46117, test loss: 1.49567, error: 0.03457\n",
      "14: train loss: 1.54431, test loss: 1.49539, error: 0.03443\n",
      "15: train loss: 1.46115, test loss: 1.49261, error: 0.03171\n",
      "16: train loss: 1.46115, test loss: 1.49184, error: 0.03129\n",
      "17: train loss: 1.52681, test loss: 1.49294, error: 0.03200\n",
      "18: train loss: 1.46115, test loss: 1.49498, error: 0.03414\n",
      "19: train loss: 1.46115, test loss: 1.49666, error: 0.03586\n",
      "20: train loss: 1.65191, test loss: 1.49288, error: 0.03229\n",
      "21: train loss: 1.46115, test loss: 1.49102, error: 0.02929\n",
      "22: train loss: 1.46115, test loss: 1.48929, error: 0.02814\n",
      "23: train loss: 1.46115, test loss: 1.49188, error: 0.03100\n",
      "24: train loss: 1.46115, test loss: 1.49016, error: 0.02914\n",
      "25: train loss: 1.46115, test loss: 1.49724, error: 0.03614\n",
      "26: train loss: 1.46115, test loss: 1.49376, error: 0.03257\n",
      "27: train loss: 1.46115, test loss: 1.48997, error: 0.02929\n",
      "28: train loss: 1.46115, test loss: 1.49470, error: 0.03343\n",
      "29: train loss: 1.46115, test loss: 1.49070, error: 0.02986\n",
      "30: train loss: 1.46115, test loss: 1.52126, error: 0.06014\n",
      "31: train loss: 1.46115, test loss: 1.49330, error: 0.03186\n",
      "32: train loss: 1.46115, test loss: 1.49824, error: 0.03700\n",
      "33: train loss: 1.46115, test loss: 1.49403, error: 0.03329\n",
      "34: train loss: 1.46115, test loss: 1.49139, error: 0.03029\n"
     ]
    }
   ],
   "source": [
    "train_sizes = range(5000, 35001, 5000)\n",
    "train_errors, test_errors = train_size_experiment(data[:, 1:], data[:, :1], train_sizes, epochs=epochs, verbose=True)"
   ]
  },
  {
   "cell_type": "markdown",
   "metadata": {},
   "source": [
    "1. Compute a curva experimental de aprendizado (N = 5000, N = 10000, N = 15000, ... N = 35000), estimar o  Eout a partir das 7000 amostras não usadas."
   ]
  },
  {
   "cell_type": "code",
   "execution_count": 8,
   "metadata": {},
   "outputs": [
    {
     "data": {
      "image/png": "[encoded data removed]",
      "text/plain": [
       "<Figure size 864x432 with 1 Axes>"
      ]
     },
     "metadata": {},
     "output_type": "display_data"
    }
   ],
   "source": [
    "plot_experimental_learning_curve(train_sizes, train_errors, test_errors)"
   ]
  },
  {
   "cell_type": "markdown",
   "metadata": {},
   "source": [
    "2. Para N = 35000 (isto é, separe 7000 amostras para validação), calcule o valor da precisão $\\epsilon = E_{out} - E_{in}$."
   ]
  },
  {
   "cell_type": "code",
   "execution_count": 9,
   "metadata": {},
   "outputs": [
    {
     "name": "stdout",
     "output_type": "stream",
     "text": [
      "Precisão: 0.016114285714285637\n"
     ]
    }
   ],
   "source": [
    "epsilon = test_errors[-1] - train_errors[-1]\n",
    "print(\"Precisão: {}\".format(test_errors[-1] - train_errors[-1]))"
   ]
  },
  {
   "cell_type": "markdown",
   "metadata": {},
   "source": [
    "3. Adote o valor de $\\epsilon$ calculado em 2; repita dez vezes o experimento de aprendizado para $N = 35000$ e 7000 amostras de validação (em cada experimento, escolha aleatoriamente entre as 42000 amostras 7000 para formar o conjunto de validação e as restantes para treinamento); calcule o $E_{out}$ para cada um dos experimentos; a partir dos $E_{out}$ calculados, estime o valor do parâmetro $\\delta$."
   ]
  },
  {
   "cell_type": "code",
   "execution_count": 10,
   "metadata": {},
   "outputs": [
    {
     "name": "stdout",
     "output_type": "stream",
     "text": [
      "Training with train_size of 35000 samples\n",
      "Training with train_size of 35000 samples\n",
      "Training with train_size of 35000 samples\n",
      "Training with train_size of 35000 samples\n",
      "Training with train_size of 35000 samples\n",
      "Training with train_size of 35000 samples\n",
      "Training with train_size of 35000 samples\n",
      "Training with train_size of 35000 samples\n",
      "Training with train_size of 35000 samples\n",
      "Training with train_size of 35000 samples\n"
     ]
    }
   ],
   "source": [
    "train_sizes = 10 * [35000]\n",
    "train_errors, test_errors = train_size_experiment(data[:, 1:], data[:, :1], train_sizes, epochs=epochs, random_state=None)"
   ]
  },
  {
   "cell_type": "markdown",
   "metadata": {},
   "source": [
    "$P(|E_{out}(h_{opt}) - E_{in}(h_{opt})| < \\epsilon) > 1 - \\delta$."
   ]
  },
  {
   "cell_type": "code",
   "execution_count": 11,
   "metadata": {},
   "outputs": [
    {
     "name": "stdout",
     "output_type": "stream",
     "text": [
      "Delta é maior que 0.6\n"
     ]
    }
   ],
   "source": [
    "delta = -1 * ((np.array(test_errors) - np.array(train_errors) < epsilon).sum() / len(test_errors) - 1)\n",
    "print(\"Delta é maior que {}\".format(delta))"
   ]
  },
  {
   "cell_type": "markdown",
   "metadata": {},
   "source": [
    "### Experimento 2 - Imagem amostrada com passo 1\n",
    "\n",
    "Isto é, reduz a imagem para 1/4 do número total de pixels."
   ]
  },
  {
   "cell_type": "code",
   "execution_count": 12,
   "metadata": {},
   "outputs": [
    {
     "data": {
      "text/plain": [
       "(42000, 196)"
      ]
     },
     "execution_count": 12,
     "metadata": {},
     "output_type": "execute_result"
    }
   ],
   "source": [
    "data_2 = np.apply_along_axis(lambda a : a[::4], axis=1, arr=data[:, 1:])\n",
    "data_2.shape"
   ]
  },
  {
   "cell_type": "code",
   "execution_count": 13,
   "metadata": {},
   "outputs": [
    {
     "name": "stdout",
     "output_type": "stream",
     "text": [
      "Training with train_size of 5000 samples\n",
      "Training with train_size of 10000 samples\n",
      "Training with train_size of 15000 samples\n",
      "Training with train_size of 20000 samples\n",
      "Training with train_size of 25000 samples\n",
      "Training with train_size of 30000 samples\n",
      "Training with train_size of 35000 samples\n"
     ]
    }
   ],
   "source": [
    "train_sizes = range(5000, 35001, 5000)\n",
    "train_errors, test_errors = train_size_experiment(data_2, data[:, :1], train_sizes, epochs=epochs, D_in = 196)"
   ]
  },
  {
   "cell_type": "code",
   "execution_count": 14,
   "metadata": {},
   "outputs": [
    {
     "data": {
      "image/png": "[encoded data removed]",
      "text/plain": [
       "<Figure size 864x432 with 1 Axes>"
      ]
     },
     "metadata": {},
     "output_type": "display_data"
    }
   ],
   "source": [
    "plot_experimental_learning_curve(train_sizes, train_errors, test_errors)"
   ]
  },
  {
   "cell_type": "code",
   "execution_count": 15,
   "metadata": {},
   "outputs": [
    {
     "name": "stdout",
     "output_type": "stream",
     "text": [
      "Precisão: 0.030028571428571404\n"
     ]
    }
   ],
   "source": [
    "epsilon = test_errors[-1] - train_errors[-1]\n",
    "print(\"Precisão: {}\".format(test_errors[-1] - train_errors[-1]))"
   ]
  },
  {
   "cell_type": "code",
   "execution_count": 16,
   "metadata": {},
   "outputs": [
    {
     "name": "stdout",
     "output_type": "stream",
     "text": [
      "Training with train_size of 35000 samples\n",
      "Training with train_size of 35000 samples\n",
      "Training with train_size of 35000 samples\n",
      "Training with train_size of 35000 samples\n",
      "Training with train_size of 35000 samples\n",
      "Training with train_size of 35000 samples\n",
      "Training with train_size of 35000 samples\n",
      "Training with train_size of 35000 samples\n",
      "Training with train_size of 35000 samples\n",
      "Training with train_size of 35000 samples\n"
     ]
    }
   ],
   "source": [
    "train_sizes = 10 * [35000]\n",
    "train_errors, test_errors = train_size_experiment(data_2, data[:, :1], train_sizes, epochs=epochs, random_state=None, D_in = 196)"
   ]
  },
  {
   "cell_type": "code",
   "execution_count": 17,
   "metadata": {},
   "outputs": [
    {
     "name": "stdout",
     "output_type": "stream",
     "text": [
      "Delta é maior que 0.30000000000000004\n"
     ]
    }
   ],
   "source": [
    "delta = -1 * ((np.array(test_errors) - np.array(train_errors) < epsilon).sum() / len(test_errors) - 1)\n",
    "print(\"Delta é maior que {}\".format(delta))"
   ]
  },
  {
   "cell_type": "markdown",
   "metadata": {},
   "source": [
    "### Experimento 3 - Imagem amostrada com passo 2\n",
    "\n",
    "Isto é, reduz a imagem para 1/8 do número total de pixels."
   ]
  },
  {
   "cell_type": "code",
   "execution_count": 18,
   "metadata": {},
   "outputs": [
    {
     "data": {
      "text/plain": [
       "(42000, 49)"
      ]
     },
     "execution_count": 18,
     "metadata": {},
     "output_type": "execute_result"
    }
   ],
   "source": [
    "data_3 = np.apply_along_axis(lambda a : a[::16], axis=1, arr=data[:, 1:])\n",
    "data_3.shape"
   ]
  },
  {
   "cell_type": "code",
   "execution_count": 19,
   "metadata": {},
   "outputs": [
    {
     "name": "stdout",
     "output_type": "stream",
     "text": [
      "Training with train_size of 5000 samples\n",
      "Training with train_size of 10000 samples\n",
      "Training with train_size of 15000 samples\n",
      "Training with train_size of 20000 samples\n",
      "Training with train_size of 25000 samples\n",
      "Training with train_size of 30000 samples\n",
      "Training with train_size of 35000 samples\n"
     ]
    }
   ],
   "source": [
    "train_sizes = range(5000, 35001, 5000)\n",
    "train_errors, test_errors = train_size_experiment(data_3, data[:, :1], train_sizes, epochs=epochs, D_in = 49)"
   ]
  },
  {
   "cell_type": "code",
   "execution_count": 20,
   "metadata": {},
   "outputs": [
    {
     "data": {
      "image/png": "[encoded data removed]",
      "text/plain": [
       "<Figure size 864x432 with 1 Axes>"
      ]
     },
     "metadata": {},
     "output_type": "display_data"
    }
   ],
   "source": [
    "plot_experimental_learning_curve(train_sizes, train_errors, test_errors)"
   ]
  },
  {
   "cell_type": "code",
   "execution_count": 21,
   "metadata": {},
   "outputs": [
    {
     "name": "stdout",
     "output_type": "stream",
     "text": [
      "Precisão: 0.027142857142857135\n"
     ]
    }
   ],
   "source": [
    "epsilon = test_errors[-1] - train_errors[-1]\n",
    "print(\"Precisão: {}\".format(test_errors[-1] - train_errors[-1]))"
   ]
  },
  {
   "cell_type": "code",
   "execution_count": 22,
   "metadata": {},
   "outputs": [
    {
     "name": "stdout",
     "output_type": "stream",
     "text": [
      "Training with train_size of 35000 samples\n",
      "Training with train_size of 35000 samples\n",
      "Training with train_size of 35000 samples\n",
      "Training with train_size of 35000 samples\n",
      "Training with train_size of 35000 samples\n",
      "Training with train_size of 35000 samples\n",
      "Training with train_size of 35000 samples\n",
      "Training with train_size of 35000 samples\n",
      "Training with train_size of 35000 samples\n",
      "Training with train_size of 35000 samples\n"
     ]
    }
   ],
   "source": [
    "train_sizes = 10 * [35000]\n",
    "train_errors, test_errors = train_size_experiment(data_3, \n",
    "                                                  data[:, :1],\n",
    "                                                  train_sizes,\n",
    "                                                  epochs=epochs,\n",
    "                                                  random_state=None, \n",
    "                                                  D_in = 49)"
   ]
  },
  {
   "cell_type": "code",
   "execution_count": 23,
   "metadata": {},
   "outputs": [
    {
     "name": "stdout",
     "output_type": "stream",
     "text": [
      "Delta é maior que 0.09999999999999998\n"
     ]
    }
   ],
   "source": [
    "delta = -1 * ((np.array(test_errors) - np.array(train_errors) < epsilon).sum() / len(test_errors) - 1)\n",
    "print(\"Delta é maior que {}\".format(delta))"
   ]
  },
  {
   "cell_type": "markdown",
   "metadata": {},
   "source": [
    "## Comentário dos resultados:\n",
    "\n",
    "**Curvas de aprendizado experimentais**\n",
    "\n",
    "A curva que mostra o Ein e Eout para diversos tamanhos de conjunto de treinamento está relativamente bem comportada com o que se espera da teoria: erro de treinamento (Ein) aumentando com o aumento do número de exemplos (é mais difícil fitar uma função para mais pontos do que o seria para menos) e o erro de teste deminuindo (com mais exemplos se aprende mais sobre a distribuição dos dados e é possível generalizar melhor).\n",
    "\n",
    "Ela ficou como o esperado para os três experimentos.\n",
    "\n",
    "Em comparação com os níveis que o Ein e Eout ficaram para os três experimentos também é o esperado: quando tivemos menos dados para modelar, tornou-se mais difícil encontrar uma função para conectar a distruição X ao y (inputs às labels). Portanto, quanto menor a resolução, maior ficou o Eout.\n",
    "\n",
    "**Precisão**\n",
    "A diferença entre o Eout e o Ein também foi aumentando com a diminuição da resolução, mas ficou em níveis razoáveis.\n",
    "\n",
    "**Delta**\n",
    "O delta é relacionado com a quantidade de vezes que a diferença entre o Ein e Eout ficaria contida na precisão. \n",
    "\n",
    "Considerando a fóruma: $P(|E_{out}(h_{opt}) - E_{in}(h_{opt})| < \\epsilon) > 1 - \\delta$.\n",
    "\n",
    "Se temos um delta de 0.6, por exemplo, tem-se: $P(|E_{out}(h_{opt}) - E_{in}(h_{opt})| < \\epsilon) > 0.4$. Ou seja, mais de 40% das vezes em que fosse treinado o modelo com o conjunto de hipóteses usado aqui a diferença entre o erro de treino e de teste (generalização) seria menor que o epsilon.\n",
    "\n",
    "No primeiro caso o $\\epsilon$ foi de 0.016, então quando repetimos o treino 10x em mais de 60% dos casos a diferença entre a generalização e o erro de treino ficou menor que 0.016."
   ]
  },
  {
   "cell_type": "markdown",
   "metadata": {
    "collapsed": true
   },
   "source": [
    "# Questão 2\n",
    "\n",
    "O método de aprendizado adotado na questão anterior inclui regularização? Caso afirmativo, como? Caso negativo, como formularia a inclusão da regularização e porque esse procedimento melhoraria o resultado?"
   ]
  },
  {
   "cell_type": "markdown",
   "metadata": {},
   "source": [
    "**Resposta**: Não, o modelo acima foi construído sem qualquer técnica de regularização. \n",
    "\n",
    "Regularização é uma forma de expressar preferência por determinado tipos de solução quando trata-se de um problema de otimização. Ou seja, não se quer apenas minimizar ou maximizar uma métrica, mas se quer que a solução apresente determinadas características. Por exemplo, posso penalizar soluções cujos parâmetros aprendidos sejam grandes (dado um mesmo valor para a loss function, tenho preferência por pesos menores).\n",
    "\n",
    "De maneira mais prática, a regularização é uma ferramenta para o controle da complexidade de um modelo, tornando possível o controle do overfitting. \n",
    "\n",
    "No caso da rede neural podemos citar 3 formas de regularização: L1, L2 e Dropout. \n",
    "\n",
    "**L1 e L2**\n",
    "\n",
    "L1 e L2 irão modificar a loss functions com a adição de um termo (é através dele que expressamos essa nossa preferência), ou seja, ela ficaria algo como:\n",
    "\n",
    "$ Loss = \\frac{1}{N} * (y - \\hat{y})^{2} + \\lambda * \\text{Regularization}$\n",
    "\n",
    "Onde regularization seria a norma L1 ou L2, ou seja, a soma dos valores absolutos dos pesos aprendidos (L1 = $||W||$) ou a soma do quadrado dos valores dos pesos (L2 = $||W||_{2}$). Além disso, é preciso escolher um termo para controlar o quanto a regularização vai pesar no aprendizado, que é o $\\lambda$. Dependendo do valor de $\\lamda$, teremos:\n",
    "\n",
    "- $0$: é o mesmo que não aplicar regularização;\n",
    "- $0 < \\lambda < \\infty$: quanto maior o valor de lambda, menor a variância e maior o bias;\n",
    "- $\\lambda = \\infty$: o modelo será obrigado a minimizar os pesos para conseguir minimizar a loss functions e não haverá aprendizado.\n",
    "\n",
    "Ou seja, para incluir regularização deveríamos somar a L1-norm ou L2-norm na loss function e utilizar um escalar para controlar o seu efeito.\n",
    "\n",
    "No pytorch em específico, seria assim:\n",
    "\n",
    "```\n",
    "from torchsample.regularizers import L1Regularizer\n",
    "\n",
    "model = torch.nn.Sequential(\n",
    "    torch.nn.Linear(D_in, H_1),\n",
    "    torch.nn.ReLU(),\n",
    "    torch.nn.Linear(H_1, H_2),\n",
    "    torch.nn.ReLU(),\n",
    "    torch.nn.Linear(H_2, D_out),\n",
    "    torch.nn.Softmax(),\n",
    ")\n",
    "\n",
    "regularizers = [L1Regularizer(scale=1e-4)]\n",
    "model.set_regularizers(regularizers)\n",
    "```\n",
    "\n",
    "O benefício esperado seria de ser capaz de construir um modelo que generalize melhor, ou seja, com uma performance out-of-sample superior. Porém, é preciso notar que o termo que controla a regularização $\\lambda$ precisa ser encontrado, então é preciso criar um conjunto de validação para encontrar o parâmetro ótimo, ou usar k-fold. \n",
    "\n",
    "**Dropout**\n",
    "É outra técnica que contribui para melhorar a robustez do modelo em relação a generalização. \n",
    "\n",
    "Neste caso nós associamos uma probabilidade a determinados nós da rede e o ignoramos com essa probabilidade quando é feito o foward ou back propagation. Isso quer dizer que a rede é obrigada a gerar bons resultados mesmo sem a eventual controbuição daqueles nodes, o que faz com que ela busque não ser tão específica e capaz de gerar bons resultados independentemente da contribuição de cada node, ou seja, reduz a interdependência entre os nodes.\n",
    "\n",
    "Segundo a [documentação do Pytorch](https://pytorch.org/docs/stable/nn.html#dropout-layers):\n",
    "\n",
    "> During training, randomly zeroes some of the elements of the input tensor with probability p using samples from a Bernoulli distribution. The elements to zero are randomized on every forward call.\n",
    "\n",
    "> This has proven to be an effective technique for regularization and preventing the co-adaptation of neurons as described in the paper Improving neural networks by preventing co-adaptation of feature detectors .\n",
    "\n",
    "Pode-se adicionar o dropout no modelo da seguinte forma:\n",
    "\n",
    "```\n",
    "model = torch.nn.Sequential(\n",
    "    torch.nn.Linear(D_in, H_1),\n",
    "    torch.nn.ReLU(),\n",
    "    torch.nn.Dropout(p=0.5),\n",
    "    torch.nn.Linear(H_1, H_2),\n",
    "    torch.nn.ReLU(),\n",
    "    torch.nn.Dropout(p=0.5),\n",
    "    torch.nn.Linear(H_2, D_out),\n",
    "    torch.nn.Softmax(),\n",
    ")\n",
    "```\n",
    "\n",
    "Espera-se que os ganhos sejam os mesmos descritos na parte do L1 e L2."
   ]
  },
  {
   "cell_type": "code",
   "execution_count": null,
   "metadata": {},
   "outputs": [],
   "source": []
  }
 ],
 "metadata": {
  "kernelspec": {
   "display_name": "Python [conda env:kaggle]",
   "language": "python",
   "name": "conda-env-kaggle-py"
  },
  "language_info": {
   "codemirror_mode": {
    "name": "ipython",
    "version": 3
   },
   "file_extension": ".py",
   "mimetype": "text/x-python",
   "name": "python",
   "nbconvert_exporter": "python",
   "pygments_lexer": "ipython3",
   "version": "3.7.1"
  }
 },
 "nbformat": 4,
 "nbformat_minor": 2
}
