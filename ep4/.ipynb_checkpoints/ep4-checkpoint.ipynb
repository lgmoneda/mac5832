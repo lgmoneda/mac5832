{
 "cells": [
  {
   "cell_type": "code",
   "execution_count": 1,
   "metadata": {},
   "outputs": [],
   "source": [
    "import numpy as np\n",
    "import matplotlib.pyplot as plt"
   ]
  },
  {
   "cell_type": "markdown",
   "metadata": {},
   "source": [
    "# MAC0460/5832 - Lista 4: SVM - MNIST\n",
    "\n",
    "### Data de Entrega: 23h55m do dia XX/12/2018\n",
    "\n",
    "##### Classificação de dígitos\n",
    "Os dataset para esta tarefa é uma adaptação do disponível na competição do kaggle de reconhecimento de dígitos (https://www.kaggle.com/c/digit-recognizer) e está disponível em http://vision.ime.usp.br/~caiomr/mac0460_5832/train_svm.csv.gz. O dataset está sob a licença Creative Commons Attribution-Share Alike 3.0 license (https://creativecommons.org/licenses/by-sa/3.0/). O dataset foi zipado, e apenas os dígitos 5 e 6 foram mantidos. Cada linha (amostra) do arquivo contém 257 colunas: a primeira informa o label da amostra (0 para o dígito 5, 1 para o dígito 6) e as outras 256 são os valores dos pixels da imagem (16 x 16) que representa o dígito.\n",
    "\n",
    "Note que esse dataset difere do usado no EP3: as imagens sofreram pequenas rotações e translações aleatórias, além de terem sido escalonadas para o tamanho 16x16. Veja também que pode ser necessário realizar algum tipo de normalização para realizar um treinamento efetivo com SVM. Para auxiliar na normalização dos dados, consultem o seguinte link: http://scikit-learn.org/stable/modules/preprocessing.html. \n",
    "\n",
    "Q1. Use SVM para classificar os dígitos 5 e 6. Utilize as funções do scikit learn (http://scikit-learn.org/, http://scikit-learn.org/stable/modules/svm.html) para realizar o treinamento.\n",
    "\n",
    "Teste os kernels linear e RBF da seguinte maneira:\n",
    "1. Escolha aleatoriamente 932 amostras para formarem o conjunto de teste.\n",
    "2. Com as 7000 amostras restantes, utilize validação cruzada (com número de folds K = 5) para escolher os parâmetros do seu classificador, isto é: C (peso da *soft margin*) para o kernel linear; C e gamma para o kernel RBF.\n",
    "3. Plote a curva experimental de aprendizado para o melhor SVM com kernel linear e o melhor SVM com kernel RBF escolhidos por validação cruzada. Use as 932 amostras do conjunto de teste para estimar $E_{out}$. Comente sobre o resultado."
   ]
  },
  {
   "cell_type": "code",
   "execution_count": 2,
   "metadata": {},
   "outputs": [
    {
     "name": "stdout",
     "output_type": "stream",
     "text": [
      "(7932, 257)\n"
     ]
    }
   ],
   "source": [
    "data = np.genfromtxt('data/train_svm.csv', delimiter=',')\n",
    "print(data.shape)"
   ]
  },
  {
   "cell_type": "code",
   "execution_count": 3,
   "metadata": {},
   "outputs": [
    {
     "name": "stdout",
     "output_type": "stream",
     "text": [
      "Label:  1\n"
     ]
    },
    {
     "data": {
      "image/png": "[encoded data removed]",
      "text/plain": [
       "<Figure size 432x288 with 1 Axes>"
      ]
     },
     "metadata": {},
     "output_type": "display_data"
    },
    {
     "name": "stdout",
     "output_type": "stream",
     "text": [
      "Label:  0\n"
     ]
    },
    {
     "data": {
      "image/png": "[encoded data removed]",
      "text/plain": [
       "<Figure size 432x288 with 1 Axes>"
      ]
     },
     "metadata": {},
     "output_type": "display_data"
    },
    {
     "name": "stdout",
     "output_type": "stream",
     "text": [
      "Label:  1\n"
     ]
    },
    {
     "data": {
      "image/png": "[encoded data removed]",
      "text/plain": [
       "<Figure size 432x288 with 1 Axes>"
      ]
     },
     "metadata": {},
     "output_type": "display_data"
    },
    {
     "name": "stdout",
     "output_type": "stream",
     "text": [
      "Label:  0\n"
     ]
    },
    {
     "data": {
      "image/png": "[encoded data removed]",
      "text/plain": [
       "<Figure size 432x288 with 1 Axes>"
      ]
     },
     "metadata": {},
     "output_type": "display_data"
    }
   ],
   "source": [
    "sample = data[0]\n",
    "print(\"Label: \", int(sample[0]))\n",
    "plt.imshow(sample[1:].reshape((16, 16)), cmap='gray')\n",
    "plt.show()\n",
    "\n",
    "sample = data[1]\n",
    "print(\"Label: \", int(sample[0]))\n",
    "plt.imshow(sample[1:].reshape((16, 16)), cmap='gray')\n",
    "plt.show()\n",
    "\n",
    "sample = data[20]\n",
    "print(\"Label: \", int(sample[0]))\n",
    "plt.imshow(sample[1:].reshape((16, 16)), cmap='gray')\n",
    "plt.show()\n",
    "\n",
    "sample = data[25]\n",
    "print(\"Label: \", int(sample[0]))\n",
    "plt.imshow(sample[1:].reshape((16, 16)), cmap='gray')\n",
    "plt.show()"
   ]
  },
  {
   "cell_type": "code",
   "execution_count": 18,
   "metadata": {},
   "outputs": [],
   "source": [
    "import pandas as pd\n",
    "from sklearn.svm import SVC\n",
    "from sklearn.preprocessing import MinMaxScaler\n",
    "from sklearn.model_selection import train_test_split\n",
    "from sklearn.metrics import make_scorer, f1_score, accuracy_score\n",
    "from sklearn.model_selection import GridSearchCV"
   ]
  },
  {
   "cell_type": "code",
   "execution_count": 5,
   "metadata": {},
   "outputs": [
    {
     "name": "stdout",
     "output_type": "stream",
     "text": [
      "Target shape (7932,), input shape (7932, 256)\n"
     ]
    }
   ],
   "source": [
    "y = data[:, 0]\n",
    "X = data[:, 1:]\n",
    "\n",
    "print(\"Target shape {}, input shape {}\".format(y.shape, X.shape))"
   ]
  },
  {
   "cell_type": "code",
   "execution_count": 6,
   "metadata": {},
   "outputs": [],
   "source": [
    "mm = MinMaxScaler()\n",
    "X = mm.fit_transform(X)"
   ]
  },
  {
   "cell_type": "code",
   "execution_count": 7,
   "metadata": {},
   "outputs": [
    {
     "name": "stdout",
     "output_type": "stream",
     "text": [
      "Trainset size 7000, testset size 932\n"
     ]
    }
   ],
   "source": [
    "X_train, X_test, y_train, y_test = train_test_split(X, y, test_size=932)\n",
    "\n",
    "print(\"Trainset size {}, testset size {}\".format(X_train.shape[0], X_test.shape[0]))"
   ]
  },
  {
   "cell_type": "code",
   "execution_count": 8,
   "metadata": {},
   "outputs": [],
   "source": [
    "def grid_search(X, y, model, parameters_dict, performance_metric):\n",
    "    \"\"\"\n",
    "    Performs a grid search using X, y as data, model as a model,\n",
    "    a parameters_dict as a parameters grid and performance_metric as\n",
    "    the performance metric to be optimized.\n",
    "    \n",
    "    returns the best estimator.\n",
    "    \"\"\"\n",
    "    scoring_fnc = make_scorer(performance_metric)\n",
    "\n",
    "    grid = GridSearchCV(model,\n",
    "                        parameters_dict,\n",
    "                        scoring=scoring_fnc,\n",
    "                        cv=5,\n",
    "                        verbose=1,\n",
    "                        n_jobs=-1)\n",
    "\n",
    "    grid = grid.fit(X, y)\n",
    "\n",
    "    return grid.best_estimator_"
   ]
  },
  {
   "cell_type": "code",
   "execution_count": 13,
   "metadata": {},
   "outputs": [],
   "source": [
    "linear_parameters_grid = {\"kernel\": [\"linear\"], \n",
    "                          \"C\": [0.001, 0.01, 0.1, 1, 10, 100, 1000]}\n",
    "\n",
    "rbf_parameters_grid = {\"kernel\": [\"rbf\"], \n",
    "                       \"C\": [0.001, 0.01, 0.1, 1, 10, 100, 1000],\n",
    "                       \"gamma\": [0.001, 0.01, 0.1, 1, 10, 100, 1000]}\n",
    "\n",
    "model = SVC()"
   ]
  },
  {
   "cell_type": "code",
   "execution_count": 14,
   "metadata": {},
   "outputs": [
    {
     "name": "stdout",
     "output_type": "stream",
     "text": [
      "Fitting 5 folds for each of 7 candidates, totalling 35 fits\n"
     ]
    },
    {
     "name": "stderr",
     "output_type": "stream",
     "text": [
      "[Parallel(n_jobs=-1)]: Done   8 out of  35 | elapsed:   14.9s remaining:   50.2s\n",
      "[Parallel(n_jobs=-1)]: Done  35 out of  35 | elapsed:  4.7min finished\n"
     ]
    }
   ],
   "source": [
    "best_linear_estimator = grid_search(X_train, y_train, model, linear_parameters_grid, f1_score)"
   ]
  },
  {
   "cell_type": "code",
   "execution_count": 15,
   "metadata": {},
   "outputs": [
    {
     "name": "stdout",
     "output_type": "stream",
     "text": [
      "Fitting 5 folds for each of 49 candidates, totalling 245 fits\n"
     ]
    },
    {
     "name": "stderr",
     "output_type": "stream",
     "text": [
      "[Parallel(n_jobs=-1)]: Done 136 tasks      | elapsed:  5.8min\n",
      "[Parallel(n_jobs=-1)]: Done 245 out of 245 | elapsed:  8.8min finished\n"
     ]
    }
   ],
   "source": [
    "best_rbf_estimator = grid_search(X_train, y_train, model, rbf_parameters_grid, f1_score)"
   ]
  },
  {
   "cell_type": "code",
   "execution_count": 16,
   "metadata": {},
   "outputs": [
    {
     "data": {
      "text/plain": [
       "SVC(C=10, cache_size=200, class_weight=None, coef0=0.0,\n",
       "  decision_function_shape='ovr', degree=3, gamma='auto', kernel='linear',\n",
       "  max_iter=-1, probability=False, random_state=None, shrinking=True,\n",
       "  tol=0.001, verbose=False)"
      ]
     },
     "execution_count": 16,
     "metadata": {},
     "output_type": "execute_result"
    }
   ],
   "source": [
    "best_linear_estimator"
   ]
  },
  {
   "cell_type": "code",
   "execution_count": 17,
   "metadata": {},
   "outputs": [
    {
     "data": {
      "text/plain": [
       "SVC(C=10, cache_size=200, class_weight=None, coef0=0.0,\n",
       "  decision_function_shape='ovr', degree=3, gamma=0.1, kernel='rbf',\n",
       "  max_iter=-1, probability=False, random_state=None, shrinking=True,\n",
       "  tol=0.001, verbose=False)"
      ]
     },
     "execution_count": 17,
     "metadata": {},
     "output_type": "execute_result"
    }
   ],
   "source": [
    "best_rbf_estimator"
   ]
  },
  {
   "cell_type": "code",
   "execution_count": 44,
   "metadata": {},
   "outputs": [],
   "source": [
    "def plot_experimental_learning_curve(train_sizes, train_errors, test_errors):\n",
    "    plt.figure(figsize=(12, 6))\n",
    "    plt.plot([s for s in train_sizes], train_errors, label=\"Ein\")\n",
    "    plt.plot([s for s in train_sizes], test_errors, label=\"Eout\")\n",
    "    plt.legend()\n",
    "    plt.xlabel(\"Training samples\")\n",
    "    plt.ylabel(\"Error\")\n",
    "    plt.title(\"Experimental learning curve\")\n",
    "    plt.show()\n",
    "    \n",
    "def learning_curve(X_train, y_train, X_test, y_test, model, performance_function, n=10):\n",
    "    data_fraction = np.linspace(0.1, 1, n)\n",
    "    \n",
    "    train_performance = []\n",
    "    test_performance = []\n",
    "    data_size = [int(len(X_train) * frac) for frac in data_fraction]\n",
    "    \n",
    "    for i in range(n):\n",
    "        sample_X_train, sample_X_test, sample_y_train, sample_y_test = train_test_split(X_train,\n",
    "                                                                                        y_train, \n",
    "                                                                                        train_size=data_size[i]-1)\n",
    "        \n",
    "        model.fit(sample_X_train, sample_y_train)\n",
    "        \n",
    "        y_pred = model.predict(sample_X_train)\n",
    "        train_performance.append(1 - performance_function(sample_y_train, y_pred))\n",
    "        \n",
    "        y_pred = model.predict(X_test)\n",
    "        test_performance.append(1 - performance_function(y_test, y_pred))\n",
    "\n",
    "        \n",
    "        \n",
    "    return data_size, train_performance, test_performance"
   ]
  },
  {
   "cell_type": "code",
   "execution_count": 45,
   "metadata": {
    "scrolled": true
   },
   "outputs": [
    {
     "name": "stderr",
     "output_type": "stream",
     "text": [
      "/opt/conda/lib/python3.6/site-packages/sklearn/model_selection/_split.py:2026: FutureWarning: From version 0.21, test_size will always complement train_size unless both are specified.\n",
      "  FutureWarning)\n"
     ]
    },
    {
     "data": {
      "image/png": "[encoded data removed]",
      "text/plain": [
       "<Figure size 864x432 with 1 Axes>"
      ]
     },
     "metadata": {},
     "output_type": "display_data"
    }
   ],
   "source": [
    "plot_experimental_learning_curve(*learning_curve(X_train,\n",
    "                                                 y_train, \n",
    "                                                 X_test, \n",
    "                                                 y_test, \n",
    "                                                 best_linear_estimator, \n",
    "                                                 accuracy_score, \n",
    "                                                 n=10))"
   ]
  },
  {
   "cell_type": "code",
   "execution_count": 46,
   "metadata": {},
   "outputs": [
    {
     "name": "stderr",
     "output_type": "stream",
     "text": [
      "/opt/conda/lib/python3.6/site-packages/sklearn/model_selection/_split.py:2026: FutureWarning: From version 0.21, test_size will always complement train_size unless both are specified.\n",
      "  FutureWarning)\n"
     ]
    },
    {
     "data": {
      "image/png": "[encoded data removed]",
      "text/plain": [
       "<Figure size 864x432 with 1 Axes>"
      ]
     },
     "metadata": {},
     "output_type": "display_data"
    }
   ],
   "source": [
    "plot_experimental_learning_curve(*learning_curve(X_train,\n",
    "                                                y_train, \n",
    "                                                X_test, \n",
    "                                                y_test, \n",
    "                                                best_rbf_estimator, \n",
    "                                                accuracy_score, \n",
    "                                                n=10))"
   ]
  },
  {
   "cell_type": "markdown",
   "metadata": {},
   "source": [
    "### Comentários\n",
    "\n",
    "Os dois gráficos ficaram com as curvas em um formato esperado: Ein vai aumentando (mesmo que seja muito pouco no caso do RBF) e Eout vai diminuindo. \n",
    "\n",
    "No caso linear a convergência ficou mais evidente, porém, o erro também ficou maior. \n",
    "\n",
    "No caso do RBF, a distância entre Ein e Eout está relativamente maior e dá a entender que seriam precisos muito mais dados para covnergir, o que faz sentido, pois o Ein muito pequeno indica que a complexidade do modelo é alta.\n",
    "\n",
    "Ou seja, em termos de generalização, se formos falar sobre a distância entre Ein e Eout, o linear está generalizando melhor. Porém, mesmo que a diferença entre Ein e Eout seja relativamente maior no caso do RBF, o Eout é menor, que é o que nos interessa, então ele seria o melhor modelo para ser escolhido neste caso."
   ]
  },
  {
   "cell_type": "code",
   "execution_count": null,
   "metadata": {},
   "outputs": [],
   "source": []
  }
 ],
 "metadata": {
  "kernelspec": {
   "display_name": "Python [default]",
   "language": "python",
   "name": "python3"
  },
  "language_info": {
   "codemirror_mode": {
    "name": "ipython",
    "version": 3
   },
   "file_extension": ".py",
   "mimetype": "text/x-python",
   "name": "python",
   "nbconvert_exporter": "python",
   "pygments_lexer": "ipython3",
   "version": "3.6.7"
  }
 },
 "nbformat": 4,
 "nbformat_minor": 2
}
