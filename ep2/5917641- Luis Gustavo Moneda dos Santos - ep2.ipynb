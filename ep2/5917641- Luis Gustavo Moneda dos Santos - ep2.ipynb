{
 "cells": [
  {
   "cell_type": "code",
   "execution_count": 1,
   "metadata": {},
   "outputs": [],
   "source": [
    "%matplotlib inline\n",
    "import matplotlib.pyplot as plt\n",
    "import numpy as np\n",
    "import PIL\n",
    "import cv2\n",
    "\n",
    "from mac0460_5832.utils import *"
   ]
  },
  {
   "cell_type": "code",
   "execution_count": 2,
   "metadata": {},
   "outputs": [],
   "source": [
    "import pandas as pd\n",
    "import pdb\n",
    "import itertools\n",
    "from sklearn.metrics import precision_score, recall_score, f1_score\n",
    "from time import time\n",
    "from toolz import curry\n",
    "from joblib import Parallel, delayed\n",
    "from multiprocessing import cpu_count, Pool\n",
    "from tqdm import tnrange, tqdm_notebook, tqdm\n",
    "import matplotlib.pyplot as plt"
   ]
  },
  {
   "cell_type": "code",
   "execution_count": 46,
   "metadata": {},
   "outputs": [],
   "source": [
    "def find_center(a):\n",
    "    \"\"\"\n",
    "    a: array\n",
    "    \"\"\"\n",
    "    r = int(a.shape[0] / 2)\n",
    "    c = int(a.shape[1] / 2)\n",
    "    \n",
    "    return (r, c)\n",
    "\n",
    "def extract_window(image, W, stride=0):\n",
    "    ### Zero Padding\n",
    "    W_center = find_center(W)\n",
    "    vertical_shift = (W.shape[0] - 1) - W_center[0]\n",
    "    horizontal_shift = (W.shape[1] - 1) - W_center[1]\n",
    "    pad_width = max([vertical_shift, horizontal_shift])\n",
    "    im = np.pad(image, pad_width, mode=\"constant\", constant_values=0)\n",
    "    im = im * 1\n",
    "        \n",
    "    extracted = []\n",
    "    for i in range(int(image.shape[0] / (stride + 1))):\n",
    "        i += pad_width \n",
    "        i += i*stride\n",
    "        for j in range(int(image.shape[1] / (stride + 1))):\n",
    "            j += pad_width\n",
    "            j += j*stride\n",
    "            #pdb.set_trace()\n",
    "            extracted.append((W * im[i-vertical_shift:i+vertical_shift+1, j-horizontal_shift:j+horizontal_shift+1]).astype(int))\n",
    "                \n",
    "    return extracted\n",
    "\n",
    "def accuracy_score(y_true, y_pred):\n",
    "    pairs = list(zip(y_true, y_pred))\n",
    "    accuracies = [np.sum(pair[0] == pair[1]) / len(pair[0].flatten()) for pair in pairs]\n",
    "    return np.mean(np.array(accuracies))\n",
    "\n",
    "def mse_score(y_true, y_pred):\n",
    "    pairs = list(zip(y_true, y_pred))\n",
    "    mses = [np.mean(np.power(pair[0] - pair[1], 2)) for pair in pairs]\n",
    "    return np.mean(np.array(mses))\n",
    "\n",
    "    return 0\n",
    "\n",
    "def first_array(x):\n",
    "    return list(x[0])\n",
    "    \n",
    "def train_w(I, O, W_shape, operator=[], stride=0, verbose=True, multiproc=False):\n",
    "    \"\"\"\n",
    "    I: list of input images\n",
    "    O: list of output images\n",
    "    W_shape: window shape\n",
    "    \"\"\"\n",
    "    if len(operator) == 0:\n",
    "        W = np.ones(W_shape)\n",
    "    else:\n",
    "        W = operator\n",
    "        \n",
    "    ###\n",
    "    if multiproc:\n",
    "        pass\n",
    "    else:\n",
    "        start = time()\n",
    "        list_of_patterns = [extract_window(i.astype(int), W, stride) for i in I]\n",
    "        X_train = [pattern for patterns in list_of_patterns for pattern in patterns]\n",
    "        print('Extracting X: {0}m{1}s'.format(int((time()-start)/60), int((time()-start)%60 )))        \n",
    "        \n",
    "        start = time()\n",
    "        list_of_labels = [extract_window(o.astype(int), np.ones((1,1))) for o in O]\n",
    "        y_train = [label for labels in list_of_labels for label in labels]\n",
    "        print('Extracting y: {0}m{1}s'.format(int((time()-start)/60), int((time()-start)%60 )))        \n",
    "        \n",
    "    start = time()\n",
    "    ### Fit\n",
    "    df = pd.DataFrame()\n",
    "    df[\"pattern\"] = X_train\n",
    "    df[\"array\"] = X_train\n",
    "    df[\"y\"] = y_train\n",
    "    df[\"y\"] = df[\"y\"].apply(lambda x : x[0][0])\n",
    "    df[\"pattern\"] = df[\"pattern\"].apply(lambda x : str(x.astype(int)))    \n",
    "    threshold = np.mean(y_train)\n",
    "    f = df.groupby(\"pattern\", as_index=False).agg({\"y\": \"mean\", \"array\": lambda x : list(x)})\n",
    "    f[\"array\"] = f[\"array\"].apply(lambda x : x[0])\n",
    "    f.set_index(f[\"pattern\"], inplace=True)\n",
    "\n",
    "    \n",
    "    f[\"y\"] = (f[\"y\"] > threshold) * 1 \n",
    "    \n",
    "    logs = {}\n",
    "\n",
    "    return X_train, y_train, f, logs\n",
    "\n",
    "\n",
    "def learning_curve(I, O, W_shape, T, operator=[], stride=0, verbose=False, multiproc=False):\n",
    "    \n",
    "    train_errors = []\n",
    "    test_errors = []\n",
    "    for i in tqdm_notebook(range(1, len(I))):\n",
    "        train_images = I[:i]\n",
    "        train_output = O[:i]\n",
    "        X_train, y_train, f, logs = train_w(train_images, train_output, w.shape, operator, verbose=verbose)\n",
    "        \n",
    "        train_errors.append(1 - logs[\"accuracy\"])\n",
    "\n",
    "        ### Test error\n",
    "        y_pred = [predict(f, im, operator) for im in T]   \n",
    "        y_hat = [x for p in [y for y_p in y_pred for y in y_p] for x in p]\n",
    "        \n",
    "        accuracy = accuracy_score(O, y_pred)\n",
    "        test_errors.append(1 - accuracy)\n",
    "        \n",
    "    plt.plot(train_errors, label=\"Ein\")\n",
    "    plt.plot(test_errors, label=\"Eout\")\n",
    "    plt.title(\"Learning Curve\")\n",
    "    plt.xlabel(\"Number of training images\")\n",
    "    plt.ylabel(\"Percentage of incorrect predicted pixels\")\n",
    "    plt.legend()\n",
    "    plt.show()\n",
    "    \n",
    "def learning_curve_multiresolution(I, O, windows, T, operator=[], stride=0, verbose=True, multiproc=False):\n",
    "    train_errors = []\n",
    "    test_errors = []\n",
    "    for i in tqdm_notebook(range(1, len(I) + 1)):\n",
    "        train_images = I[:i]\n",
    "        train_output = O[:i]\n",
    "        \n",
    "        print(\"--------------- Learning: {} images ---------------\".format(len(train_images)))\n",
    "        functions = []\n",
    "        for window in windows:\n",
    "            X_train, y_train, f, logs = train_w(train_images, train_output, window.shape, window, verbose=verbose)\n",
    "            #f, logs = train_w_operator(I, O, W, verbose=True, test_size=0.2):\n",
    "            functions.append(f)\n",
    "    \n",
    "        print(\"---------------  Predicting ---------------\")\n",
    "        start = time()\n",
    "        y_pred = [multiresolution_predict(functions, im, windows) for im in train_images]   \n",
    "        \n",
    "        train_accuracy = accuracy_score(train_output, y_pred)\n",
    "        train_errors.append(1 - train_accuracy)\n",
    "        print('Predicting train: {0}m{1}s'.format(int((time()-start)/60), int((time()-start)%60 )))        \n",
    "\n",
    "        ### Test error\n",
    "        start = time()\n",
    "        y_pred = [multiresolution_predict(functions, im, windows) for im in T]   \n",
    "        test_accuracy = accuracy_score(O[:len(T)], y_pred)\n",
    "        test_errors.append(1 - test_accuracy)\n",
    "        print('Predicting test: {0}m{1}s'.format(int((time()-start)/60), int((time()-start)%60 )))        \n",
    "        \n",
    "        print(\"***Errors***\")\n",
    "        print(\"Train: \")\n",
    "        print(train_errors)\n",
    "        print(\"Test: \")\n",
    "        print(test_errors)\n",
    "\n",
    "    plt.plot([i for i in range(1, len(train_errors) + 1)], train_errors, label=\"Ein\")\n",
    "    plt.plot([i for i in range(1, len(test_errors) + 1)], test_errors, label=\"Eout\")\n",
    "    plt.title(\"Learning Curve\")\n",
    "    plt.xlabel(\"Number of training images\")\n",
    "    plt.ylabel(\"Percentage of incorrect predicted pixels\")\n",
    "    plt.legend()\n",
    "    plt.show()\n",
    "    \n",
    "    return train_errors, test_errors\n",
    "    \n",
    "def retrieve_prediction(f, pattern_chunk):\n",
    "    result = []\n",
    "    for pattern in pattern_chunk:\n",
    "        try:\n",
    "            #prediction = f[f[\"pattern\"] == str(pattern)][\"y\"].values[0]\n",
    "            prediction = f.at[str(pattern), \"y\"]\n",
    "        except:\n",
    "            prediction = 0\n",
    "        result.append(prediction)\n",
    "        \n",
    "    return result\n",
    "\n",
    "def predict(f, image, W):\n",
    "    \"\"\"\n",
    "    \n",
    "    \"\"\"\n",
    "\n",
    "    extracted_feats = extract_window(image, W)    \n",
    "\n",
    "    ### Multiproc\n",
    "    partitions = cpu_count()\n",
    "    pattern_chunks = np.array_split(extracted_feats, partitions)\n",
    "    result = Parallel(n_jobs= partitions, max_nbytes=None)(delayed(retrieve_prediction)(f, pattern_chunk) for pattern_chunk in pattern_chunks)\n",
    "    output = np.array([item for sublist in result for item in sublist]).reshape(image.shape)\n",
    "    \n",
    "    return output\n",
    "\n",
    "def retrieve_multiresolution_prediction(functions, extracted_feats, pixels):\n",
    "    result = []\n",
    "    for pixel in pixels:\n",
    "        prediction = None\n",
    "        i = 0\n",
    "        for i, function in enumerate(functions):\n",
    "            try:\n",
    "                prediction = functions[i].at[str(extracted_feats[i][pixel]), \"y\"]\n",
    "                break\n",
    "            except:\n",
    "                pass\n",
    "        if prediction == None:\n",
    "            prediction = 0\n",
    "            \n",
    "        result.append(prediction)\n",
    "        \n",
    "    return result\n",
    "\n",
    "\n",
    "def multiresolution_predict(functions, image, windows):\n",
    "    output = np.zeros(image.shape)\n",
    "    result = []\n",
    "    extracted_feats = [extract_window(image, W) for W in windows]\n",
    "    \n",
    "    ### Multiproc\n",
    "    partitions = cpu_count()\n",
    "    pixel_chunks = np.array_split(range(np.size(image)), partitions)    \n",
    "    result = Parallel(n_jobs= partitions, max_nbytes=None)(delayed(retrieve_multiresolution_prediction)(functions, extracted_feats, pixel_chunk) for pixel_chunk in pixel_chunks)\n",
    "    \n",
    "    return np.array([item for sublist in result for item in sublist]).reshape(image.shape)\n",
    "\n",
    "def multiresolution_predict_single(functions, image, windows):\n",
    "    output = np.zeros(image.shape)\n",
    "    result = []\n",
    "    extracted_feats = [extract_window(image, W) for W in windows]\n",
    "        \n",
    "    for pixel in range(np.size(image)):\n",
    "        prediction = None\n",
    "        for i, function in enumerate(functions):\n",
    "            try:\n",
    "                prediction = function[function[\"pattern\"] == str(extracted_feats[i][pixel])][\"y\"].values[0]                \n",
    "                break\n",
    "            except:\n",
    "                pass\n",
    "        if prediction == None:\n",
    "            prediction = 0\n",
    "        result.append(prediction)\n",
    "                                      \n",
    "    return np.array(result).reshape(image.shape)\n",
    "\n",
    "def print_patterns(patterns):    \n",
    "    for pattern in patterns:\n",
    "        draw_img(pattern)\n",
    "        \n",
    "        \n",
    "def custom_apply(I, O, kernel_1, kernel_2, f_1, f_2):\n",
    "    train_errors = []\n",
    "    test_errors = []\n",
    "\n",
    "    I_2 = [f_1(img, kernel_1, iterations= 1) for img in I]\n",
    "    final = [f_2(img, kernel_2, iterations= 1) for img in I_2]\n",
    "\n",
    "    train_error = [1 - accuracy_score(O[0], img) for img in final]\n",
    "    train_error = sum(train_error) / float(len(train_error))\n",
    "    \n",
    "    return train_error, final\n",
    "\n",
    "def opening_closing(I, O, w1, w2, opening=True, closing=False):    \n",
    "    if opening and not closing:\n",
    "        f_1 = cv2.erode\n",
    "        f_2 = cv2.dilate\n",
    "        error, final = custom_apply(train_images, train_output, w1, w2, f_1, f_2)\n",
    "    \n",
    "    if closing and not opening:\n",
    "        f_1 = cv2.dilate\n",
    "        f_2 = cv2.erode\n",
    "        error, final = custom_apply(train_images, train_output, w1, w2, f_1, f_2)\n",
    "\n",
    "    if opening and closing:\n",
    "        f_1 = cv2.erode\n",
    "        f_2 = cv2.dilate\n",
    "        \n",
    "        error, final = custom_apply(train_images, train_output, w1, w2, f_1, f_2)\n",
    "        error, final = custom_apply(final, train_output, w1, w2, f_2, f_1)\n",
    "        \n",
    "    return error, final"
   ]
  },
  {
   "cell_type": "markdown",
   "metadata": {},
   "source": [
    "# MAC0460/5832 - Lista 2: Escolha de modelo\n",
    "\n",
    "### Data de Entrega: 23h55m do dia 22/10/2018\n",
    "\n",
    "(Ainda sem monitoria definida)"
   ]
  },
  {
   "cell_type": "markdown",
   "metadata": {},
   "source": [
    "Q1. Projete, a partir dos dados, o operador capaz de filtrar ruído usando a técnica de multiresolução. Como conjuntos de hipóteses, utilize diferentes subamostragens da janela original, como ilustrado abaixo:\n",
    "\n",
    "1. Subamostragem 1: ![alt text](imgs/q1_h1.png \"1\")\n",
    "2. Subamostragem 2: ![alt text](imgs/q1_h2.png \"2\")\n",
    "3. Subamostragem 3: ![alt text](imgs/q1_h3.png \"2\")\n",
    "\n",
    "Para cada conjunto, plote os erros  $E_{in}$ e $E_{val}$ ao longo do treinamento. Após escolher o modelo mais apropriado, retreine seu operador com todos os dados e imprima o erro $E_{in}$.\n",
    "\n",
    "Utilize as imagens da pasta imgs/q1/ para realizar o treinamento e validação (nota: são as mesmas imagens do EP anterior)."
   ]
  },
  {
   "cell_type": "markdown",
   "metadata": {},
   "source": [
    "### Resolução\n",
    "\n",
    "1. Criar lista de janelas de acordo com o que foi passado;\n",
    "2. Dividir as imagens em 80% para treino e 20% para validação\n",
    "3. Plotar a learning curve para a curva de treino e validação (Estou chamando de Eout o Eval)\n",
    "4. Decidir o melhor modelo considerando o erro de validação no final da learning curve\n",
    "5. Retreinar o modelo com 100% das imagens e informar o Ein"
   ]
  },
  {
   "cell_type": "code",
   "execution_count": 22,
   "metadata": {},
   "outputs": [],
   "source": [
    "n_train = 10\n",
    "train_images = [read_img(\"imgs/q1/q1_src\" + str(i) + \".png\") for i in range(1, n_train+1)]\n",
    "train_output = [read_img(\"imgs/q1/q1_dest.png\") for i in range(1, n_train+1)]"
   ]
  },
  {
   "cell_type": "code",
   "execution_count": 23,
   "metadata": {},
   "outputs": [
    {
     "data": {
      "text/plain": [
       "[array([[False, False, False, ..., False, False, False],\n",
       "        [False, False, False, ..., False, False, False],\n",
       "        [False, False, False, ..., False, False, False],\n",
       "        ...,\n",
       "        [False, False, False, ..., False, False, False],\n",
       "        [False, False, False, ..., False, False, False],\n",
       "        [False, False, False, ..., False, False, False]])]"
      ]
     },
     "execution_count": 23,
     "metadata": {},
     "output_type": "execute_result"
    }
   ],
   "source": [
    "train_images[:1]"
   ]
  },
  {
   "cell_type": "code",
   "execution_count": 24,
   "metadata": {},
   "outputs": [
    {
     "data": {
      "image/png": "[encoded data removed]",
      "text/plain": [
       "<Figure size 432x288 with 1 Axes>"
      ]
     },
     "metadata": {
      "needs_background": "light"
     },
     "output_type": "display_data"
    }
   ],
   "source": [
    "w1 = np.ones((5, 5), dtype=int)\n",
    "#w1 = np.array([[1, 1, 1, 1, 1], [1, 1, 1, 1, 1], [1, 1, 1, 1, 1], [1, 1, 1, 1, 1] , [1, 1, 1, 1, 1]])\n",
    "draw_img(w1)\n",
    "\n",
    "### Deveria aparecer todo escuro, mas quando é tudo 1 ele fica branco.\n",
    "### Se eu tiro um 1 e substituo por 0 ele fica com todos em preto, \n",
    "### menos um."
   ]
  },
  {
   "cell_type": "code",
   "execution_count": 25,
   "metadata": {},
   "outputs": [
    {
     "data": {
      "image/png": "[encoded data removed]",
      "text/plain": [
       "<Figure size 432x288 with 1 Axes>"
      ]
     },
     "metadata": {
      "needs_background": "light"
     },
     "output_type": "display_data"
    }
   ],
   "source": [
    "w2 = np.array([[1, 0, 1, 0, 1], [0, 0, 0, 0, 0], [1, 0, 1, 0, 1], [0, 0, 0, 0, 0] , [1, 0, 1, 0, 1]])\n",
    "draw_img(w2)"
   ]
  },
  {
   "cell_type": "code",
   "execution_count": 26,
   "metadata": {},
   "outputs": [
    {
     "data": {
      "image/png": "[encoded data removed]",
      "text/plain": [
       "<Figure size 432x288 with 1 Axes>"
      ]
     },
     "metadata": {
      "needs_background": "light"
     },
     "output_type": "display_data"
    }
   ],
   "source": [
    "w3 = np.array([[0, 0, 0, 0, 0], [0, 0, 0, 0, 0], [0, 0, 1, 0, 0], [0, 0, 0, 0, 0] , [0, 0, 0, 0, 0]])\n",
    "draw_img(w3)"
   ]
  },
  {
   "cell_type": "markdown",
   "metadata": {},
   "source": [
    "### Subamostragem 1"
   ]
  },
  {
   "cell_type": "code",
   "execution_count": 35,
   "metadata": {},
   "outputs": [],
   "source": [
    "train_images = [read_img(\"imgs/q1/q1_src\" + str(i) + \".png\") for i in range(1, n_train+1)]\n",
    "train_output = [read_img(\"imgs/q1/q1_dest.png\") for i in range(1, n_train+1)]"
   ]
  },
  {
   "cell_type": "code",
   "execution_count": 40,
   "metadata": {
    "scrolled": false
   },
   "outputs": [
    {
     "name": "stderr",
     "output_type": "stream",
     "text": [
      "\n",
      "\n",
      "\n",
      "\n",
      "  0%|          | 0/8 [00:00<?, ?it/s]\u001b[A\u001b[A\u001b[A\u001b[A"
     ]
    },
    {
     "name": "stdout",
     "output_type": "stream",
     "text": [
      "Learning: 1 images\n",
      "Predicting...\n"
     ]
    },
    {
     "name": "stderr",
     "output_type": "stream",
     "text": [
      "\n",
      "\n",
      "\n",
      "\n",
      " 12%|█▎        | 1/8 [11:50<1:22:52, 710.37s/it]\u001b[A\u001b[A\u001b[A\u001b[A"
     ]
    },
    {
     "name": "stdout",
     "output_type": "stream",
     "text": [
      "***Errors***\n",
      "Train: \n",
      "[0.02621484375000005]\n",
      "Test: \n",
      "[0.027556640625000073]\n",
      "Learning: 2 images\n",
      "Predicting...\n"
     ]
    },
    {
     "name": "stderr",
     "output_type": "stream",
     "text": [
      "\n",
      "\n",
      "\n",
      "\n",
      " 25%|██▌       | 2/8 [29:12<1:20:58, 809.79s/it]\u001b[A\u001b[A\u001b[A\u001b[A"
     ]
    },
    {
     "name": "stdout",
     "output_type": "stream",
     "text": [
      "***Errors***\n",
      "Train: \n",
      "[0.02621484375000005, 0.026400390624999992]\n",
      "Test: \n",
      "[0.027556640625000073, 0.027023437500000025]\n",
      "Learning: 3 images\n",
      "Predicting...\n"
     ]
    },
    {
     "name": "stderr",
     "output_type": "stream",
     "text": [
      "\n",
      "\n",
      "\n",
      "\n",
      " 38%|███▊      | 3/8 [52:10<1:21:42, 980.47s/it]\u001b[A\u001b[A\u001b[A\u001b[A"
     ]
    },
    {
     "name": "stdout",
     "output_type": "stream",
     "text": [
      "***Errors***\n",
      "Train: \n",
      "[0.02621484375000005, 0.026400390624999992, 0.027661458333333222]\n",
      "Test: \n",
      "[0.027556640625000073, 0.027023437500000025, 0.02737109375000002]\n",
      "Learning: 4 images\n",
      "Predicting...\n"
     ]
    },
    {
     "name": "stderr",
     "output_type": "stream",
     "text": [
      "\n",
      "\n",
      "\n",
      "\n",
      " 50%|█████     | 4/8 [1:20:23<1:19:35, 1193.99s/it]\u001b[A\u001b[A\u001b[A\u001b[A"
     ]
    },
    {
     "name": "stdout",
     "output_type": "stream",
     "text": [
      "***Errors***\n",
      "Train: \n",
      "[0.02621484375000005, 0.026400390624999992, 0.027661458333333222, 0.027125976562500043]\n",
      "Test: \n",
      "[0.027556640625000073, 0.027023437500000025, 0.02737109375000002, 0.02728906249999996]\n",
      "Learning: 5 images\n",
      "Predicting...\n"
     ]
    },
    {
     "name": "stderr",
     "output_type": "stream",
     "text": [
      "\n",
      "\n",
      "\n",
      "\n",
      " 62%|██████▎   | 5/8 [1:54:01<1:12:03, 1441.32s/it]\u001b[A\u001b[A\u001b[A\u001b[A"
     ]
    },
    {
     "name": "stdout",
     "output_type": "stream",
     "text": [
      "***Errors***\n",
      "Train: \n",
      "[0.02621484375000005, 0.026400390624999992, 0.027661458333333222, 0.027125976562500043, 0.026650000000000063]\n",
      "Test: \n",
      "[0.027556640625000073, 0.027023437500000025, 0.02737109375000002, 0.02728906249999996, 0.027281249999999924]\n",
      "Learning: 6 images\n",
      "Predicting...\n"
     ]
    },
    {
     "name": "stderr",
     "output_type": "stream",
     "text": [
      "\n",
      "\n",
      "\n",
      "\n",
      " 75%|███████▌  | 6/8 [2:33:10<57:07, 1713.62s/it]  \u001b[A\u001b[A\u001b[A\u001b[A"
     ]
    },
    {
     "name": "stdout",
     "output_type": "stream",
     "text": [
      "***Errors***\n",
      "Train: \n",
      "[0.02621484375000005, 0.026400390624999992, 0.027661458333333222, 0.027125976562500043, 0.026650000000000063, 0.026558593750000026]\n",
      "Test: \n",
      "[0.027556640625000073, 0.027023437500000025, 0.02737109375000002, 0.02728906249999996, 0.027281249999999924, 0.027234375000000033]\n",
      "Learning: 7 images\n",
      "Predicting...\n"
     ]
    },
    {
     "name": "stderr",
     "output_type": "stream",
     "text": [
      "/opt/conda/envs/kaggle/lib/python3.7/site-packages/joblib/externals/loky/process_executor.py:700: UserWarning: A worker stopped while some jobs were given to the executor. This can be caused by a too short worker timeout or by a memory leak.\n",
      "  \"timeout or by a memory leak.\", UserWarning\n",
      "\n",
      "\n",
      "\n",
      "\n",
      " 88%|████████▊ | 7/8 [3:34:40<38:26, 2306.55s/it]\u001b[A\u001b[A\u001b[A\u001b[A"
     ]
    },
    {
     "name": "stdout",
     "output_type": "stream",
     "text": [
      "***Errors***\n",
      "Train: \n",
      "[0.02621484375000005, 0.026400390624999992, 0.027661458333333222, 0.027125976562500043, 0.026650000000000063, 0.026558593750000026, 0.026659040178571347]\n",
      "Test: \n",
      "[0.027556640625000073, 0.027023437500000025, 0.02737109375000002, 0.02728906249999996, 0.027281249999999924, 0.027234375000000033, 0.027253906250000015]\n",
      "Learning: 8 images\n",
      "Predicting...\n"
     ]
    },
    {
     "name": "stderr",
     "output_type": "stream",
     "text": [
      "\n",
      "\n",
      "\n",
      "\n",
      "100%|██████████| 8/8 [4:25:07<00:00, 2522.78s/it]\u001b[A\u001b[A\u001b[A\u001b[A\n",
      "\n",
      "\n",
      "\n",
      "\u001b[A\u001b[A\u001b[A\u001b[A"
     ]
    },
    {
     "name": "stdout",
     "output_type": "stream",
     "text": [
      "***Errors***\n",
      "Train: \n",
      "[0.02621484375000005, 0.026400390624999992, 0.027661458333333222, 0.027125976562500043, 0.026650000000000063, 0.026558593750000026, 0.026659040178571347, 0.02686523437499999]\n",
      "Test: \n",
      "[0.027556640625000073, 0.027023437500000025, 0.02737109375000002, 0.02728906249999996, 0.027281249999999924, 0.027234375000000033, 0.027253906250000015, 0.027244140625000024]\n"
     ]
    },
    {
     "data": {
      "image/png": "[encoded data removed]",
      "text/plain": [
       "<Figure size 432x288 with 1 Axes>"
      ]
     },
     "metadata": {
      "needs_background": "light"
     },
     "output_type": "display_data"
    }
   ],
   "source": [
    "windows = [w1, w2, w3]\n",
    "\n",
    "ein_1, eout_1 = learning_curve_multiresolution(train_images[2:], train_output[2:], windows, train_images[:2], operator=[], stride=0, verbose=False, multiproc=False)"
   ]
  },
  {
   "cell_type": "code",
   "execution_count": 41,
   "metadata": {},
   "outputs": [],
   "source": [
    "# ein_1, eout_1 = learning_curve_multiresolution(train_images[:4], train_output[:4], windows, train_images[4:], operator=[], stride=0, verbose=False, multiproc=False)"
   ]
  },
  {
   "cell_type": "markdown",
   "metadata": {},
   "source": [
    "### Subamostragem 2"
   ]
  },
  {
   "cell_type": "code",
   "execution_count": 42,
   "metadata": {},
   "outputs": [
    {
     "data": {
      "image/png": "[encoded data removed]",
      "text/plain": [
       "<Figure size 432x288 with 1 Axes>"
      ]
     },
     "metadata": {
      "needs_background": "light"
     },
     "output_type": "display_data"
    }
   ],
   "source": [
    "w2 = np.array([[0, 0, 0, 0, 0], [0, 1, 1, 1, 0], [0, 1, 1, 1, 0], [0, 1, 1, 1, 0] , [0, 0, 0, 0, 0]])\n",
    "draw_img(w2)"
   ]
  },
  {
   "cell_type": "code",
   "execution_count": 43,
   "metadata": {},
   "outputs": [
    {
     "name": "stderr",
     "output_type": "stream",
     "text": [
      "\n",
      "\n",
      "\n",
      "\n",
      "  0%|          | 0/8 [00:00<?, ?it/s]\u001b[A\u001b[A\u001b[A\u001b[A"
     ]
    },
    {
     "name": "stdout",
     "output_type": "stream",
     "text": [
      "Learning: 1 images\n",
      "Predicting...\n"
     ]
    },
    {
     "name": "stderr",
     "output_type": "stream",
     "text": [
      "\n",
      "\n",
      "\n",
      "\n",
      " 12%|█▎        | 1/8 [11:33<1:20:53, 693.43s/it]\u001b[A\u001b[A\u001b[A\u001b[A"
     ]
    },
    {
     "name": "stdout",
     "output_type": "stream",
     "text": [
      "***Errors***\n",
      "Train: \n",
      "[0.02621484375000005]\n",
      "Test: \n",
      "[0.027480468750000098]\n",
      "Learning: 2 images\n",
      "Predicting...\n"
     ]
    },
    {
     "name": "stderr",
     "output_type": "stream",
     "text": [
      "\n",
      "\n",
      "\n",
      "\n",
      " 25%|██▌       | 2/8 [28:34<1:19:10, 791.80s/it]\u001b[A\u001b[A\u001b[A\u001b[A"
     ]
    },
    {
     "name": "stdout",
     "output_type": "stream",
     "text": [
      "***Errors***\n",
      "Train: \n",
      "[0.02621484375000005, 0.026400390624999992]\n",
      "Test: \n",
      "[0.027480468750000098, 0.026978515624999977]\n",
      "Learning: 3 images\n",
      "Predicting...\n"
     ]
    },
    {
     "name": "stderr",
     "output_type": "stream",
     "text": [
      "\n",
      "\n",
      "\n",
      "\n",
      " 38%|███▊      | 3/8 [51:03<1:19:55, 959.02s/it]\u001b[A\u001b[A\u001b[A\u001b[A"
     ]
    },
    {
     "name": "stdout",
     "output_type": "stream",
     "text": [
      "***Errors***\n",
      "Train: \n",
      "[0.02621484375000005, 0.026400390624999992, 0.027661458333333222]\n",
      "Test: \n",
      "[0.027480468750000098, 0.026978515624999977, 0.027355468749999945]\n",
      "Learning: 4 images\n",
      "Predicting...\n"
     ]
    },
    {
     "name": "stderr",
     "output_type": "stream",
     "text": [
      "\n",
      "\n",
      "\n",
      "\n",
      " 50%|█████     | 4/8 [1:19:25<1:18:47, 1181.88s/it]\u001b[A\u001b[A\u001b[A\u001b[A"
     ]
    },
    {
     "name": "stdout",
     "output_type": "stream",
     "text": [
      "***Errors***\n",
      "Train: \n",
      "[0.02621484375000005, 0.026400390624999992, 0.027661458333333222, 0.027125976562500043]\n",
      "Test: \n",
      "[0.027480468750000098, 0.026978515624999977, 0.027355468749999945, 0.027341796875000046]\n",
      "Learning: 5 images\n",
      "Predicting...\n"
     ]
    },
    {
     "name": "stderr",
     "output_type": "stream",
     "text": [
      "\n",
      "\n",
      "\n",
      "\n",
      " 62%|██████▎   | 5/8 [1:53:12<1:11:45, 1435.23s/it]\u001b[A\u001b[A\u001b[A\u001b[A"
     ]
    },
    {
     "name": "stdout",
     "output_type": "stream",
     "text": [
      "***Errors***\n",
      "Train: \n",
      "[0.02621484375000005, 0.026400390624999992, 0.027661458333333222, 0.027125976562500043, 0.026650000000000063]\n",
      "Test: \n",
      "[0.027480468750000098, 0.026978515624999977, 0.027355468749999945, 0.027341796875000046, 0.027308593749999943]\n",
      "Learning: 6 images\n",
      "Predicting...\n"
     ]
    },
    {
     "name": "stderr",
     "output_type": "stream",
     "text": [
      "\n",
      "\n",
      "\n",
      "\n",
      " 75%|███████▌  | 6/8 [2:32:07<56:50, 1705.32s/it]  \u001b[A\u001b[A\u001b[A\u001b[A"
     ]
    },
    {
     "name": "stdout",
     "output_type": "stream",
     "text": [
      "***Errors***\n",
      "Train: \n",
      "[0.02621484375000005, 0.026400390624999992, 0.027661458333333222, 0.027125976562500043, 0.026650000000000063, 0.026558593750000026]\n",
      "Test: \n",
      "[0.027480468750000098, 0.026978515624999977, 0.027355468749999945, 0.027341796875000046, 0.027308593749999943, 0.027277343750000016]\n",
      "Learning: 7 images\n",
      "Predicting...\n"
     ]
    },
    {
     "name": "stderr",
     "output_type": "stream",
     "text": [
      "\n",
      "\n",
      "\n",
      "\n",
      " 88%|████████▊ | 7/8 [3:16:49<33:18, 1998.26s/it]\u001b[A\u001b[A\u001b[A\u001b[A"
     ]
    },
    {
     "name": "stdout",
     "output_type": "stream",
     "text": [
      "***Errors***\n",
      "Train: \n",
      "[0.02621484375000005, 0.026400390624999992, 0.027661458333333222, 0.027125976562500043, 0.026650000000000063, 0.026558593750000026, 0.026659040178571347]\n",
      "Test: \n",
      "[0.027480468750000098, 0.026978515624999977, 0.027355468749999945, 0.027341796875000046, 0.027308593749999943, 0.027277343750000016, 0.027267578125000025]\n",
      "Learning: 8 images\n",
      "Predicting...\n"
     ]
    },
    {
     "name": "stderr",
     "output_type": "stream",
     "text": [
      "\n",
      "\n",
      "\n",
      "\n",
      "100%|██████████| 8/8 [4:07:25<00:00, 2309.63s/it]\u001b[A\u001b[A\u001b[A\u001b[A\n",
      "\n",
      "\n",
      "\n",
      "\u001b[A\u001b[A\u001b[A\u001b[A"
     ]
    },
    {
     "name": "stdout",
     "output_type": "stream",
     "text": [
      "***Errors***\n",
      "Train: \n",
      "[0.02621484375000005, 0.026400390624999992, 0.027661458333333222, 0.027125976562500043, 0.026650000000000063, 0.026558593750000026, 0.026659040178571347, 0.02686523437499999]\n",
      "Test: \n",
      "[0.027480468750000098, 0.026978515624999977, 0.027355468749999945, 0.027341796875000046, 0.027308593749999943, 0.027277343750000016, 0.027267578125000025, 0.027249999999999996]\n"
     ]
    },
    {
     "data": {
      "image/png": "[encoded data removed]",
      "text/plain": [
       "<Figure size 432x288 with 1 Axes>"
      ]
     },
     "metadata": {
      "needs_background": "light"
     },
     "output_type": "display_data"
    }
   ],
   "source": [
    "windows = [w1, w2, w3]\n",
    "ein_2, eout_2 = learning_curve_multiresolution(train_images[2:], train_output[2:], windows, train_images[:2], operator=[], stride=0, verbose=False, multiproc=False)"
   ]
  },
  {
   "cell_type": "markdown",
   "metadata": {},
   "source": [
    "### Subamostragem 3"
   ]
  },
  {
   "cell_type": "code",
   "execution_count": 44,
   "metadata": {},
   "outputs": [],
   "source": [
    "w2 = np.array([[0, 0, 1, 0, 0], [0, 1, 1, 1, 0], [1, 1, 1, 1, 1], [0, 1, 1, 1, 0] , [0, 0, 1, 0, 0]])\n",
    "w3 = np.array([[0, 0, 0, 0, 0], [0, 0, 1, 0, 0], [0, 1, 1, 1, 0], [0, 0, 1, 0, 0] , [0, 0, 0, 0, 0]])\n",
    "w4 = np.array([[0, 0, 0, 0, 0], [0, 0, 0, 0, 0], [0, 0, 1, 0, 0], [0, 0, 0, 0, 0] , [0, 0, 0, 0, 0]])"
   ]
  },
  {
   "cell_type": "code",
   "execution_count": 45,
   "metadata": {},
   "outputs": [
    {
     "name": "stderr",
     "output_type": "stream",
     "text": [
      "\n",
      "\n",
      "\n",
      "\n",
      "  0%|          | 0/8 [00:00<?, ?it/s]\u001b[A\u001b[A\u001b[A\u001b[A"
     ]
    },
    {
     "name": "stdout",
     "output_type": "stream",
     "text": [
      "Learning: 1 images\n",
      "Predicting...\n"
     ]
    },
    {
     "name": "stderr",
     "output_type": "stream",
     "text": [
      "\n",
      "\n",
      "\n",
      "\n",
      " 12%|█▎        | 1/8 [15:24<1:47:52, 924.64s/it]\u001b[A\u001b[A\u001b[A\u001b[A"
     ]
    },
    {
     "name": "stdout",
     "output_type": "stream",
     "text": [
      "***Errors***\n",
      "Train: \n",
      "[0.02621484375000005]\n",
      "Test: \n",
      "[0.027609374999999936]\n",
      "Learning: 2 images\n",
      "Predicting...\n"
     ]
    },
    {
     "name": "stderr",
     "output_type": "stream",
     "text": [
      "\n",
      "\n",
      "\n",
      "\n",
      " 25%|██▌       | 2/8 [38:00<1:45:24, 1054.04s/it]\u001b[A\u001b[A\u001b[A\u001b[A"
     ]
    },
    {
     "name": "stdout",
     "output_type": "stream",
     "text": [
      "***Errors***\n",
      "Train: \n",
      "[0.02621484375000005, 0.026400390624999992]\n",
      "Test: \n",
      "[0.027609374999999936, 0.027070312500000027]\n",
      "Learning: 3 images\n",
      "Predicting...\n"
     ]
    },
    {
     "name": "stderr",
     "output_type": "stream",
     "text": [
      "\n",
      "\n",
      "\n",
      "\n",
      " 38%|███▊      | 3/8 [1:07:44<1:46:04, 1272.86s/it]\u001b[A\u001b[A\u001b[A\u001b[A"
     ]
    },
    {
     "name": "stdout",
     "output_type": "stream",
     "text": [
      "***Errors***\n",
      "Train: \n",
      "[0.02621484375000005, 0.026400390624999992, 0.027661458333333222]\n",
      "Test: \n",
      "[0.027609374999999936, 0.027070312500000027, 0.02742578125000006]\n",
      "Learning: 4 images\n",
      "Predicting...\n"
     ]
    },
    {
     "name": "stderr",
     "output_type": "stream",
     "text": [
      "\n",
      "\n",
      "\n",
      "\n",
      " 50%|█████     | 4/8 [1:46:38<1:46:04, 1591.21s/it]\u001b[A\u001b[A\u001b[A\u001b[A"
     ]
    },
    {
     "name": "stdout",
     "output_type": "stream",
     "text": [
      "***Errors***\n",
      "Train: \n",
      "[0.02621484375000005, 0.026400390624999992, 0.027661458333333222, 0.027125976562500043]\n",
      "Test: \n",
      "[0.027609374999999936, 0.027070312500000027, 0.02742578125000006, 0.027365234374999936]\n",
      "Learning: 5 images\n",
      "Predicting...\n"
     ]
    },
    {
     "name": "stderr",
     "output_type": "stream",
     "text": [
      "\n",
      "\n",
      "\n",
      "\n",
      " 62%|██████▎   | 5/8 [2:31:30<1:36:05, 1921.71s/it]\u001b[A\u001b[A\u001b[A\u001b[A"
     ]
    },
    {
     "name": "stdout",
     "output_type": "stream",
     "text": [
      "***Errors***\n",
      "Train: \n",
      "[0.02621484375000005, 0.026400390624999992, 0.027661458333333222, 0.027125976562500043, 0.026650000000000063]\n",
      "Test: \n",
      "[0.027609374999999936, 0.027070312500000027, 0.02742578125000006, 0.027365234374999936, 0.02733398437500001]\n",
      "Learning: 6 images\n",
      "Predicting...\n"
     ]
    },
    {
     "name": "stderr",
     "output_type": "stream",
     "text": [
      "\n",
      "\n",
      "\n",
      "\n",
      " 75%|███████▌  | 6/8 [3:23:22<1:15:57, 2278.64s/it]\u001b[A\u001b[A\u001b[A\u001b[A"
     ]
    },
    {
     "name": "stdout",
     "output_type": "stream",
     "text": [
      "***Errors***\n",
      "Train: \n",
      "[0.02621484375000005, 0.026400390624999992, 0.027661458333333222, 0.027125976562500043, 0.026650000000000063, 0.026558593750000026]\n",
      "Test: \n",
      "[0.027609374999999936, 0.027070312500000027, 0.02742578125000006, 0.027365234374999936, 0.02733398437500001, 0.02730273437499997]\n",
      "Learning: 7 images\n",
      "Predicting...\n"
     ]
    },
    {
     "name": "stderr",
     "output_type": "stream",
     "text": [
      "/opt/conda/envs/kaggle/lib/python3.7/site-packages/joblib/externals/loky/process_executor.py:700: UserWarning: A worker stopped while some jobs were given to the executor. This can be caused by a too short worker timeout or by a memory leak.\n",
      "  \"timeout or by a memory leak.\", UserWarning\n",
      "\n",
      "\n",
      "\n",
      "\n",
      " 88%|████████▊ | 7/8 [4:40:36<49:45, 2985.25s/it]  \u001b[A\u001b[A\u001b[A\u001b[A"
     ]
    },
    {
     "name": "stdout",
     "output_type": "stream",
     "text": [
      "***Errors***\n",
      "Train: \n",
      "[0.02621484375000005, 0.026400390624999992, 0.027661458333333222, 0.027125976562500043, 0.026650000000000063, 0.026558593750000026, 0.026659040178571347]\n",
      "Test: \n",
      "[0.027609374999999936, 0.027070312500000027, 0.02742578125000006, 0.027365234374999936, 0.02733398437500001, 0.02730273437499997, 0.027300781249999906]\n",
      "Learning: 8 images\n",
      "Predicting...\n"
     ]
    },
    {
     "name": "stderr",
     "output_type": "stream",
     "text": [
      "\n",
      "\n",
      "\n",
      "\n",
      "100%|██████████| 8/8 [5:47:21<00:00, 3291.21s/it]\u001b[A\u001b[A\u001b[A\u001b[A\n",
      "\n",
      "\n",
      "\n",
      "\u001b[A\u001b[A\u001b[A\u001b[A"
     ]
    },
    {
     "name": "stdout",
     "output_type": "stream",
     "text": [
      "***Errors***\n",
      "Train: \n",
      "[0.02621484375000005, 0.026400390624999992, 0.027661458333333222, 0.027125976562500043, 0.026650000000000063, 0.026558593750000026, 0.026659040178571347, 0.02686523437499999]\n",
      "Test: \n",
      "[0.027609374999999936, 0.027070312500000027, 0.02742578125000006, 0.027365234374999936, 0.02733398437500001, 0.02730273437499997, 0.027300781249999906, 0.02726953124999998]\n"
     ]
    },
    {
     "data": {
      "image/png": "[encoded data removed]",
      "text/plain": [
       "<Figure size 432x288 with 1 Axes>"
      ]
     },
     "metadata": {
      "needs_background": "light"
     },
     "output_type": "display_data"
    }
   ],
   "source": [
    "windows = [w1, w2, w3, w4]\n",
    "ein_3, eout_3 = learning_curve_multiresolution(train_images[2:], train_output[2:], windows, train_images[:2], operator=[], stride=0, verbose=False, multiproc=False)"
   ]
  },
  {
   "cell_type": "markdown",
   "metadata": {},
   "source": [
    "O que deu o menor erro no teste foi o primeiro conjunto de janelas."
   ]
  },
  {
   "cell_type": "code",
   "execution_count": 48,
   "metadata": {},
   "outputs": [
    {
     "name": "stdout",
     "output_type": "stream",
     "text": [
      "Extracting X: 0m9s\n",
      "Extracting y: 0m11s\n",
      "Extracting X: 0m9s\n",
      "Extracting y: 0m11s\n",
      "Extracting X: 0m9s\n",
      "Extracting y: 0m11s\n",
      "0.026935546875000105\n"
     ]
    }
   ],
   "source": [
    "n_train = 10\n",
    "train_images = [read_img(\"imgs/q1/q1_src\" + str(i) + \".png\") for i in range(1, n_train+1)]\n",
    "train_output = [read_img(\"imgs/q1/q1_dest.png\") for i in range(1, n_train+1)]\n",
    "\n",
    "w1 = np.ones((5, 5), dtype=int)\n",
    "w2 = np.array([[1, 0, 1, 0, 1], [0, 0, 0, 0, 0], [1, 0, 1, 0, 1], [0, 0, 0, 0, 0] , [1, 0, 1, 0, 1]])\n",
    "w3 = np.array([[0, 0, 0, 0, 0], [0, 0, 0, 0, 0], [0, 0, 1, 0, 0], [0, 0, 0, 0, 0] , [0, 0, 0, 0, 0]])\n",
    "\n",
    "windows = [w1, w2, w3]\n",
    "\n",
    "functions = []\n",
    "for window in windows:\n",
    "    X_train, y_train, f, logs = train_w(train_images, train_output, window.shape, window, verbose=False)\n",
    "    functions.append(f)\n",
    "\n",
    "y_pred = [multiresolution_predict(functions, im, windows) for im in train_images]   \n",
    "train_accuracy = accuracy_score(train_output, y_pred)\n",
    "print(1 - train_accuracy)"
   ]
  },
  {
   "cell_type": "code",
   "execution_count": 50,
   "metadata": {},
   "outputs": [
    {
     "name": "stdout",
     "output_type": "stream",
     "text": [
      "O erro treinando com o melhor caso foi de 0.02694\n"
     ]
    }
   ],
   "source": [
    "print(\"O erro treinando com o melhor caso foi de {:.5f}\".format(1 - train_accuracy))"
   ]
  },
  {
   "cell_type": "markdown",
   "metadata": {},
   "source": [
    "### Conclusão\n",
    "\n",
    "O resultado teórico esperado era de que a curva de erro de treino sempre subisse, pois é mais difícil ajustar uma função que minimize o erro em diversas imagens do que apenas em uma só. \n",
    "\n",
    "A curva do erro de teste deveria sempre cair, pois com mais imagens estamos aprendendo melhor a mapear distribuição de entrada em uma saída e isso deveria gerar uma performance de generalização pior.\n",
    "\n",
    "Além disso, também seria esperado que a curva de erro de treino ficasse sempre abaixo da curva de erro de teste.\n",
    "\n",
    "Portanto, o resultado final esperado seria um erro de teste que começasse alto e fosse caindo e convergisse ao erro de treino, que começaria baixo e iria subindo.\n",
    "\n",
    "O resultado observado ficou perto disso, exceto por um ponto que fez com que o erro de treino ficasse maior que a de teste.\n",
    "\n",
    "O provável motivo é que aqui foi feito o sample por imagem. 80% foi usada para treino e 20% para validação, porém, foram pegas as imagens completas. Isso faz com que fique um pouco ruidosa a curva. O perfeito seria ter muitas imagens e a cada iteração treinar de 50 em 50 (50, 100, 150, 200 imagens para cada ponto da curva)."
   ]
  },
  {
   "cell_type": "markdown",
   "metadata": {},
   "source": [
    "# Q2"
   ]
  },
  {
   "cell_type": "markdown",
   "metadata": {},
   "source": [
    "Q2. Considere novamente o problema de filtrar ruído. Utilizando as imagens da pasta imgs/q2/, explore diferentes funções booleanas para filtrar ruído. A operação **abertura** é definida como uma **erosão** seguida por uma **dilatação**, isto é $\\delta_{B2}\\epsilon_{B1}$, onde $B1$ e $B2$ são os elementos estruturantes. De modo semelhante, a função **fechamento** é definida por uma **dilatação** seguida por uma **erosão** ($\\epsilon_{B2}\\delta_{B1}$). Baseado nas funções *erosion* e *dilation* definidas em mac0460_5832/utils.py, teste os seguintes espaços de hipóteses:\n",
    "\n",
    "1. Abertura;\n",
    "2. Fechamento;\n",
    "3. Abertura seguida de fechamento;\n",
    "\n",
    "Para cada espaço de hipóteses, defina diferentes funções variando $B1$ e $B2$ (ou seja, crie as funções de maneira análoga à seguinte definição para um conjunto de aberturas: $\\mathcal{F} = \\{\\psi_{B1B2}: \\psi =  \\delta_{B2}\\epsilon_{B1}, B1, B2 \\subseteq W_{3x3} \\}$, onde $W_{3x3}$ é a janela 3x3). Mostre a função que tem menor erro e verifique o seu desempenho nos dados de teste.\n",
    "\n",
    "Obs: existe no utils.py funções para abertura e fechamento. No entanto, essas funções utilizam o mesmo elemento estruturante para a erosão e dilatação, não permitindo o uso de diferentes elementos estruturantes. "
   ]
  },
  {
   "cell_type": "markdown",
   "metadata": {},
   "source": [
    "### Resolução\n",
    "\n",
    "1. Definir os elementos estruturantes (kernel) possíveis a serem usados como B1 e B2 (foram usadas metade das janelas possíveis);\n",
    "2. Testar os 3 espaços de hipótese com todas as combinações de B1 e B2;\n",
    "3. Selecionar o que apresentar o menor erro e aplicar em uma imagem não usada no cálculo deste (uma de teste)."
   ]
  },
  {
   "cell_type": "code",
   "execution_count": 112,
   "metadata": {
    "collapsed": true
   },
   "outputs": [],
   "source": [
    "n_train = 4\n",
    "train_images = [cv2.imread(\"imgs/q2/src\" + str(i) + \".png\") for i in range(0, n_train+1)]\n",
    "train_output = [cv2.imread(\"imgs/q2/dest.png\") for i in range(1, n_train+1)]"
   ]
  },
  {
   "cell_type": "code",
   "execution_count": 113,
   "metadata": {
    "collapsed": true
   },
   "outputs": [],
   "source": [
    "bs = [np.array(element) for element in list(itertools.product(list(itertools.product([0, 1], repeat=3)), repeat=3))]"
   ]
  },
  {
   "cell_type": "code",
   "execution_count": 114,
   "metadata": {
    "collapsed": true
   },
   "outputs": [],
   "source": [
    "### Exclude structuring elements with zero-center\n",
    "# bs = [b for b in bs if b[2, 2] != 0]\n",
    "\n",
    "bs = [b for i, b in enumerate(bs) if i % 2 == 0]\n",
    "bs = [b for b in bs if np.sum(b) != 0]"
   ]
  },
  {
   "cell_type": "code",
   "execution_count": 115,
   "metadata": {},
   "outputs": [
    {
     "data": {
      "text/plain": [
       "65025"
      ]
     },
     "execution_count": 115,
     "metadata": {},
     "output_type": "execute_result"
    }
   ],
   "source": [
    "import itertools\n",
    "combinations = list(itertools.product(bs, repeat=2))\n",
    "#combinations = combinations[:5000]\n",
    "len(combinations)"
   ]
  },
  {
   "cell_type": "markdown",
   "metadata": {},
   "source": [
    "### Test images"
   ]
  },
  {
   "cell_type": "code",
   "execution_count": 116,
   "metadata": {},
   "outputs": [
    {
     "data": {
      "image/png": "[encoded data removed]",
      "text/plain": [
       "<matplotlib.figure.Figure at 0x11d3f8d30>"
      ]
     },
     "metadata": {},
     "output_type": "display_data"
    }
   ],
   "source": [
    "draw_img_pair(read_img('imgs/q2/test0.png'), read_img('imgs/q2/test1.png'), figsz=(11, 3.5))"
   ]
  },
  {
   "cell_type": "markdown",
   "metadata": {},
   "source": [
    "#### 1. Opening"
   ]
  },
  {
   "cell_type": "code",
   "execution_count": 117,
   "metadata": {
    "collapsed": true
   },
   "outputs": [],
   "source": [
    "from time import time\n",
    "start = time()\n",
    "errors = []\n",
    "for comb in combinations:\n",
    "    error, result = opening_closing(train_images, train_output, opening=True, closing=False, w1=comb[0], w2=comb[0])\n",
    "    errors.append(error)\n",
    "    \n",
    "argmin = np.argmin(np.array(errors)) \n",
    "opening_error = errors[argmin]\n",
    "opening_ws = combinations[argmin]"
   ]
  },
  {
   "cell_type": "code",
   "execution_count": 118,
   "metadata": {},
   "outputs": [
    {
     "name": "stdout",
     "output_type": "stream",
     "text": [
      "Min error with opening: 0.02009999999999996\n",
      "Finish in : 4.48 minutes\n"
     ]
    }
   ],
   "source": [
    "print(\"Min error with opening: {}\".format(opening_error))\n",
    "print(\"Finish in : {:.2f} minutes\".format((time() - start)/60.0))"
   ]
  },
  {
   "cell_type": "code",
   "execution_count": 119,
   "metadata": {},
   "outputs": [
    {
     "data": {
      "image/png": "[encoded data removed]",
      "text/plain": [
       "<matplotlib.figure.Figure at 0x11d3e3eb8>"
      ]
     },
     "metadata": {},
     "output_type": "display_data"
    },
    {
     "name": "stdout",
     "output_type": "stream",
     "text": [
      "0.06250000000000011\n"
     ]
    }
   ],
   "source": [
    "img = cv2.imread('imgs/q2/test0.png', 0)\n",
    "erosion = cv2.erode(img, opening_ws[0], iterations = 1)\n",
    "dilate = cv2.dilate(erosion , opening_ws[1], iterations = 1)\n",
    "draw_img(dilate)\n",
    "\n",
    "print(1 - accuracy_score(img, dilate))"
   ]
  },
  {
   "cell_type": "markdown",
   "metadata": {},
   "source": [
    "#### 2. Closing"
   ]
  },
  {
   "cell_type": "code",
   "execution_count": 120,
   "metadata": {
    "collapsed": true
   },
   "outputs": [],
   "source": [
    "errors = []\n",
    "for comb in combinations:\n",
    "    error, result = opening_closing(train_images, train_output, opening=False, closing=True, w1=comb[0], w2=comb[0])\n",
    "    errors.append(error)\n",
    "    \n",
    "argmin = np.argmin(np.array(errors)) \n",
    "closing_error = errors[argmin]\n",
    "closing_ws = combinations[argmin]"
   ]
  },
  {
   "cell_type": "code",
   "execution_count": 121,
   "metadata": {},
   "outputs": [
    {
     "name": "stdout",
     "output_type": "stream",
     "text": [
      "Min error with closing: 0.024649999999999995\n"
     ]
    }
   ],
   "source": [
    "print(\"Min error with closing: {}\".format(closing_error))"
   ]
  },
  {
   "cell_type": "code",
   "execution_count": 122,
   "metadata": {},
   "outputs": [
    {
     "data": {
      "image/png": "[encoded data removed]",
      "text/plain": [
       "<matplotlib.figure.Figure at 0x11db7d518>"
      ]
     },
     "metadata": {},
     "output_type": "display_data"
    },
    {
     "name": "stdout",
     "output_type": "stream",
     "text": [
      "0.06262500000000004\n"
     ]
    }
   ],
   "source": [
    "img = cv2.imread('imgs/q2/test0.png', 0)\n",
    "dilate = cv2.dilate(img, closing_ws[1], iterations = 1)\n",
    "erosion = cv2.erode(dilate, closing_ws[0], iterations = 1)\n",
    "draw_img(erosion)\n",
    "\n",
    "print(1 - accuracy_score(img, erosion))"
   ]
  },
  {
   "cell_type": "markdown",
   "metadata": {},
   "source": [
    "#### 3. Opening + Closing"
   ]
  },
  {
   "cell_type": "code",
   "execution_count": 123,
   "metadata": {
    "collapsed": true
   },
   "outputs": [],
   "source": [
    "errors = []\n",
    "for comb in combinations:\n",
    "    error, result = opening_closing(train_images, train_output, opening=True, closing=True, w1=comb[0], w2=comb[0])\n",
    "    errors.append(error)\n",
    "    \n",
    "argmin = np.argmin(np.array(errors)) \n",
    "opening_closing_error = errors[argmin]\n",
    "opening_closing_ws = combinations[argmin]"
   ]
  },
  {
   "cell_type": "code",
   "execution_count": 124,
   "metadata": {},
   "outputs": [
    {
     "name": "stdout",
     "output_type": "stream",
     "text": [
      "Min error with opening-closing: 0.01978750000000007\n"
     ]
    }
   ],
   "source": [
    "print(\"Min error with opening-closing: {}\".format(opening_closing_error))"
   ]
  },
  {
   "cell_type": "code",
   "execution_count": 125,
   "metadata": {},
   "outputs": [
    {
     "data": {
      "image/png": "[encoded data removed]",
      "text/plain": [
       "<matplotlib.figure.Figure at 0x11e3264a8>"
      ]
     },
     "metadata": {},
     "output_type": "display_data"
    },
    {
     "name": "stdout",
     "output_type": "stream",
     "text": [
      "0.07837500000000008\n"
     ]
    }
   ],
   "source": [
    "img = cv2.imread('imgs/q2/test0.png', 0)\n",
    "erosion = cv2.erode(img, opening_closing_ws[0], iterations = 1)\n",
    "dilate = cv2.dilate(erosion, opening_closing_ws[1], iterations = 1)\n",
    "\n",
    "dilate = cv2.dilate(dilate, opening_closing_ws[0], iterations = 1)\n",
    "erosion = cv2.erode(dilate, opening_closing_ws[1], iterations = 1)\n",
    "\n",
    "draw_img(erosion)\n",
    "print(1 - accuracy_score(cv2.imread('imgs/q2/dest.png', 0), erosion))"
   ]
  },
  {
   "cell_type": "markdown",
   "metadata": {},
   "source": [
    "### Best result\n",
    "\n",
    "Os resultados foram consistentes: o erro de treinamento foi maior que o erro de teste em todos os casos. \n",
    "\n",
    "Porém, obsevamos que o menor erro de treinamento não fi aquele que gerou o menor erro no teste. Abaixo são colocadas as imagens originais, pós aplicação do melhor filtro no treinamento e o erro gerado."
   ]
  },
  {
   "cell_type": "markdown",
   "metadata": {},
   "source": [
    "### 1. Opening: Test results"
   ]
  },
  {
   "cell_type": "code",
   "execution_count": 126,
   "metadata": {},
   "outputs": [
    {
     "data": {
      "image/png": "[encoded data removed]",
      "text/plain": [
       "<matplotlib.figure.Figure at 0x11b6a8f60>"
      ]
     },
     "metadata": {},
     "output_type": "display_data"
    },
    {
     "data": {
      "image/png": "[encoded data removed]",
      "text/plain": [
       "<matplotlib.figure.Figure at 0x11d588668>"
      ]
     },
     "metadata": {},
     "output_type": "display_data"
    },
    {
     "name": "stdout",
     "output_type": "stream",
     "text": [
      "0.06250000000000011\n"
     ]
    },
    {
     "data": {
      "image/png": "[encoded data removed]",
      "text/plain": [
       "<matplotlib.figure.Figure at 0x11ea1ab38>"
      ]
     },
     "metadata": {},
     "output_type": "display_data"
    },
    {
     "data": {
      "image/png": "[encoded data removed]",
      "text/plain": [
       "<matplotlib.figure.Figure at 0x11f3c3438>"
      ]
     },
     "metadata": {},
     "output_type": "display_data"
    },
    {
     "name": "stdout",
     "output_type": "stream",
     "text": [
      "0.06362499999999993\n"
     ]
    }
   ],
   "source": [
    "img = cv2.imread('imgs/q2/test0.png', 0)\n",
    "erosion = cv2.erode(img, opening_ws[0], iterations = 1)\n",
    "dilate = cv2.dilate(erosion , opening_ws[1], iterations = 1)\n",
    "draw_img(img)\n",
    "draw_img(dilate)\n",
    "print(1 - accuracy_score(img, dilate))\n",
    "\n",
    "img = cv2.imread('imgs/q2/test1.png', 0)\n",
    "erosion = cv2.erode(img, opening_ws[0], iterations = 1)\n",
    "dilate = cv2.dilate(erosion , opening_ws[1], iterations = 1)\n",
    "draw_img(img)\n",
    "draw_img(dilate)\n",
    "print(1 - accuracy_score(img, dilate))"
   ]
  },
  {
   "cell_type": "markdown",
   "metadata": {},
   "source": [
    "### 2. Opening + Closing: Test images"
   ]
  },
  {
   "cell_type": "code",
   "execution_count": 127,
   "metadata": {},
   "outputs": [
    {
     "data": {
      "image/png": "[encoded data removed]",
      "text/plain": [
       "<matplotlib.figure.Figure at 0x11f931ef0>"
      ]
     },
     "metadata": {},
     "output_type": "display_data"
    },
    {
     "data": {
      "image/png": "[encoded data removed]",
      "text/plain": [
       "<matplotlib.figure.Figure at 0x12073fba8>"
      ]
     },
     "metadata": {},
     "output_type": "display_data"
    },
    {
     "name": "stdout",
     "output_type": "stream",
     "text": [
      "0.07837500000000008\n"
     ]
    },
    {
     "data": {
      "image/png": "[encoded data removed]",
      "text/plain": [
       "<matplotlib.figure.Figure at 0x12073f518>"
      ]
     },
     "metadata": {},
     "output_type": "display_data"
    },
    {
     "data": {
      "image/png": "[encoded data removed]",
      "text/plain": [
       "<matplotlib.figure.Figure at 0x11e4814a8>"
      ]
     },
     "metadata": {},
     "output_type": "display_data"
    },
    {
     "name": "stdout",
     "output_type": "stream",
     "text": [
      "0.07906250000000004\n"
     ]
    }
   ],
   "source": [
    "img = cv2.imread('imgs/q2/test0.png', 0)\n",
    "erosion = cv2.erode(img, opening_closing_ws[0], iterations = 1)\n",
    "dilate = cv2.dilate(erosion, opening_closing_ws[1], iterations = 1)\n",
    "\n",
    "dilate = cv2.dilate(dilate, opening_closing_ws[0], iterations = 1)\n",
    "erosion = cv2.erode(dilate, opening_closing_ws[1], iterations = 1)\n",
    "\n",
    "draw_img(img)\n",
    "draw_img(erosion)\n",
    "print(1 - accuracy_score(cv2.imread('imgs/q2/dest.png', 0), erosion))\n",
    "\n",
    "\n",
    "img = cv2.imread('imgs/q2/test1.png', 0)\n",
    "erosion = cv2.erode(img, opening_closing_ws[0], iterations = 1)\n",
    "dilate = cv2.dilate(erosion, opening_closing_ws[1], iterations = 1)\n",
    "\n",
    "dilate = cv2.dilate(dilate, opening_closing_ws[0], iterations = 1)\n",
    "erosion = cv2.erode(dilate, opening_closing_ws[1], iterations = 1)\n",
    "\n",
    "draw_img(img)\n",
    "draw_img(erosion)\n",
    "print(1 - accuracy_score(cv2.imread('imgs/q2/dest.png', 0), erosion))"
   ]
  },
  {
   "cell_type": "code",
   "execution_count": 128,
   "metadata": {},
   "outputs": [
    {
     "data": {
      "image/png": "[encoded data removed]",
      "text/plain": [
       "<matplotlib.figure.Figure at 0x11d580cc0>"
      ]
     },
     "metadata": {},
     "output_type": "display_data"
    }
   ],
   "source": [
    "draw_img(opening_closing_ws[0])"
   ]
  },
  {
   "cell_type": "code",
   "execution_count": 129,
   "metadata": {},
   "outputs": [
    {
     "data": {
      "image/png": "[encoded data removed]",
      "text/plain": [
       "<matplotlib.figure.Figure at 0x1211600f0>"
      ]
     },
     "metadata": {},
     "output_type": "display_data"
    }
   ],
   "source": [
    "draw_img(opening_closing_ws[1])"
   ]
  },
  {
   "cell_type": "code",
   "execution_count": null,
   "metadata": {
    "collapsed": true
   },
   "outputs": [],
   "source": []
  }
 ],
 "metadata": {
  "kernelspec": {
   "display_name": "Python [conda env:kaggle]",
   "language": "python",
   "name": "conda-env-kaggle-py"
  },
  "language_info": {
   "codemirror_mode": {
    "name": "ipython",
    "version": 3
   },
   "file_extension": ".py",
   "mimetype": "text/x-python",
   "name": "python",
   "nbconvert_exporter": "python",
   "pygments_lexer": "ipython3",
   "version": "3.7.0"
  }
 },
 "nbformat": 4,
 "nbformat_minor": 2
}
